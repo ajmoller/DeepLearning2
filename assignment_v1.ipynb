{
  "cells": [
    {
      "cell_type": "code",
      "execution_count": null,
      "metadata": {
        "id": "mtlSwrMhiljI"
      },
      "outputs": [],
      "source": []
    },
    {
      "cell_type": "markdown",
      "metadata": {
        "id": "MXdkRzcRil19"
      },
      "source": [
        "### Importing packages and dataset"
      ]
    },
    {
      "cell_type": "code",
      "execution_count": 1,
      "metadata": {
        "id": "9gUs_lnhaMNz"
      },
      "outputs": [],
      "source": [
        "import sys\n",
        "assert sys.version_info >= (3, 5)\n",
        "import numpy as np\n",
        "import pandas as pd\n",
        "import matplotlib.pyplot as plt\n",
        "import torch\n",
        "from torch import stack\n",
        "from torch import nn\n",
        "from torch import optim\n",
        "from torch.utils.data import Dataset, DataLoader\n",
        "import torchvision\n",
        "import torchvision.transforms as transforms\n",
        "import tensorflow as tf\n",
        "from tensorflow import keras\n",
        "from google.colab import drive\n",
        "import seaborn as sns; sns.set()"
      ]
    },
    {
      "cell_type": "code",
      "execution_count": 2,
      "metadata": {
        "colab": {
          "base_uri": "https://localhost:8080/"
        },
        "id": "_B6YK9Y-q2xD",
        "outputId": "30b04b19-2f30-42b1-d7e1-f152d36640b3"
      },
      "outputs": [
        {
          "output_type": "stream",
          "name": "stdout",
          "text": [
            "Mounted at /content/gdrive\n"
          ]
        }
      ],
      "source": [
        "drive.mount('/content/gdrive')\n",
        "df_train = pd.read_csv(\"gdrive/My Drive/fashion-mnist_train.csv\")\n",
        "df_test = pd.read_csv(\"gdrive/My Drive/fashion-mnist_test.csv\")"
      ]
    },
    {
      "cell_type": "code",
      "execution_count": 3,
      "metadata": {
        "colab": {
          "base_uri": "https://localhost:8080/",
          "height": 236
        },
        "id": "I2qkMuswuIlf",
        "outputId": "7fdfb7b2-c8c6-4e3a-91d1-fdbe8853531e"
      },
      "outputs": [
        {
          "output_type": "execute_result",
          "data": {
            "text/plain": [
              "   label  pixel1  pixel2  pixel3  pixel4  pixel5  pixel6  pixel7  pixel8  \\\n",
              "0      2       0       0       0       0       0       0       0       0   \n",
              "1      9       0       0       0       0       0       0       0       0   \n",
              "2      6       0       0       0       0       0       0       0       5   \n",
              "3      0       0       0       0       1       2       0       0       0   \n",
              "4      3       0       0       0       0       0       0       0       0   \n",
              "\n",
              "   pixel9  ...  pixel775  pixel776  pixel777  pixel778  pixel779  pixel780  \\\n",
              "0       0  ...         0         0         0         0         0         0   \n",
              "1       0  ...         0         0         0         0         0         0   \n",
              "2       0  ...         0         0         0        30        43         0   \n",
              "3       0  ...         3         0         0         0         0         1   \n",
              "4       0  ...         0         0         0         0         0         0   \n",
              "\n",
              "   pixel781  pixel782  pixel783  pixel784  \n",
              "0         0         0         0         0  \n",
              "1         0         0         0         0  \n",
              "2         0         0         0         0  \n",
              "3         0         0         0         0  \n",
              "4         0         0         0         0  \n",
              "\n",
              "[5 rows x 785 columns]"
            ],
            "text/html": [
              "\n",
              "  <div id=\"df-4e660cb1-fc4a-4f38-a82d-b554ee9ad476\">\n",
              "    <div class=\"colab-df-container\">\n",
              "      <div>\n",
              "<style scoped>\n",
              "    .dataframe tbody tr th:only-of-type {\n",
              "        vertical-align: middle;\n",
              "    }\n",
              "\n",
              "    .dataframe tbody tr th {\n",
              "        vertical-align: top;\n",
              "    }\n",
              "\n",
              "    .dataframe thead th {\n",
              "        text-align: right;\n",
              "    }\n",
              "</style>\n",
              "<table border=\"1\" class=\"dataframe\">\n",
              "  <thead>\n",
              "    <tr style=\"text-align: right;\">\n",
              "      <th></th>\n",
              "      <th>label</th>\n",
              "      <th>pixel1</th>\n",
              "      <th>pixel2</th>\n",
              "      <th>pixel3</th>\n",
              "      <th>pixel4</th>\n",
              "      <th>pixel5</th>\n",
              "      <th>pixel6</th>\n",
              "      <th>pixel7</th>\n",
              "      <th>pixel8</th>\n",
              "      <th>pixel9</th>\n",
              "      <th>...</th>\n",
              "      <th>pixel775</th>\n",
              "      <th>pixel776</th>\n",
              "      <th>pixel777</th>\n",
              "      <th>pixel778</th>\n",
              "      <th>pixel779</th>\n",
              "      <th>pixel780</th>\n",
              "      <th>pixel781</th>\n",
              "      <th>pixel782</th>\n",
              "      <th>pixel783</th>\n",
              "      <th>pixel784</th>\n",
              "    </tr>\n",
              "  </thead>\n",
              "  <tbody>\n",
              "    <tr>\n",
              "      <th>0</th>\n",
              "      <td>2</td>\n",
              "      <td>0</td>\n",
              "      <td>0</td>\n",
              "      <td>0</td>\n",
              "      <td>0</td>\n",
              "      <td>0</td>\n",
              "      <td>0</td>\n",
              "      <td>0</td>\n",
              "      <td>0</td>\n",
              "      <td>0</td>\n",
              "      <td>...</td>\n",
              "      <td>0</td>\n",
              "      <td>0</td>\n",
              "      <td>0</td>\n",
              "      <td>0</td>\n",
              "      <td>0</td>\n",
              "      <td>0</td>\n",
              "      <td>0</td>\n",
              "      <td>0</td>\n",
              "      <td>0</td>\n",
              "      <td>0</td>\n",
              "    </tr>\n",
              "    <tr>\n",
              "      <th>1</th>\n",
              "      <td>9</td>\n",
              "      <td>0</td>\n",
              "      <td>0</td>\n",
              "      <td>0</td>\n",
              "      <td>0</td>\n",
              "      <td>0</td>\n",
              "      <td>0</td>\n",
              "      <td>0</td>\n",
              "      <td>0</td>\n",
              "      <td>0</td>\n",
              "      <td>...</td>\n",
              "      <td>0</td>\n",
              "      <td>0</td>\n",
              "      <td>0</td>\n",
              "      <td>0</td>\n",
              "      <td>0</td>\n",
              "      <td>0</td>\n",
              "      <td>0</td>\n",
              "      <td>0</td>\n",
              "      <td>0</td>\n",
              "      <td>0</td>\n",
              "    </tr>\n",
              "    <tr>\n",
              "      <th>2</th>\n",
              "      <td>6</td>\n",
              "      <td>0</td>\n",
              "      <td>0</td>\n",
              "      <td>0</td>\n",
              "      <td>0</td>\n",
              "      <td>0</td>\n",
              "      <td>0</td>\n",
              "      <td>0</td>\n",
              "      <td>5</td>\n",
              "      <td>0</td>\n",
              "      <td>...</td>\n",
              "      <td>0</td>\n",
              "      <td>0</td>\n",
              "      <td>0</td>\n",
              "      <td>30</td>\n",
              "      <td>43</td>\n",
              "      <td>0</td>\n",
              "      <td>0</td>\n",
              "      <td>0</td>\n",
              "      <td>0</td>\n",
              "      <td>0</td>\n",
              "    </tr>\n",
              "    <tr>\n",
              "      <th>3</th>\n",
              "      <td>0</td>\n",
              "      <td>0</td>\n",
              "      <td>0</td>\n",
              "      <td>0</td>\n",
              "      <td>1</td>\n",
              "      <td>2</td>\n",
              "      <td>0</td>\n",
              "      <td>0</td>\n",
              "      <td>0</td>\n",
              "      <td>0</td>\n",
              "      <td>...</td>\n",
              "      <td>3</td>\n",
              "      <td>0</td>\n",
              "      <td>0</td>\n",
              "      <td>0</td>\n",
              "      <td>0</td>\n",
              "      <td>1</td>\n",
              "      <td>0</td>\n",
              "      <td>0</td>\n",
              "      <td>0</td>\n",
              "      <td>0</td>\n",
              "    </tr>\n",
              "    <tr>\n",
              "      <th>4</th>\n",
              "      <td>3</td>\n",
              "      <td>0</td>\n",
              "      <td>0</td>\n",
              "      <td>0</td>\n",
              "      <td>0</td>\n",
              "      <td>0</td>\n",
              "      <td>0</td>\n",
              "      <td>0</td>\n",
              "      <td>0</td>\n",
              "      <td>0</td>\n",
              "      <td>...</td>\n",
              "      <td>0</td>\n",
              "      <td>0</td>\n",
              "      <td>0</td>\n",
              "      <td>0</td>\n",
              "      <td>0</td>\n",
              "      <td>0</td>\n",
              "      <td>0</td>\n",
              "      <td>0</td>\n",
              "      <td>0</td>\n",
              "      <td>0</td>\n",
              "    </tr>\n",
              "  </tbody>\n",
              "</table>\n",
              "<p>5 rows × 785 columns</p>\n",
              "</div>\n",
              "      <button class=\"colab-df-convert\" onclick=\"convertToInteractive('df-4e660cb1-fc4a-4f38-a82d-b554ee9ad476')\"\n",
              "              title=\"Convert this dataframe to an interactive table.\"\n",
              "              style=\"display:none;\">\n",
              "        \n",
              "  <svg xmlns=\"http://www.w3.org/2000/svg\" height=\"24px\"viewBox=\"0 0 24 24\"\n",
              "       width=\"24px\">\n",
              "    <path d=\"M0 0h24v24H0V0z\" fill=\"none\"/>\n",
              "    <path d=\"M18.56 5.44l.94 2.06.94-2.06 2.06-.94-2.06-.94-.94-2.06-.94 2.06-2.06.94zm-11 1L8.5 8.5l.94-2.06 2.06-.94-2.06-.94L8.5 2.5l-.94 2.06-2.06.94zm10 10l.94 2.06.94-2.06 2.06-.94-2.06-.94-.94-2.06-.94 2.06-2.06.94z\"/><path d=\"M17.41 7.96l-1.37-1.37c-.4-.4-.92-.59-1.43-.59-.52 0-1.04.2-1.43.59L10.3 9.45l-7.72 7.72c-.78.78-.78 2.05 0 2.83L4 21.41c.39.39.9.59 1.41.59.51 0 1.02-.2 1.41-.59l7.78-7.78 2.81-2.81c.8-.78.8-2.07 0-2.86zM5.41 20L4 18.59l7.72-7.72 1.47 1.35L5.41 20z\"/>\n",
              "  </svg>\n",
              "      </button>\n",
              "      \n",
              "  <style>\n",
              "    .colab-df-container {\n",
              "      display:flex;\n",
              "      flex-wrap:wrap;\n",
              "      gap: 12px;\n",
              "    }\n",
              "\n",
              "    .colab-df-convert {\n",
              "      background-color: #E8F0FE;\n",
              "      border: none;\n",
              "      border-radius: 50%;\n",
              "      cursor: pointer;\n",
              "      display: none;\n",
              "      fill: #1967D2;\n",
              "      height: 32px;\n",
              "      padding: 0 0 0 0;\n",
              "      width: 32px;\n",
              "    }\n",
              "\n",
              "    .colab-df-convert:hover {\n",
              "      background-color: #E2EBFA;\n",
              "      box-shadow: 0px 1px 2px rgba(60, 64, 67, 0.3), 0px 1px 3px 1px rgba(60, 64, 67, 0.15);\n",
              "      fill: #174EA6;\n",
              "    }\n",
              "\n",
              "    [theme=dark] .colab-df-convert {\n",
              "      background-color: #3B4455;\n",
              "      fill: #D2E3FC;\n",
              "    }\n",
              "\n",
              "    [theme=dark] .colab-df-convert:hover {\n",
              "      background-color: #434B5C;\n",
              "      box-shadow: 0px 1px 3px 1px rgba(0, 0, 0, 0.15);\n",
              "      filter: drop-shadow(0px 1px 2px rgba(0, 0, 0, 0.3));\n",
              "      fill: #FFFFFF;\n",
              "    }\n",
              "  </style>\n",
              "\n",
              "      <script>\n",
              "        const buttonEl =\n",
              "          document.querySelector('#df-4e660cb1-fc4a-4f38-a82d-b554ee9ad476 button.colab-df-convert');\n",
              "        buttonEl.style.display =\n",
              "          google.colab.kernel.accessAllowed ? 'block' : 'none';\n",
              "\n",
              "        async function convertToInteractive(key) {\n",
              "          const element = document.querySelector('#df-4e660cb1-fc4a-4f38-a82d-b554ee9ad476');\n",
              "          const dataTable =\n",
              "            await google.colab.kernel.invokeFunction('convertToInteractive',\n",
              "                                                     [key], {});\n",
              "          if (!dataTable) return;\n",
              "\n",
              "          const docLinkHtml = 'Like what you see? Visit the ' +\n",
              "            '<a target=\"_blank\" href=https://colab.research.google.com/notebooks/data_table.ipynb>data table notebook</a>'\n",
              "            + ' to learn more about interactive tables.';\n",
              "          element.innerHTML = '';\n",
              "          dataTable['output_type'] = 'display_data';\n",
              "          await google.colab.output.renderOutput(dataTable, element);\n",
              "          const docLink = document.createElement('div');\n",
              "          docLink.innerHTML = docLinkHtml;\n",
              "          element.appendChild(docLink);\n",
              "        }\n",
              "      </script>\n",
              "    </div>\n",
              "  </div>\n",
              "  "
            ]
          },
          "metadata": {},
          "execution_count": 3
        }
      ],
      "source": [
        "df_train.head()"
      ]
    },
    {
      "cell_type": "code",
      "execution_count": 4,
      "metadata": {
        "id": "_6UyorAcvTc6"
      },
      "outputs": [],
      "source": [
        "y_train = df_train[[\"label\"]]\n",
        "df_train = df_train.to_numpy()\n",
        "X_train = df_train[:,1:].reshape(df_train.shape[0],28,28).astype( 'float32' )\n",
        "X_train = X_train/255.0"
      ]
    },
    {
      "cell_type": "code",
      "execution_count": 5,
      "metadata": {
        "colab": {
          "base_uri": "https://localhost:8080/"
        },
        "id": "YLVNI8kc43St",
        "outputId": "e3377bae-b878-44cd-c248-d43cc7235f43"
      },
      "outputs": [
        {
          "output_type": "execute_result",
          "data": {
            "text/plain": [
              "(60000, 28, 28)"
            ]
          },
          "metadata": {},
          "execution_count": 5
        }
      ],
      "source": [
        "X_train.shape"
      ]
    },
    {
      "cell_type": "code",
      "execution_count": 6,
      "metadata": {
        "colab": {
          "base_uri": "https://localhost:8080/"
        },
        "id": "TMulHG0o41U-",
        "outputId": "da2f6a84-7f8a-42c6-eeec-0bb0c7aa99f3"
      },
      "outputs": [
        {
          "output_type": "execute_result",
          "data": {
            "text/plain": [
              "(60000, 1)"
            ]
          },
          "metadata": {},
          "execution_count": 6
        }
      ],
      "source": [
        "y_train.shape"
      ]
    },
    {
      "cell_type": "code",
      "execution_count": 7,
      "metadata": {
        "colab": {
          "base_uri": "https://localhost:8080/"
        },
        "id": "uyCkfnb_w8Mr",
        "outputId": "cfedf296-e8c4-4c07-93a5-2fbd665857a2"
      },
      "outputs": [
        {
          "output_type": "execute_result",
          "data": {
            "text/plain": [
              "(10000, 785)"
            ]
          },
          "metadata": {},
          "execution_count": 7
        }
      ],
      "source": [
        "df_test.shape"
      ]
    },
    {
      "cell_type": "code",
      "execution_count": 8,
      "metadata": {
        "id": "9DSmZ-uww_Nr"
      },
      "outputs": [],
      "source": [
        "df_valid, df_test = df_test[:5000], df_test[5000:] "
      ]
    },
    {
      "cell_type": "code",
      "execution_count": 9,
      "metadata": {
        "id": "eGsvA0J4Cy54"
      },
      "outputs": [],
      "source": [
        "y_test = df_test[[\"label\"]]\n",
        "df_test = df_test.to_numpy()\n",
        "X_test = df_test[:,1:].reshape(df_test.shape[0],28,28).astype( 'float32' )\n",
        "X_test = X_test/255.0"
      ]
    },
    {
      "cell_type": "code",
      "execution_count": 10,
      "metadata": {
        "colab": {
          "base_uri": "https://localhost:8080/"
        },
        "id": "NcybxGi4E3X7",
        "outputId": "f18b5780-b1c1-408f-9f7a-a77d803c23f1"
      },
      "outputs": [
        {
          "output_type": "execute_result",
          "data": {
            "text/plain": [
              "(5000, 28, 28)"
            ]
          },
          "metadata": {},
          "execution_count": 10
        }
      ],
      "source": [
        "X_test.shape"
      ]
    },
    {
      "cell_type": "code",
      "execution_count": 11,
      "metadata": {
        "colab": {
          "base_uri": "https://localhost:8080/"
        },
        "id": "HGo0-n0M8tn5",
        "outputId": "e9f5ec1e-a161-417e-e86a-716508f26538"
      },
      "outputs": [
        {
          "output_type": "execute_result",
          "data": {
            "text/plain": [
              "(5000, 1)"
            ]
          },
          "metadata": {},
          "execution_count": 11
        }
      ],
      "source": [
        "y_valid = df_valid[[\"label\"]]\n",
        "df_valid = df_valid.to_numpy()\n",
        "X_valid = df_valid[:,1:].reshape(df_valid.shape[0],28,28).astype( 'float32' )\n",
        "X_test = X_test/255.0\n",
        "y_valid.shape"
      ]
    },
    {
      "cell_type": "code",
      "execution_count": 12,
      "metadata": {
        "colab": {
          "base_uri": "https://localhost:8080/",
          "height": 268
        },
        "id": "X-VMlcdy1pit",
        "outputId": "c97f08ac-07b2-4d5d-ab5d-f1ebbaf2a081"
      },
      "outputs": [
        {
          "output_type": "display_data",
          "data": {
            "text/plain": [
              "<Figure size 432x288 with 1 Axes>"
            ],
            "image/png": "[encoded data removed]"
          },
          "metadata": {}
        }
      ],
      "source": [
        "image = X_train[0]\n",
        "fig = plt.figure\n",
        "plt.imshow(image, cmap = 'gray')\n",
        "plt.show()"
      ]
    },
    {
      "cell_type": "markdown",
      "metadata": {
        "id": "hHLtWEimi34f"
      },
      "source": [
        "### Defining a baseline CNN model"
      ]
    },
    {
      "cell_type": "code",
      "execution_count": 13,
      "metadata": {
        "id": "GUWdGjMe7p2Z"
      },
      "outputs": [],
      "source": [
        "n_train = 60000\n",
        "n_valid = 784\n",
        "# number and size of hidden layers\n",
        "hiddensizes = [60, 30, 25] \n",
        "# activation function to be used by hidden layers\n",
        "actfn = \"relu\"\n",
        "# optimiser and learning rate\n",
        "optimizer = keras.optimizers.Adam\n",
        "# learning rate\n",
        "learningrate = 0.001\n",
        "# size of batch and number of epochs\n",
        "batch_size = 50\n",
        "n_epochs = 20\n",
        "def model_cnn(hiddensizes, actfn, optimizer, learningrate=0):\n",
        "    model = keras.models.Sequential()\n",
        "    model.add(keras.layers.Conv2D(filters=hiddensizes[0], kernel_size=3, strides=1, activation=actfn, padding=\"same\", \n",
        "                                  input_shape=[28, 28, 1]))    # input layer goes into this 2D convolution\n",
        "    model.add(keras.layers.MaxPooling2D(pool_size=2))          # Pool (downsize)\n",
        "    for n in hiddensizes[1:-1]:\n",
        "        model.add(keras.layers.Conv2D(filters=n, kernel_size=3, strides=1, padding=\"same\", activation=actfn)) \n",
        "        model.add(keras.layers.MaxPooling2D(pool_size=2))          # Pool (downsize)\n",
        "    model.add(keras.layers.Conv2D(filters=hiddensizes[-1], kernel_size=3, strides=1, padding=\"same\", activation=actfn)) \n",
        "    model.add(keras.layers.Flatten())                          # unravel into a 1D vector\n",
        "    model.add(keras.layers.Dense(10, activation = \"softmax\"))  # 10 classes for this dataset\n",
        "    model.compile(loss=\"sparse_categorical_crossentropy\", optimizer=optimizer(learning_rate=learningrate), metrics=[\"accuracy\"])   \n",
        "    return model"
      ]
    },
    {
      "cell_type": "code",
      "execution_count": null,
      "metadata": {
        "id": "3yvnOGBx9HDv"
      },
      "outputs": [],
      "source": [
        "# early stopping callback to help set a limit of runs\n",
        "early_stopping_cb = keras.callbacks.EarlyStopping(monitor='val_accuracy', patience=5, restore_best_weights=True) "
      ]
    },
    {
      "cell_type": "code",
      "execution_count": 165,
      "metadata": {
        "id": "MfxYdY8x8g2l"
      },
      "outputs": [],
      "source": [
        "def do_all(hiddensizes, actfn, optimizer, learningrate, n_train, n_valid, n_epochs, batch_size, further_callbacks=[]):\n",
        "    if further_callbacks != []:\n",
        "        callbacks = further_callbacks\n",
        "    else:\n",
        "        callbacks = [early_stopping_cb]\n",
        "    model = model_cnn(hiddensizes, actfn, optimizer, learningrate)\n",
        "    history = model.fit(X_train[:n_train,:,:], y_train[:n_train], epochs=n_epochs, callbacks = callbacks,\n",
        "                        validation_data=(X_valid[:n_valid,:,:], y_valid[:n_valid]))\n",
        "    max_val_acc = np.max(history.history['val_accuracy'])\n",
        "    return (max_val_acc, history, model)"
      ]
    },
    {
      "cell_type": "code",
      "execution_count": null,
      "metadata": {
        "colab": {
          "base_uri": "https://localhost:8080/"
        },
        "id": "qJK2kde59Hp7",
        "outputId": "89e7dcce-a63f-4bba-e4a1-bae7eeb149f9"
      },
      "outputs": [
        {
          "name": "stdout",
          "output_type": "stream",
          "text": [
            "Epoch 1/20\n",
            "1875/1875 [==============================] - 125s 66ms/step - loss: 0.4445 - accuracy: 0.8417 - val_loss: 33.6246 - val_accuracy: 0.8801\n",
            "Epoch 2/20\n",
            "1875/1875 [==============================] - 122s 65ms/step - loss: 0.2980 - accuracy: 0.8929 - val_loss: 24.0453 - val_accuracy: 0.9018\n",
            "Epoch 3/20\n",
            "1875/1875 [==============================] - 123s 66ms/step - loss: 0.2577 - accuracy: 0.9068 - val_loss: 32.2996 - val_accuracy: 0.8673\n",
            "Epoch 4/20\n",
            "1875/1875 [==============================] - 124s 66ms/step - loss: 0.2338 - accuracy: 0.9153 - val_loss: 25.6315 - val_accuracy: 0.8916\n",
            "Epoch 5/20\n",
            "1875/1875 [==============================] - 122s 65ms/step - loss: 0.2133 - accuracy: 0.9223 - val_loss: 23.6020 - val_accuracy: 0.8814\n",
            "Epoch 6/20\n",
            "1875/1875 [==============================] - 122s 65ms/step - loss: 0.1982 - accuracy: 0.9276 - val_loss: 37.0744 - val_accuracy: 0.8712\n",
            "Epoch 7/20\n",
            "1875/1875 [==============================] - 120s 64ms/step - loss: 0.1845 - accuracy: 0.9334 - val_loss: 31.9678 - val_accuracy: 0.8635\n",
            "Model: \"sequential\"\n",
            "_________________________________________________________________\n",
            " Layer (type)                Output Shape              Param #   \n",
            "=================================================================\n",
            " conv2d (Conv2D)             (None, 28, 28, 60)        600       \n",
            "                                                                 \n",
            " max_pooling2d (MaxPooling2D  (None, 14, 14, 60)       0         \n",
            " )                                                               \n",
            "                                                                 \n",
            " conv2d_1 (Conv2D)           (None, 14, 14, 30)        16230     \n",
            "                                                                 \n",
            " max_pooling2d_1 (MaxPooling  (None, 7, 7, 30)         0         \n",
            " 2D)                                                             \n",
            "                                                                 \n",
            " conv2d_2 (Conv2D)           (None, 7, 7, 25)          6775      \n",
            "                                                                 \n",
            " flatten (Flatten)           (None, 1225)              0         \n",
            "                                                                 \n",
            " dense (Dense)               (None, 10)                12260     \n",
            "                                                                 \n",
            "=================================================================\n",
            "Total params: 35,865\n",
            "Trainable params: 35,865\n",
            "Non-trainable params: 0\n",
            "_________________________________________________________________\n"
          ]
        }
      ],
      "source": [
        "# Function that tests the model above\n",
        "valacc, history, model = do_all(hiddensizes, actfn, optimizer, learningrate, n_train, n_valid, n_epochs, batch_size)\n",
        "model.summary()"
      ]
    },
    {
      "cell_type": "markdown",
      "metadata": {
        "id": "XDO6mXjJiYPf"
      },
      "source": [
        "### CNN: Model comparison"
      ]
    },
    {
      "cell_type": "markdown",
      "metadata": {
        "id": "dku8TEJjjkm_"
      },
      "source": [
        "###### I decided to increase the hidden sizes. First I tested a smaller learning rate. "
      ]
    },
    {
      "cell_type": "code",
      "execution_count": null,
      "metadata": {
        "id": "PghK31VgYRPr"
      },
      "outputs": [],
      "source": [
        "# Model 1 with LR 0.0001\n",
        "n_train = 60000\n",
        "n_valid = 784\n",
        "hiddensizes = [100, 30, 20] \n",
        "# activation function to be used by hidden layers\n",
        "actfn = \"relu\"\n",
        "# optimiser and learning rate\n",
        "optimizer = keras.optimizers.Adam\n",
        "# learning rate\n",
        "learningrate = 0.0001\n",
        "# size of batch and number of epochs\n",
        "batch_size = 50\n",
        "n_epochs = 10\n",
        "\n",
        "def model_cnn(hiddensizes, actfn, optimizer, learningrate):\n",
        "    model = keras.models.Sequential()\n",
        "    model.add(keras.layers.Conv2D(filters=hiddensizes[0], kernel_size=3, strides=1, activation=actfn, padding=\"same\", input_shape=[28, 28, 1]))\n",
        "    model.add(keras.layers.MaxPooling2D(pool_size=2))\n",
        "\n",
        "    for n in hiddensizes[1:-1]:\n",
        "        model.add(keras.layers.Conv2D(filters=n, kernel_size=3, strides=1, padding=\"same\", activation=actfn)) \n",
        "        model.add(keras.layers.MaxPooling2D(pool_size=2))          # Pool (downsize)\n",
        "    model.add(keras.layers.Conv2D(filters=hiddensizes[-1], kernel_size=3, strides=1, padding=\"same\", activation=actfn)) \n",
        "    model.add(keras.layers.Flatten())                          # unravel into a 1D vector\n",
        "    model.add(keras.layers.Dense(10, activation = \"softmax\"))  # 10 classes for this dataset\n",
        "    model.compile(loss=\"sparse_categorical_crossentropy\", optimizer=optimizer(learning_rate=learningrate), metrics=[\"accuracy\"])   \n",
        "    return model"
      ]
    },
    {
      "cell_type": "code",
      "execution_count": null,
      "metadata": {
        "colab": {
          "base_uri": "https://localhost:8080/"
        },
        "id": "ut0RlGDGYTKe",
        "outputId": "7856bf88-11c4-4989-cf16-0177d0813146"
      },
      "outputs": [
        {
          "name": "stdout",
          "output_type": "stream",
          "text": [
            "Epoch 1/10\n",
            "1875/1875 [==============================] - 172s 92ms/step - loss: 0.7456 - accuracy: 0.7320 - val_loss: 65.2549 - val_accuracy: 0.7717\n",
            "Epoch 2/10\n",
            "1875/1875 [==============================] - 171s 91ms/step - loss: 0.4815 - accuracy: 0.8278 - val_loss: 49.7254 - val_accuracy: 0.8214\n",
            "Epoch 3/10\n",
            "1875/1875 [==============================] - 170s 91ms/step - loss: 0.4259 - accuracy: 0.8490 - val_loss: 54.3202 - val_accuracy: 0.8304\n",
            "Epoch 4/10\n",
            "1875/1875 [==============================] - 170s 91ms/step - loss: 0.3951 - accuracy: 0.8591 - val_loss: 56.3273 - val_accuracy: 0.8176\n",
            "Epoch 5/10\n",
            "1875/1875 [==============================] - 170s 91ms/step - loss: 0.3718 - accuracy: 0.8681 - val_loss: 61.1163 - val_accuracy: 0.8240\n",
            "Epoch 6/10\n",
            "1875/1875 [==============================] - 171s 91ms/step - loss: 0.3534 - accuracy: 0.8745 - val_loss: 50.0909 - val_accuracy: 0.8355\n",
            "Epoch 7/10\n",
            "1875/1875 [==============================] - 170s 91ms/step - loss: 0.3379 - accuracy: 0.8808 - val_loss: 59.1187 - val_accuracy: 0.8214\n",
            "Epoch 8/10\n",
            "1875/1875 [==============================] - 170s 91ms/step - loss: 0.3253 - accuracy: 0.8855 - val_loss: 71.3922 - val_accuracy: 0.8112\n",
            "Epoch 9/10\n",
            "1875/1875 [==============================] - 169s 90ms/step - loss: 0.3141 - accuracy: 0.8886 - val_loss: 52.9495 - val_accuracy: 0.8355\n",
            "Epoch 10/10\n",
            "1875/1875 [==============================] - 170s 91ms/step - loss: 0.3060 - accuracy: 0.8912 - val_loss: 51.8126 - val_accuracy: 0.8342\n",
            "Model: \"sequential_1\"\n",
            "_________________________________________________________________\n",
            " Layer (type)                Output Shape              Param #   \n",
            "=================================================================\n",
            " conv2d_3 (Conv2D)           (None, 28, 28, 100)       1000      \n",
            "                                                                 \n",
            " max_pooling2d_2 (MaxPooling  (None, 14, 14, 100)      0         \n",
            " 2D)                                                             \n",
            "                                                                 \n",
            " conv2d_4 (Conv2D)           (None, 14, 14, 30)        27030     \n",
            "                                                                 \n",
            " max_pooling2d_3 (MaxPooling  (None, 7, 7, 30)         0         \n",
            " 2D)                                                             \n",
            "                                                                 \n",
            " conv2d_5 (Conv2D)           (None, 7, 7, 20)          5420      \n",
            "                                                                 \n",
            " flatten_1 (Flatten)         (None, 980)               0         \n",
            "                                                                 \n",
            " dense_1 (Dense)             (None, 10)                9810      \n",
            "                                                                 \n",
            "=================================================================\n",
            "Total params: 43,260\n",
            "Trainable params: 43,260\n",
            "Non-trainable params: 0\n",
            "_________________________________________________________________\n"
          ]
        }
      ],
      "source": [
        "valacc, history, model = do_all(hiddensizes, actfn, optimizer, learningrate, n_train, n_valid, n_epochs, batch_size)\n",
        "model.summary()"
      ]
    },
    {
      "cell_type": "markdown",
      "metadata": {
        "id": "39ebBcpSl9BB"
      },
      "source": [
        "###### Accuracy appeared to improve using the same LR as the baseline."
      ]
    },
    {
      "cell_type": "code",
      "execution_count": null,
      "metadata": {
        "id": "zhNuSe1UfYwr"
      },
      "outputs": [],
      "source": [
        "# Model 2 \n",
        "# Baseline with LR 0.001\n",
        "\n",
        "n_train = 60000\n",
        "n_valid = 784\n",
        "hiddensizes = [100, 30, 20] \n",
        "# activation function to be used by hidden layers\n",
        "actfn = \"relu\"\n",
        "# optimiser and learning rate\n",
        "optimizer = keras.optimizers.Adam\n",
        "# learning rate\n",
        "learningrate = 0.001\n",
        "# size of batch and number of epochs\n",
        "batch_size = 50\n",
        "n_epochs = 10\n",
        "\n",
        "def model_cnn(hiddensizes, actfn, optimizer, learningrate):\n",
        "    model = keras.models.Sequential()\n",
        "    model.add(keras.layers.Conv2D(filters=hiddensizes[0], kernel_size=3, strides=1, activation=actfn, padding=\"same\", input_shape=[28, 28, 1]))\n",
        "    model.add(keras.layers.MaxPooling2D(pool_size=2))\n",
        "\n",
        "    for n in hiddensizes[1:-1]:\n",
        "        model.add(keras.layers.Conv2D(filters=n, kernel_size=3, strides=1, padding=\"same\", activation=actfn)) \n",
        "        model.add(keras.layers.MaxPooling2D(pool_size=2))          # Pool (downsize)\n",
        "    model.add(keras.layers.Conv2D(filters=hiddensizes[-1], kernel_size=3, strides=1, padding=\"same\", activation=actfn))  \n",
        "    model.add(keras.layers.Flatten())                          # unravel into a 1D vector\n",
        "    model.add(keras.layers.Dense(10, activation = \"softmax\"))  # 10 classes for this dataset\n",
        "    model.compile(loss=\"sparse_categorical_crossentropy\", optimizer=optimizer(learning_rate=learningrate), metrics=[\"accuracy\"])   \n",
        "    return model"
      ]
    },
    {
      "cell_type": "code",
      "execution_count": null,
      "metadata": {
        "colab": {
          "base_uri": "https://localhost:8080/"
        },
        "id": "-h_I3kOQfaTV",
        "outputId": "0438ffaf-1f95-49b8-8087-f93147be5eb2"
      },
      "outputs": [
        {
          "name": "stdout",
          "output_type": "stream",
          "text": [
            "Epoch 1/10\n",
            "1875/1875 [==============================] - 171s 91ms/step - loss: 0.4540 - accuracy: 0.8348 - val_loss: 41.5182 - val_accuracy: 0.8469\n",
            "Epoch 2/10\n",
            "1875/1875 [==============================] - 173s 92ms/step - loss: 0.3061 - accuracy: 0.8912 - val_loss: 32.7186 - val_accuracy: 0.8737\n",
            "Epoch 3/10\n",
            "1875/1875 [==============================] - 170s 91ms/step - loss: 0.2641 - accuracy: 0.9047 - val_loss: 31.1569 - val_accuracy: 0.8967\n",
            "Epoch 4/10\n",
            "1875/1875 [==============================] - 177s 94ms/step - loss: 0.2380 - accuracy: 0.9130 - val_loss: 30.3425 - val_accuracy: 0.8916\n",
            "Epoch 5/10\n",
            "1875/1875 [==============================] - 175s 93ms/step - loss: 0.2176 - accuracy: 0.9208 - val_loss: 30.3917 - val_accuracy: 0.8916\n",
            "Epoch 6/10\n",
            "1875/1875 [==============================] - 173s 92ms/step - loss: 0.2024 - accuracy: 0.9266 - val_loss: 29.2807 - val_accuracy: 0.8980\n",
            "Epoch 7/10\n",
            "1875/1875 [==============================] - 173s 92ms/step - loss: 0.1890 - accuracy: 0.9319 - val_loss: 30.4892 - val_accuracy: 0.8929\n",
            "Epoch 8/10\n",
            "1875/1875 [==============================] - 172s 92ms/step - loss: 0.1773 - accuracy: 0.9353 - val_loss: 40.5827 - val_accuracy: 0.8712\n",
            "Epoch 9/10\n",
            "1875/1875 [==============================] - 169s 90ms/step - loss: 0.1653 - accuracy: 0.9391 - val_loss: 39.2501 - val_accuracy: 0.8712\n",
            "Epoch 10/10\n",
            "1875/1875 [==============================] - 167s 89ms/step - loss: 0.1566 - accuracy: 0.9433 - val_loss: 49.2400 - val_accuracy: 0.8457\n",
            "Model: \"sequential_2\"\n",
            "_________________________________________________________________\n",
            " Layer (type)                Output Shape              Param #   \n",
            "=================================================================\n",
            " conv2d_6 (Conv2D)           (None, 28, 28, 100)       1000      \n",
            "                                                                 \n",
            " max_pooling2d_4 (MaxPooling  (None, 14, 14, 100)      0         \n",
            " 2D)                                                             \n",
            "                                                                 \n",
            " conv2d_7 (Conv2D)           (None, 14, 14, 30)        27030     \n",
            "                                                                 \n",
            " max_pooling2d_5 (MaxPooling  (None, 7, 7, 30)         0         \n",
            " 2D)                                                             \n",
            "                                                                 \n",
            " conv2d_8 (Conv2D)           (None, 7, 7, 20)          5420      \n",
            "                                                                 \n",
            " flatten_2 (Flatten)         (None, 980)               0         \n",
            "                                                                 \n",
            " dense_2 (Dense)             (None, 10)                9810      \n",
            "                                                                 \n",
            "=================================================================\n",
            "Total params: 43,260\n",
            "Trainable params: 43,260\n",
            "Non-trainable params: 0\n",
            "_________________________________________________________________\n"
          ]
        }
      ],
      "source": [
        "valacc, history, model = do_all(hiddensizes, actfn, optimizer, learningrate, n_train, n_valid, n_epochs, batch_size)\n",
        "model.summary()"
      ]
    },
    {
      "cell_type": "code",
      "execution_count": 164,
      "metadata": {
        "id": "TKixabdzkoUk"
      },
      "outputs": [],
      "source": [
        "# Model 3 \n",
        "# strides = 2\n",
        "\n",
        "n_train = 60000\n",
        "n_valid = 784\n",
        "hiddensizes = [100, 30, 20] \n",
        "# activation function to be used by hidden layers\n",
        "actfn = \"relu\"\n",
        "# optimiser and learning rate\n",
        "optimizer = keras.optimizers.Adam\n",
        "# learning rate\n",
        "learningrate = 0.001\n",
        "# size of batch and number of epochs\n",
        "batch_size = 50\n",
        "n_epochs = 10\n",
        "\n",
        "def model_cnn(hiddensizes, actfn, optimizer, learningrate):\n",
        "    model = keras.models.Sequential()\n",
        "    model.add(keras.layers.Conv2D(filters=hiddensizes[0], kernel_size=3, strides=2, activation=actfn, padding=\"same\", input_shape=[28, 28, 1]))\n",
        "    model.add(keras.layers.MaxPooling2D(pool_size=2))\n",
        "\n",
        "    for n in hiddensizes[1:-1]:\n",
        "        model.add(keras.layers.Conv2D(filters=n, kernel_size=3, strides=2, padding=\"same\", activation=actfn))\n",
        "        model.add(keras.layers.MaxPooling2D(pool_size=2))          # Pool (downsize)\n",
        "    model.add(keras.layers.Conv2D(filters=hiddensizes[-1], kernel_size=3, strides=2, padding=\"same\", activation=actfn))\n",
        "    model.add(keras.layers.Flatten())                          # unravel into a 1D vector\n",
        "    model.add(keras.layers.Dense(10, activation = \"softmax\"))  # 10 classes for this dataset\n",
        "    model.compile(loss=\"sparse_categorical_crossentropy\", optimizer=optimizer(learning_rate=learningrate), metrics=[\"accuracy\"])   \n",
        "    return model"
      ]
    },
    {
      "cell_type": "code",
      "execution_count": 166,
      "metadata": {
        "colab": {
          "base_uri": "https://localhost:8080/"
        },
        "id": "CBWiiEU4ko4y",
        "outputId": "3e18d86e-0ec8-4b51-de64-df50fbcf066f"
      },
      "outputs": [
        {
          "output_type": "stream",
          "name": "stdout",
          "text": [
            "Epoch 1/10\n",
            "1875/1875 [==============================] - 36s 19ms/step - loss: 0.6206 - accuracy: 0.7778 - val_loss: 46.6157 - val_accuracy: 0.8189\n",
            "Epoch 2/10\n",
            "1875/1875 [==============================] - 45s 24ms/step - loss: 0.3986 - accuracy: 0.8576 - val_loss: 44.9667 - val_accuracy: 0.8202\n",
            "Epoch 3/10\n",
            "1875/1875 [==============================] - 55s 29ms/step - loss: 0.3488 - accuracy: 0.8738 - val_loss: 54.9032 - val_accuracy: 0.7985\n",
            "Epoch 4/10\n",
            "1875/1875 [==============================] - 39s 21ms/step - loss: 0.3192 - accuracy: 0.8854 - val_loss: 63.0643 - val_accuracy: 0.7768\n",
            "Epoch 5/10\n",
            "1875/1875 [==============================] - 36s 19ms/step - loss: 0.3000 - accuracy: 0.8917 - val_loss: 52.3403 - val_accuracy: 0.8202\n",
            "Epoch 6/10\n",
            "1875/1875 [==============================] - 34s 18ms/step - loss: 0.2860 - accuracy: 0.8981 - val_loss: 80.7530 - val_accuracy: 0.7742\n",
            "Epoch 7/10\n",
            "1875/1875 [==============================] - 34s 18ms/step - loss: 0.2732 - accuracy: 0.9019 - val_loss: 86.4077 - val_accuracy: 0.7500\n",
            "Model: \"sequential_8\"\n",
            "_________________________________________________________________\n",
            " Layer (type)                Output Shape              Param #   \n",
            "=================================================================\n",
            " conv2d_25 (Conv2D)          (None, 14, 14, 100)       1000      \n",
            "                                                                 \n",
            " max_pooling2d_20 (MaxPoolin  (None, 7, 7, 100)        0         \n",
            " g2D)                                                            \n",
            "                                                                 \n",
            " conv2d_26 (Conv2D)          (None, 4, 4, 30)          27030     \n",
            "                                                                 \n",
            " max_pooling2d_21 (MaxPoolin  (None, 2, 2, 30)         0         \n",
            " g2D)                                                            \n",
            "                                                                 \n",
            " conv2d_27 (Conv2D)          (None, 1, 1, 20)          5420      \n",
            "                                                                 \n",
            " flatten_8 (Flatten)         (None, 20)                0         \n",
            "                                                                 \n",
            " dense_17 (Dense)            (None, 10)                210       \n",
            "                                                                 \n",
            "=================================================================\n",
            "Total params: 33,660\n",
            "Trainable params: 33,660\n",
            "Non-trainable params: 0\n",
            "_________________________________________________________________\n"
          ]
        }
      ],
      "source": [
        "valacc, history, model = do_all(hiddensizes, actfn, optimizer, learningrate, n_train, n_valid, n_epochs, batch_size)\n",
        "model.summary()"
      ]
    },
    {
      "cell_type": "code",
      "execution_count": null,
      "metadata": {
        "id": "FBfbL93ulhGQ"
      },
      "outputs": [],
      "source": [
        "# Model 4 \n",
        "# Extra Max Pooling layer\n",
        "\n",
        "n_train = 60000\n",
        "n_valid = 784\n",
        "hiddensizes = [100, 30, 20] \n",
        "# activation function to be used by hidden layers\n",
        "actfn = \"relu\"\n",
        "# optimiser and learning rate\n",
        "optimizer = keras.optimizers.Adam\n",
        "# learning rate\n",
        "learningrate = 0.001\n",
        "# size of batch and number of epochs\n",
        "batch_size = 50\n",
        "n_epochs = 10\n",
        "\n",
        "def model_cnn(hiddensizes, actfn, optimizer, learningrate):\n",
        "    model = keras.models.Sequential()\n",
        "    model.add(keras.layers.Conv2D(filters=hiddensizes[0], kernel_size=3, strides=1, activation=actfn, padding=\"same\", input_shape=[28, 28, 1]))\n",
        "    model.add(keras.layers.MaxPooling2D(pool_size=2))\n",
        "    model.add(keras.layers.MaxPooling2D(pool_size=2))\n",
        "\n",
        "    for n in hiddensizes[1:-1]:\n",
        "        model.add(keras.layers.Conv2D(filters=n, kernel_size=3, strides=1, padding=\"same\", activation=actfn))\n",
        "        model.add(keras.layers.MaxPooling2D(pool_size=2))          # Pool (downsize)\n",
        "    model.add(keras.layers.Conv2D(filters=hiddensizes[-1], kernel_size=1, strides=3, padding=\"same\", activation=actfn))\n",
        "    model.add(keras.layers.Flatten())                          # unravel into a 1D vector\n",
        "    model.add(keras.layers.Dense(10, activation = \"softmax\"))  # 10 classes for this dataset\n",
        "    model.compile(loss=\"sparse_categorical_crossentropy\", optimizer=optimizer(learning_rate=learningrate), metrics=[\"accuracy\"])   \n",
        "    return model"
      ]
    },
    {
      "cell_type": "code",
      "execution_count": null,
      "metadata": {
        "colab": {
          "base_uri": "https://localhost:8080/"
        },
        "id": "d55KQmh5liCH",
        "outputId": "92c4a5bc-7a83-41c2-e874-832aa71d4b68"
      },
      "outputs": [
        {
          "name": "stdout",
          "output_type": "stream",
          "text": [
            "Epoch 1/10\n",
            "1875/1875 [==============================] - 111s 59ms/step - loss: 0.9963 - accuracy: 0.6185 - val_loss: 81.4844 - val_accuracy: 0.6339\n",
            "Epoch 2/10\n",
            "1875/1875 [==============================] - 111s 59ms/step - loss: 0.7678 - accuracy: 0.7110 - val_loss: 83.1422 - val_accuracy: 0.6671\n",
            "Epoch 3/10\n",
            "1875/1875 [==============================] - 111s 59ms/step - loss: 0.7190 - accuracy: 0.7295 - val_loss: 76.9605 - val_accuracy: 0.6543\n",
            "Epoch 4/10\n",
            "1875/1875 [==============================] - 111s 59ms/step - loss: 0.6886 - accuracy: 0.7405 - val_loss: 79.1466 - val_accuracy: 0.6454\n",
            "Epoch 5/10\n",
            "1875/1875 [==============================] - 111s 59ms/step - loss: 0.6668 - accuracy: 0.7468 - val_loss: 90.0846 - val_accuracy: 0.6429\n",
            "Epoch 6/10\n",
            "1875/1875 [==============================] - 108s 58ms/step - loss: 0.6480 - accuracy: 0.7540 - val_loss: 86.0161 - val_accuracy: 0.6212\n",
            "Epoch 7/10\n",
            "1875/1875 [==============================] - 107s 57ms/step - loss: 0.6340 - accuracy: 0.7590 - val_loss: 77.9605 - val_accuracy: 0.6531\n",
            "Model: \"sequential_4\"\n",
            "_________________________________________________________________\n",
            " Layer (type)                Output Shape              Param #   \n",
            "=================================================================\n",
            " conv2d_12 (Conv2D)          (None, 28, 28, 100)       1000      \n",
            "                                                                 \n",
            " max_pooling2d_8 (MaxPooling  (None, 14, 14, 100)      0         \n",
            " 2D)                                                             \n",
            "                                                                 \n",
            " max_pooling2d_9 (MaxPooling  (None, 7, 7, 100)        0         \n",
            " 2D)                                                             \n",
            "                                                                 \n",
            " conv2d_13 (Conv2D)          (None, 7, 7, 30)          27030     \n",
            "                                                                 \n",
            " max_pooling2d_10 (MaxPoolin  (None, 3, 3, 30)         0         \n",
            " g2D)                                                            \n",
            "                                                                 \n",
            " conv2d_14 (Conv2D)          (None, 1, 1, 20)          620       \n",
            "                                                                 \n",
            " flatten_4 (Flatten)         (None, 20)                0         \n",
            "                                                                 \n",
            " dense_4 (Dense)             (None, 10)                210       \n",
            "                                                                 \n",
            "=================================================================\n",
            "Total params: 28,860\n",
            "Trainable params: 28,860\n",
            "Non-trainable params: 0\n",
            "_________________________________________________________________\n"
          ]
        }
      ],
      "source": [
        "valacc, history, model = do_all(hiddensizes, actfn, optimizer, learningrate, n_train, n_valid, n_epochs, batch_size)\n",
        "model.summary()"
      ]
    },
    {
      "cell_type": "code",
      "execution_count": null,
      "metadata": {
        "id": "uB9czq2rlraN"
      },
      "outputs": [],
      "source": [
        "# Model 5 \n",
        "# two convolutional layers\n",
        "\n",
        "n_train = 60000\n",
        "n_valid = 784\n",
        "hiddensizes = [100, 30, 20] \n",
        "# activation function to be used by hidden layers\n",
        "actfn = \"relu\"\n",
        "# optimiser and learning rate\n",
        "optimizer = keras.optimizers.Adam\n",
        "# learning rate\n",
        "learningrate = 0.001\n",
        "# size of batch and number of epochs\n",
        "batch_size = 50\n",
        "n_epochs = 10\n",
        "\n",
        "def model_cnn(hiddensizes, actfn, optimizer, learningrate):\n",
        "    model = keras.models.Sequential()\n",
        "    model.add(keras.layers.Conv2D(filters=hiddensizes[0], kernel_size=3, strides=1, activation=actfn, padding=\"same\", input_shape=[28, 28, 1]))\n",
        "    model.add(keras.layers.Conv2D(filters=hiddensizes[0], kernel_size=3, strides=1, activation=actfn, padding=\"same\", input_shape=[28, 28, 1]))\n",
        "    model.add(keras.layers.MaxPooling2D(pool_size=2))\n",
        "\n",
        "    for n in hiddensizes[1:-1]:\n",
        "        model.add(keras.layers.Conv2D(filters=n, kernel_size=3, strides=1, padding=\"same\", activation=actfn))  \n",
        "        model.add(keras.layers.MaxPooling2D(pool_size=2))          # Pool (downsize)\n",
        "    model.add(keras.layers.Conv2D(filters=hiddensizes[-1], kernel_size=3, strides=1, padding=\"same\", activation=actfn))  \n",
        "    model.add(keras.layers.Flatten())                          # unravel into a 1D vector\n",
        "    model.add(keras.layers.Dense(10, activation = \"softmax\"))  # 10 classes for this dataset\n",
        "    model.compile(loss=\"sparse_categorical_crossentropy\", optimizer=optimizer(learning_rate=learningrate), metrics=[\"accuracy\"])   \n",
        "    return model"
      ]
    },
    {
      "cell_type": "code",
      "execution_count": null,
      "metadata": {
        "colab": {
          "base_uri": "https://localhost:8080/"
        },
        "id": "VKM7bKw3lsg0",
        "outputId": "1db814ea-128f-4a89-ba15-65d5d445a5ee"
      },
      "outputs": [
        {
          "name": "stdout",
          "output_type": "stream",
          "text": [
            "Epoch 1/10\n",
            "1875/1875 [==============================] - 806s 430ms/step - loss: 0.4231 - accuracy: 0.8475 - val_loss: 23.6156 - val_accuracy: 0.8801\n",
            "Epoch 2/10\n",
            "1875/1875 [==============================] - 803s 428ms/step - loss: 0.2752 - accuracy: 0.9017 - val_loss: 21.6873 - val_accuracy: 0.8673\n",
            "Epoch 3/10\n",
            "1875/1875 [==============================] - 807s 430ms/step - loss: 0.2362 - accuracy: 0.9148 - val_loss: 33.5941 - val_accuracy: 0.8304\n",
            "Epoch 4/10\n",
            "1875/1875 [==============================] - 809s 431ms/step - loss: 0.2098 - accuracy: 0.9222 - val_loss: 22.9450 - val_accuracy: 0.8635\n",
            "Epoch 5/10\n",
            "1875/1875 [==============================] - 811s 432ms/step - loss: 0.1873 - accuracy: 0.9308 - val_loss: 22.8133 - val_accuracy: 0.8571\n",
            "Epoch 6/10\n",
            "1875/1875 [==============================] - 810s 432ms/step - loss: 0.1689 - accuracy: 0.9388 - val_loss: 25.3612 - val_accuracy: 0.8686\n",
            "Model: \"sequential_5\"\n",
            "_________________________________________________________________\n",
            " Layer (type)                Output Shape              Param #   \n",
            "=================================================================\n",
            " conv2d_15 (Conv2D)          (None, 28, 28, 100)       1000      \n",
            "                                                                 \n",
            " conv2d_16 (Conv2D)          (None, 28, 28, 100)       90100     \n",
            "                                                                 \n",
            " max_pooling2d_11 (MaxPoolin  (None, 14, 14, 100)      0         \n",
            " g2D)                                                            \n",
            "                                                                 \n",
            " conv2d_17 (Conv2D)          (None, 14, 14, 30)        27030     \n",
            "                                                                 \n",
            " max_pooling2d_12 (MaxPoolin  (None, 7, 7, 30)         0         \n",
            " g2D)                                                            \n",
            "                                                                 \n",
            " conv2d_18 (Conv2D)          (None, 7, 7, 20)          5420      \n",
            "                                                                 \n",
            " flatten_5 (Flatten)         (None, 980)               0         \n",
            "                                                                 \n",
            " dense_5 (Dense)             (None, 10)                9810      \n",
            "                                                                 \n",
            "=================================================================\n",
            "Total params: 133,360\n",
            "Trainable params: 133,360\n",
            "Non-trainable params: 0\n",
            "_________________________________________________________________\n"
          ]
        }
      ],
      "source": [
        "valacc, history, model = do_all(hiddensizes, actfn, optimizer, learningrate, n_train, n_valid, n_epochs, batch_size)\n",
        "model.summary()"
      ]
    },
    {
      "cell_type": "code",
      "execution_count": null,
      "metadata": {
        "id": "_59WciSwxAcF"
      },
      "outputs": [],
      "source": [
        "# Model 6 \n",
        "# relu activation function in dense layer\n",
        "n_train = 60000\n",
        "n_valid = 784\n",
        "hiddensizes = [100, 30, 20] \n",
        "# activation function to be used by hidden layers\n",
        "actfn = \"relu\"\n",
        "# optimiser and learning rate\n",
        "optimizer = keras.optimizers.Adam\n",
        "# learning rate\n",
        "learningrate = 0.001\n",
        "# size of batch and number of epochs\n",
        "batch_size = 50\n",
        "n_epochs = 10\n",
        "\n",
        "def model_cnn(hiddensizes, actfn, optimizer, learningrate):\n",
        "    model = keras.models.Sequential()\n",
        "    model.add(keras.layers.Conv2D(filters=hiddensizes[0], kernel_size=3, strides=1, activation=actfn, padding=\"same\", input_shape=[28, 28, 1]))\n",
        "    model.add(keras.layers.MaxPooling2D(pool_size=2))\n",
        "\n",
        "    for n in hiddensizes[1:-1]:\n",
        "        model.add(keras.layers.Conv2D(filters=n, kernel_size=3, strides=1, padding=\"same\", activation=actfn)) \n",
        "        model.add(keras.layers.MaxPooling2D(pool_size=2))          # Pool (downsize)\n",
        "    model.add(keras.layers.Conv2D(filters=hiddensizes[-1], kernel_size=3, strides=1, padding=\"same\", activation=actfn)) \n",
        "    model.add(keras.layers.Flatten())                          # unravel into a 1D vector\n",
        "    model.add(keras.layers.Dense(10, activation = \"relu\"))  # 10 classes for this dataset\n",
        "    model.compile(loss=\"sparse_categorical_crossentropy\", optimizer=optimizer(learning_rate=learningrate), metrics=[\"accuracy\"])   \n",
        "    return model"
      ]
    },
    {
      "cell_type": "code",
      "execution_count": null,
      "metadata": {
        "colab": {
          "base_uri": "https://localhost:8080/"
        },
        "id": "9SOnXlwtxA6Q",
        "outputId": "ab13a9e1-ec42-49e1-a4bb-a36e48bc5e4b"
      },
      "outputs": [
        {
          "name": "stdout",
          "output_type": "stream",
          "text": [
            "Epoch 1/10\n",
            "1875/1875 [==============================] - 177s 94ms/step - loss: 2.3512 - accuracy: 0.1027 - val_loss: 2.3026 - val_accuracy: 0.0957\n",
            "Epoch 2/10\n",
            "1875/1875 [==============================] - 176s 94ms/step - loss: 2.3026 - accuracy: 0.1000 - val_loss: 2.3026 - val_accuracy: 0.0957\n",
            "Epoch 3/10\n",
            "1875/1875 [==============================] - 172s 92ms/step - loss: 2.3026 - accuracy: 0.1000 - val_loss: 2.3026 - val_accuracy: 0.0957\n",
            "Epoch 4/10\n",
            "1875/1875 [==============================] - 171s 91ms/step - loss: 2.3026 - accuracy: 0.1000 - val_loss: 2.3026 - val_accuracy: 0.0957\n",
            "Epoch 5/10\n",
            "1875/1875 [==============================] - 169s 90ms/step - loss: 2.3026 - accuracy: 0.1000 - val_loss: 2.3026 - val_accuracy: 0.0957\n",
            "Epoch 6/10\n",
            "1875/1875 [==============================] - 166s 88ms/step - loss: 2.3026 - accuracy: 0.1000 - val_loss: 2.3026 - val_accuracy: 0.0957\n",
            "Model: \"sequential_6\"\n",
            "_________________________________________________________________\n",
            " Layer (type)                Output Shape              Param #   \n",
            "=================================================================\n",
            " conv2d_19 (Conv2D)          (None, 28, 28, 100)       1000      \n",
            "                                                                 \n",
            " max_pooling2d_13 (MaxPoolin  (None, 14, 14, 100)      0         \n",
            " g2D)                                                            \n",
            "                                                                 \n",
            " conv2d_20 (Conv2D)          (None, 14, 14, 30)        27030     \n",
            "                                                                 \n",
            " max_pooling2d_14 (MaxPoolin  (None, 7, 7, 30)         0         \n",
            " g2D)                                                            \n",
            "                                                                 \n",
            " conv2d_21 (Conv2D)          (None, 7, 7, 20)          5420      \n",
            "                                                                 \n",
            " flatten_6 (Flatten)         (None, 980)               0         \n",
            "                                                                 \n",
            " dense_6 (Dense)             (None, 10)                9810      \n",
            "                                                                 \n",
            "=================================================================\n",
            "Total params: 43,260\n",
            "Trainable params: 43,260\n",
            "Non-trainable params: 0\n",
            "_________________________________________________________________\n"
          ]
        }
      ],
      "source": [
        "valacc, history, model = do_all(hiddensizes, actfn, optimizer, learningrate, n_train, n_valid, n_epochs, batch_size)\n",
        "model.summary()"
      ]
    },
    {
      "cell_type": "code",
      "execution_count": null,
      "metadata": {
        "id": "5Y7bAKvrz-sf"
      },
      "outputs": [],
      "source": [
        "# Model 7 \n",
        "# two convolutional layers and two convolutional hidden layers\n",
        "n_train = 60000\n",
        "n_valid = 784\n",
        "hiddensizes = [100, 30, 20] \n",
        "# activation function to be used by hidden layers\n",
        "actfn = \"relu\"\n",
        "# optimiser and learning rate\n",
        "optimizer = keras.optimizers.Adam\n",
        "learningrate = 0.001\n",
        "# size of batch and number of epochs\n",
        "batch_size = 50\n",
        "n_epochs = 10\n",
        "\n",
        "def model_cnn(hiddensizes, actfn, optimizer, learningrate):\n",
        "    model = keras.models.Sequential()\n",
        "    model.add(keras.layers.Conv2D(filters=hiddensizes[0], kernel_size=3, strides=1, activation=actfn, padding=\"same\", input_shape=[28, 28, 1]))\n",
        "    model.add(keras.layers.Conv2D(filters=hiddensizes[0], kernel_size=3, strides=1, activation=actfn, padding=\"same\", input_shape=[28, 28, 1]))\n",
        "    model.add(keras.layers.MaxPooling2D(pool_size=2))\n",
        "\n",
        "    for n in hiddensizes[1:-1]:\n",
        "        model.add(keras.layers.Conv2D(filters=n, kernel_size=3, strides=1, padding=\"same\", activation=actfn)) \n",
        "        model.add(keras.layers.Conv2D(filters=n, kernel_size=3, strides=1, padding=\"same\", activation=actfn))\n",
        "        model.add(keras.layers.MaxPooling2D(pool_size=2))          # Pool (downsize)\n",
        "        model.add(keras.layers.Conv2D(filters=hiddensizes[-1], kernel_size=3, strides=1, padding=\"same\", activation=actfn))\n",
        "        model.add(keras.layers.Flatten())                          # unravel into a 1D vector\n",
        "        model.add(keras.layers.Dense(10, activation = \"softmax\"))  # 10 classes for this dataset\n",
        "        model.compile(loss=\"sparse_categorical_crossentropy\", optimizer=optimizer(learning_rate=learningrate), metrics=[\"accuracy\"])   \n",
        "    return model"
      ]
    },
    {
      "cell_type": "code",
      "execution_count": null,
      "metadata": {
        "colab": {
          "background_save": true,
          "base_uri": "https://localhost:8080/"
        },
        "id": "lUkQ5mFD0LzG",
        "outputId": "2a920adc-185f-4a79-8280-38a94d9730ba"
      },
      "outputs": [
        {
          "name": "stdout",
          "output_type": "stream",
          "text": [
            "Epoch 1/10\n",
            "1875/1875 [==============================] - 827s 441ms/step - loss: 0.4298 - accuracy: 0.8457 - val_loss: 23.1169 - val_accuracy: 0.8878\n",
            "Epoch 2/10\n",
            "1875/1875 [==============================] - 830s 443ms/step - loss: 0.2741 - accuracy: 0.9011 - val_loss: 19.6854 - val_accuracy: 0.8916\n",
            "Epoch 3/10\n",
            "1875/1875 [==============================] - 834s 445ms/step - loss: 0.2348 - accuracy: 0.9150 - val_loss: 15.0602 - val_accuracy: 0.8814\n",
            "Epoch 4/10\n",
            "1875/1875 [==============================] - 852s 454ms/step - loss: 0.2102 - accuracy: 0.9238 - val_loss: 22.8583 - val_accuracy: 0.8801\n",
            "Epoch 5/10\n",
            "1875/1875 [==============================] - 834s 445ms/step - loss: 0.1918 - accuracy: 0.9289 - val_loss: 25.2183 - val_accuracy: 0.8406\n",
            "Epoch 6/10\n",
            "1875/1875 [==============================] - 832s 444ms/step - loss: 0.1737 - accuracy: 0.9369 - val_loss: 27.8370 - val_accuracy: 0.8559\n",
            "Epoch 7/10\n",
            "1875/1875 [==============================] - 827s 441ms/step - loss: 0.1615 - accuracy: 0.9412 - val_loss: 24.9898 - val_accuracy: 0.8890\n",
            "Model: \"sequential_7\"\n",
            "_________________________________________________________________\n",
            " Layer (type)                Output Shape              Param #   \n",
            "=================================================================\n",
            " conv2d_22 (Conv2D)          (None, 28, 28, 100)       1000      \n",
            "                                                                 \n",
            " conv2d_23 (Conv2D)          (None, 28, 28, 100)       90100     \n",
            "                                                                 \n",
            " max_pooling2d_15 (MaxPoolin  (None, 14, 14, 100)      0         \n",
            " g2D)                                                            \n",
            "                                                                 \n",
            " conv2d_24 (Conv2D)          (None, 14, 14, 30)        27030     \n",
            "                                                                 \n",
            " conv2d_25 (Conv2D)          (None, 14, 14, 30)        8130      \n",
            "                                                                 \n",
            " max_pooling2d_16 (MaxPoolin  (None, 7, 7, 30)         0         \n",
            " g2D)                                                            \n",
            "                                                                 \n",
            " conv2d_26 (Conv2D)          (None, 7, 7, 20)          5420      \n",
            "                                                                 \n",
            " flatten_7 (Flatten)         (None, 980)               0         \n",
            "                                                                 \n",
            " dense_7 (Dense)             (None, 10)                9810      \n",
            "                                                                 \n",
            "=================================================================\n",
            "Total params: 141,490\n",
            "Trainable params: 141,490\n",
            "Non-trainable params: 0\n",
            "_________________________________________________________________\n"
          ]
        }
      ],
      "source": [
        "valacc, history, model = do_all(hiddensizes, actfn, optimizer, learningrate, n_train, n_valid, n_epochs, batch_size)\n",
        "model.summary()"
      ]
    },
    {
      "cell_type": "markdown",
      "metadata": {
        "id": "a-3BVqiklaJO"
      },
      "source": [
        "### A competing approach: Dense Neural Networks"
      ]
    },
    {
      "cell_type": "code",
      "execution_count": null,
      "metadata": {
        "colab": {
          "background_save": true
        },
        "id": "L3K4JjR-rEC8"
      },
      "outputs": [],
      "source": [
        "# DNN Model 1\n",
        "# Baseline DNN with one layer and softmax\n",
        "\n",
        "n_train = 60000\n",
        "n_valid = 784\n",
        "# number and size of hidden layers\n",
        "hiddensizes = [100, 30, 20]  # testing out one extra layer\n",
        "# activation function to be used by hidden layers\n",
        "actfn = \"relu\"\n",
        "# optimiser and learning rate\n",
        "optimizer = keras.optimizers.Adam\n",
        "learningrate = 0.001\n",
        "# size of batch and number of epochs\n",
        "batch_size = 50\n",
        "n_epochs = 20\n",
        "\n",
        "# and the function\n",
        "def model_dense(hiddensizes, actfn, optimizer, learningrate):\n",
        "    model = keras.models.Sequential()\n",
        "    model.add(keras.layers.Flatten(input_shape = [28, 28, 1]))    \n",
        "    for n in hiddensizes:\n",
        "        model.add(keras.layers.Dense(n, activation = actfn))\n",
        "    model.add(keras.layers.Dense(25, activation = \"softmax\")) \n",
        "    model.compile(loss=\"sparse_categorical_crossentropy\", optimizer=optimizer(learning_rate=learningrate), metrics=[\"accuracy\"])\n",
        "    return model"
      ]
    },
    {
      "cell_type": "code",
      "execution_count": 18,
      "metadata": {
        "id": "CAIh7wH2q4ts"
      },
      "outputs": [],
      "source": [
        "# early stopping callback to help set a limit of runs\n",
        "early_stopping_cb = keras.callbacks.EarlyStopping(monitor='val_accuracy', patience=5, restore_best_weights=True) "
      ]
    },
    {
      "cell_type": "code",
      "execution_count": null,
      "metadata": {
        "colab": {
          "background_save": true
        },
        "id": "u3MCAbrAq71E"
      },
      "outputs": [],
      "source": [
        "def do_all(hiddensizes, actfn, optimizer, learningrate, n_train, n_valid, n_epochs, batch_size, further_callbacks=[]):\n",
        "    if further_callbacks != []:\n",
        "        callbacks = further_callbacks\n",
        "    else:\n",
        "        callbacks = [early_stopping_cb]\n",
        "    model = model_dense(hiddensizes, actfn, optimizer, learningrate)\n",
        "    history = model.fit(X_train[:n_train,:,:], y_train[:n_train], epochs=n_epochs, callbacks = callbacks,\n",
        "                        validation_data=(X_valid[:n_valid,:,:], y_valid[:n_valid]))\n",
        "    max_val_acc = np.max(history.history['val_accuracy'])\n",
        "    return (max_val_acc, history, model)"
      ]
    },
    {
      "cell_type": "code",
      "execution_count": null,
      "metadata": {
        "colab": {
          "background_save": true
        },
        "id": "mKb3zhWeq-2V",
        "outputId": "15a9ddfc-3377-4ab4-96e7-bbe84bf72dab"
      },
      "outputs": [
        {
          "name": "stdout",
          "output_type": "stream",
          "text": [
            "Epoch 1/20\n",
            "1875/1875 [==============================] - 6s 3ms/step - loss: 0.5547 - accuracy: 0.8073 - val_loss: 73.0373 - val_accuracy: 0.8227\n",
            "Epoch 2/20\n",
            "1875/1875 [==============================] - 6s 3ms/step - loss: 0.3905 - accuracy: 0.8586 - val_loss: 49.5263 - val_accuracy: 0.8571\n",
            "Epoch 3/20\n",
            "1875/1875 [==============================] - 6s 3ms/step - loss: 0.3572 - accuracy: 0.8695 - val_loss: 50.9310 - val_accuracy: 0.8520\n",
            "Epoch 4/20\n",
            "1875/1875 [==============================] - 6s 3ms/step - loss: 0.3351 - accuracy: 0.8783 - val_loss: 58.0798 - val_accuracy: 0.8495\n",
            "Epoch 5/20\n",
            "1875/1875 [==============================] - 6s 3ms/step - loss: 0.3176 - accuracy: 0.8828 - val_loss: 54.1371 - val_accuracy: 0.8457\n",
            "Epoch 6/20\n",
            "1875/1875 [==============================] - 6s 3ms/step - loss: 0.3035 - accuracy: 0.8883 - val_loss: 41.6137 - val_accuracy: 0.8686\n",
            "Epoch 7/20\n",
            "1875/1875 [==============================] - 6s 3ms/step - loss: 0.2919 - accuracy: 0.8916 - val_loss: 55.6136 - val_accuracy: 0.8508\n",
            "Epoch 8/20\n",
            "1875/1875 [==============================] - 6s 3ms/step - loss: 0.2814 - accuracy: 0.8957 - val_loss: 71.9072 - val_accuracy: 0.8214\n",
            "Epoch 9/20\n",
            "1875/1875 [==============================] - 6s 3ms/step - loss: 0.2708 - accuracy: 0.9000 - val_loss: 47.4260 - val_accuracy: 0.8763\n",
            "Epoch 10/20\n",
            "1875/1875 [==============================] - 6s 3ms/step - loss: 0.2645 - accuracy: 0.9013 - val_loss: 57.1901 - val_accuracy: 0.8367\n",
            "Epoch 11/20\n",
            "1875/1875 [==============================] - 6s 3ms/step - loss: 0.2549 - accuracy: 0.9041 - val_loss: 53.7472 - val_accuracy: 0.8520\n",
            "Epoch 12/20\n",
            "1875/1875 [==============================] - 6s 3ms/step - loss: 0.2486 - accuracy: 0.9068 - val_loss: 60.4676 - val_accuracy: 0.8546\n",
            "Epoch 13/20\n",
            "1875/1875 [==============================] - 6s 3ms/step - loss: 0.2421 - accuracy: 0.9097 - val_loss: 63.5166 - val_accuracy: 0.8469\n",
            "Epoch 14/20\n",
            "1875/1875 [==============================] - 6s 3ms/step - loss: 0.2364 - accuracy: 0.9107 - val_loss: 51.2782 - val_accuracy: 0.8673\n",
            "Model: \"sequential_8\"\n",
            "_________________________________________________________________\n",
            " Layer (type)                Output Shape              Param #   \n",
            "=================================================================\n",
            " flatten_8 (Flatten)         (None, 784)               0         \n",
            "                                                                 \n",
            " dense_8 (Dense)             (None, 100)               78500     \n",
            "                                                                 \n",
            " dense_9 (Dense)             (None, 30)                3030      \n",
            "                                                                 \n",
            " dense_10 (Dense)            (None, 20)                620       \n",
            "                                                                 \n",
            " dense_11 (Dense)            (None, 25)                525       \n",
            "                                                                 \n",
            "=================================================================\n",
            "Total params: 82,675\n",
            "Trainable params: 82,675\n",
            "Non-trainable params: 0\n",
            "_________________________________________________________________\n"
          ]
        }
      ],
      "source": [
        "# Function that tests the model above\n",
        "valacc, history, model = do_all(hiddensizes, actfn, optimizer, learningrate, n_train, n_valid, n_epochs, batch_size)\n",
        "model.summary()"
      ]
    },
    {
      "cell_type": "code",
      "execution_count": null,
      "metadata": {
        "colab": {
          "background_save": true
        },
        "id": "YVK7a7sdEWIy"
      },
      "outputs": [],
      "source": [
        "# DNN Model 2\n",
        "# two dense hidden layers in preactivation\n",
        "\n",
        "n_train = 60000\n",
        "n_valid = 784\n",
        "# number and size of hidden layers\n",
        "hiddensizes = [100, 30, 20]  # testing out one extra layer\n",
        "# activation function to be used by hidden layers\n",
        "actfn = \"relu\"\n",
        "# optimiser and learning rate\n",
        "optimizer = keras.optimizers.Adam\n",
        "learningrate = 0.001\n",
        "# size of batch and number of epochs\n",
        "batch_size = 50\n",
        "n_epochs = 20\n",
        "\n",
        "# and the function\n",
        "def model_dense(hiddensizes, actfn, optimizer, learningrate):\n",
        "    model = keras.models.Sequential()\n",
        "    model.add(keras.layers.Flatten(input_shape = [28, 28, 1]))   \n",
        "    model.add(keras.layers.Flatten(input_shape = [28, 28, 1]))    \n",
        "    for n in hiddensizes:\n",
        "        model.add(keras.layers.Dense(n, activation = actfn))\n",
        "    model.add(keras.layers.Dense(25, activation = \"softmax\")) \n",
        "    model.compile(loss=\"sparse_categorical_crossentropy\", optimizer=optimizer(learning_rate=learningrate), metrics=[\"accuracy\"])\n",
        "    return model"
      ]
    },
    {
      "cell_type": "code",
      "execution_count": null,
      "metadata": {
        "colab": {
          "background_save": true
        },
        "id": "DnPEb1IZEXHm"
      },
      "outputs": [],
      "source": [
        "def do_all(hiddensizes, actfn, optimizer, learningrate, n_train, n_valid, n_epochs, batch_size, further_callbacks=[]):\n",
        "    if further_callbacks != []:\n",
        "        callbacks = further_callbacks\n",
        "    else:\n",
        "        callbacks = [early_stopping_cb]\n",
        "    model = model_dense(hiddensizes, actfn, optimizer, learningrate)\n",
        "    history = model.fit(X_train[:n_train,:,:], y_train[:n_train], epochs=n_epochs, callbacks = callbacks,\n",
        "                        validation_data=(X_valid[:n_valid,:,:], y_valid[:n_valid]))\n",
        "    max_val_acc = np.max(history.history['val_accuracy'])\n",
        "    return (max_val_acc, history, model)"
      ]
    },
    {
      "cell_type": "code",
      "execution_count": null,
      "metadata": {
        "colab": {
          "background_save": true
        },
        "id": "TN-DGY5eEYKq",
        "outputId": "9bc67583-2a12-4b69-8356-90e091e993b7"
      },
      "outputs": [
        {
          "name": "stdout",
          "output_type": "stream",
          "text": [
            "Epoch 1/20\n",
            "1875/1875 [==============================] - 7s 3ms/step - loss: 0.5937 - accuracy: 0.7982 - val_loss: 54.0141 - val_accuracy: 0.8457\n",
            "Epoch 2/20\n",
            "1875/1875 [==============================] - 6s 3ms/step - loss: 0.3999 - accuracy: 0.8574 - val_loss: 45.4137 - val_accuracy: 0.8686\n",
            "Epoch 3/20\n",
            "1875/1875 [==============================] - 6s 3ms/step - loss: 0.3592 - accuracy: 0.8700 - val_loss: 51.4301 - val_accuracy: 0.8648\n",
            "Epoch 4/20\n",
            "1875/1875 [==============================] - 6s 3ms/step - loss: 0.3340 - accuracy: 0.8785 - val_loss: 41.4029 - val_accuracy: 0.8622\n",
            "Epoch 5/20\n",
            "1875/1875 [==============================] - 6s 3ms/step - loss: 0.3138 - accuracy: 0.8845 - val_loss: 51.2458 - val_accuracy: 0.8622\n",
            "Epoch 6/20\n",
            "1875/1875 [==============================] - 6s 3ms/step - loss: 0.3014 - accuracy: 0.8882 - val_loss: 46.7191 - val_accuracy: 0.8737\n",
            "Epoch 7/20\n",
            "1875/1875 [==============================] - 6s 3ms/step - loss: 0.2894 - accuracy: 0.8930 - val_loss: 51.2893 - val_accuracy: 0.8622\n",
            "Epoch 8/20\n",
            "1875/1875 [==============================] - 6s 3ms/step - loss: 0.2790 - accuracy: 0.8967 - val_loss: 60.3933 - val_accuracy: 0.8457\n",
            "Epoch 9/20\n",
            "1875/1875 [==============================] - 6s 3ms/step - loss: 0.2684 - accuracy: 0.8997 - val_loss: 50.6538 - val_accuracy: 0.8622\n",
            "Epoch 10/20\n",
            "1875/1875 [==============================] - 6s 3ms/step - loss: 0.2604 - accuracy: 0.9028 - val_loss: 55.5708 - val_accuracy: 0.8406\n",
            "Epoch 11/20\n",
            "1875/1875 [==============================] - 6s 3ms/step - loss: 0.2526 - accuracy: 0.9059 - val_loss: 61.6683 - val_accuracy: 0.8393\n",
            "Model: \"sequential_9\"\n",
            "_________________________________________________________________\n",
            " Layer (type)                Output Shape              Param #   \n",
            "=================================================================\n",
            " flatten_9 (Flatten)         (None, 784)               0         \n",
            "                                                                 \n",
            " flatten_10 (Flatten)        (None, 784)               0         \n",
            "                                                                 \n",
            " dense_12 (Dense)            (None, 100)               78500     \n",
            "                                                                 \n",
            " dense_13 (Dense)            (None, 30)                3030      \n",
            "                                                                 \n",
            " dense_14 (Dense)            (None, 20)                620       \n",
            "                                                                 \n",
            " dense_15 (Dense)            (None, 25)                525       \n",
            "                                                                 \n",
            "=================================================================\n",
            "Total params: 82,675\n",
            "Trainable params: 82,675\n",
            "Non-trainable params: 0\n",
            "_________________________________________________________________\n"
          ]
        }
      ],
      "source": [
        "# Test the above model\n",
        "valacc, history, model = do_all(hiddensizes, actfn, optimizer, learningrate, n_train, n_valid, n_epochs, batch_size)\n",
        "model.summary()"
      ]
    },
    {
      "cell_type": "code",
      "execution_count": null,
      "metadata": {
        "colab": {
          "background_save": true
        },
        "id": "-YLBL7HZ2KUY"
      },
      "outputs": [],
      "source": [
        "# DNN Model 3\n",
        "# two dense layers in preactivation\n",
        "\n",
        "\n",
        "n_train = 60000\n",
        "n_valid = 784\n",
        "# number and size of hidden layers\n",
        "hiddensizes = [100, 30, 20]  # testing out one extra layer\n",
        "# activation function to be used by hidden layers\n",
        "actfn = \"relu\"\n",
        "# optimiser and learning rate\n",
        "optimizer = keras.optimizers.Adam\n",
        "learningrate = 0.001\n",
        "# size of batch and number of epochs\n",
        "batch_size = 50\n",
        "n_epochs = 20\n",
        "\n",
        "# and the function\n",
        "def model_dense(hiddensizes, actfn, optimizer, learningrate):\n",
        "    model = keras.models.Sequential()\n",
        "    model.add(keras.layers.Flatten(input_shape = [28, 28, 1]))\n",
        "    for n in hiddensizes:\n",
        "        model.add(keras.layers.Dense(n, activation = actfn))\n",
        "        model.add(keras.layers.Dense(n, activation = actfn))\n",
        "    model.add(keras.layers.Dense(25, activation = \"softmax\"))  \n",
        "    model.compile(loss=\"sparse_categorical_crossentropy\", optimizer=optimizer(learning_rate=learningrate), metrics=[\"accuracy\"])\n",
        "    return model"
      ]
    },
    {
      "cell_type": "code",
      "execution_count": null,
      "metadata": {
        "colab": {
          "background_save": true
        },
        "id": "a9xrTMPc2Ovy"
      },
      "outputs": [],
      "source": [
        "def do_all(hiddensizes, actfn, optimizer, learningrate, n_train, n_valid, n_epochs, batch_size, further_callbacks=[]):\n",
        "    if further_callbacks != []:\n",
        "        callbacks = further_callbacks\n",
        "    else:\n",
        "        callbacks = [early_stopping_cb]\n",
        "    model = model_dense(hiddensizes, actfn, optimizer, learningrate)\n",
        "    history = model.fit(X_train[:n_train,:,:], y_train[:n_train], epochs=n_epochs, callbacks = callbacks,\n",
        "                        validation_data=(X_valid[:n_valid,:,:], y_valid[:n_valid]))\n",
        "    max_val_acc = np.max(history.history['val_accuracy'])\n",
        "    return (max_val_acc, history, model)"
      ]
    },
    {
      "cell_type": "code",
      "execution_count": null,
      "metadata": {
        "colab": {
          "background_save": true
        },
        "id": "ylRayYaH2QT8",
        "outputId": "3c568e46-a7d1-4d3e-e035-3ef64ab244e0"
      },
      "outputs": [
        {
          "name": "stdout",
          "output_type": "stream",
          "text": [
            "Epoch 1/20\n",
            "1875/1875 [==============================] - 8s 4ms/step - loss: 0.6202 - accuracy: 0.7844 - val_loss: 60.0574 - val_accuracy: 0.8380\n",
            "Epoch 2/20\n",
            "1875/1875 [==============================] - 7s 4ms/step - loss: 0.4054 - accuracy: 0.8554 - val_loss: 60.0390 - val_accuracy: 0.8444\n",
            "Epoch 3/20\n",
            "1875/1875 [==============================] - 7s 4ms/step - loss: 0.3625 - accuracy: 0.8686 - val_loss: 46.6277 - val_accuracy: 0.8559\n",
            "Epoch 4/20\n",
            "1875/1875 [==============================] - 7s 4ms/step - loss: 0.3381 - accuracy: 0.8771 - val_loss: 51.1106 - val_accuracy: 0.8393\n",
            "Epoch 5/20\n",
            "1875/1875 [==============================] - 7s 4ms/step - loss: 0.3236 - accuracy: 0.8820 - val_loss: 53.8793 - val_accuracy: 0.8559\n",
            "Epoch 6/20\n",
            "1875/1875 [==============================] - 7s 4ms/step - loss: 0.3084 - accuracy: 0.8862 - val_loss: 45.6585 - val_accuracy: 0.8559\n",
            "Epoch 7/20\n",
            "1875/1875 [==============================] - 7s 4ms/step - loss: 0.2952 - accuracy: 0.8919 - val_loss: 45.9286 - val_accuracy: 0.8635\n",
            "Epoch 8/20\n",
            "1875/1875 [==============================] - 7s 4ms/step - loss: 0.2851 - accuracy: 0.8961 - val_loss: 62.7301 - val_accuracy: 0.8457\n",
            "Epoch 9/20\n",
            "1875/1875 [==============================] - 7s 4ms/step - loss: 0.2763 - accuracy: 0.8981 - val_loss: 45.9056 - val_accuracy: 0.8610\n",
            "Epoch 10/20\n",
            "1875/1875 [==============================] - 7s 4ms/step - loss: 0.2667 - accuracy: 0.9010 - val_loss: 65.4588 - val_accuracy: 0.8316\n",
            "Epoch 11/20\n",
            "1875/1875 [==============================] - 7s 4ms/step - loss: 0.2591 - accuracy: 0.9040 - val_loss: 56.9458 - val_accuracy: 0.8571\n",
            "Epoch 12/20\n",
            "1875/1875 [==============================] - 7s 4ms/step - loss: 0.2515 - accuracy: 0.9060 - val_loss: 52.7346 - val_accuracy: 0.8533\n",
            "Model: \"sequential_10\"\n",
            "_________________________________________________________________\n",
            " Layer (type)                Output Shape              Param #   \n",
            "=================================================================\n",
            " flatten_11 (Flatten)        (None, 784)               0         \n",
            "                                                                 \n",
            " dense_16 (Dense)            (None, 100)               78500     \n",
            "                                                                 \n",
            " dense_17 (Dense)            (None, 100)               10100     \n",
            "                                                                 \n",
            " dense_18 (Dense)            (None, 30)                3030      \n",
            "                                                                 \n",
            " dense_19 (Dense)            (None, 30)                930       \n",
            "                                                                 \n",
            " dense_20 (Dense)            (None, 20)                620       \n",
            "                                                                 \n",
            " dense_21 (Dense)            (None, 20)                420       \n",
            "                                                                 \n",
            " dense_22 (Dense)            (None, 25)                525       \n",
            "                                                                 \n",
            "=================================================================\n",
            "Total params: 94,125\n",
            "Trainable params: 94,125\n",
            "Non-trainable params: 0\n",
            "_________________________________________________________________\n"
          ]
        }
      ],
      "source": [
        "# Function that tests the model above\n",
        "valacc, history, model = do_all(hiddensizes, actfn, optimizer, learningrate, n_train, n_valid, n_epochs, batch_size)\n",
        "model.summary()"
      ]
    },
    {
      "cell_type": "code",
      "execution_count": null,
      "metadata": {
        "colab": {
          "background_save": true
        },
        "id": "SkDugopMxAKO"
      },
      "outputs": [],
      "source": [
        "# DNN Model 4\n",
        "# two dense layers in preactivation\n",
        "# two dense hidden layers in forward propogation\n",
        "\n",
        "n_train = 60000\n",
        "n_valid = 784\n",
        "# number and size of hidden layers\n",
        "hiddensizes = [100, 30, 20]  # testing out one extra layer\n",
        "# activation function to be used by hidden layers\n",
        "actfn = \"relu\"\n",
        "# optimiser and learning rate\n",
        "optimizer = keras.optimizers.Adam\n",
        "learningrate = 0.001\n",
        "# size of batch and number of epochs\n",
        "batch_size = 50\n",
        "n_epochs = 20\n",
        "\n",
        "# and the function\n",
        "def model_dense(hiddensizes, actfn, optimizer, learningrate):\n",
        "    model = keras.models.Sequential()\n",
        "    model.add(keras.layers.Flatten(input_shape = [28, 28, 1]))  \n",
        "    model.add(keras.layers.Flatten(input_shape = [28, 28, 1]))    \n",
        "    for n in hiddensizes:\n",
        "        model.add(keras.layers.Dense(n, activation = actfn))\n",
        "        model.add(keras.layers.Dense(n, activation = actfn))\n",
        "    model.add(keras.layers.Dense(25, activation = \"softmax\"))  \n",
        "    model.compile(loss=\"sparse_categorical_crossentropy\", optimizer=optimizer(learning_rate=learningrate), metrics=[\"accuracy\"])\n",
        "    return model"
      ]
    },
    {
      "cell_type": "code",
      "execution_count": null,
      "metadata": {
        "colab": {
          "background_save": true
        },
        "id": "ePDCBvfexC74"
      },
      "outputs": [],
      "source": [
        "def do_all(hiddensizes, actfn, optimizer, learningrate, n_train, n_valid, n_epochs, batch_size, further_callbacks=[]):\n",
        "    if further_callbacks != []:\n",
        "        callbacks = further_callbacks\n",
        "    else:\n",
        "        callbacks = [early_stopping_cb]\n",
        "    model = model_dense(hiddensizes, actfn, optimizer, learningrate)\n",
        "    history = model.fit(X_train[:n_train,:,:], y_train[:n_train], epochs=n_epochs, callbacks = callbacks,\n",
        "                        validation_data=(X_valid[:n_valid,:,:], y_valid[:n_valid]))\n",
        "    max_val_acc = np.max(history.history['val_accuracy'])\n",
        "    return (max_val_acc, history, model)"
      ]
    },
    {
      "cell_type": "code",
      "execution_count": null,
      "metadata": {
        "colab": {
          "background_save": true
        },
        "id": "DtC6gaduxFah",
        "outputId": "fedf4b77-6fd3-40ae-88c3-503220ea0d75"
      },
      "outputs": [
        {
          "name": "stdout",
          "output_type": "stream",
          "text": [
            "Epoch 1/20\n",
            "1875/1875 [==============================] - 8s 4ms/step - loss: 0.6149 - accuracy: 0.7856 - val_loss: 45.0254 - val_accuracy: 0.8508\n",
            "Epoch 2/20\n",
            "1875/1875 [==============================] - 7s 4ms/step - loss: 0.4047 - accuracy: 0.8554 - val_loss: 49.2977 - val_accuracy: 0.8482\n",
            "Epoch 3/20\n",
            "1875/1875 [==============================] - 7s 4ms/step - loss: 0.3651 - accuracy: 0.8673 - val_loss: 52.0758 - val_accuracy: 0.8469\n",
            "Epoch 4/20\n",
            "1875/1875 [==============================] - 8s 4ms/step - loss: 0.3392 - accuracy: 0.8778 - val_loss: 40.4182 - val_accuracy: 0.8597\n",
            "Epoch 5/20\n",
            "1875/1875 [==============================] - 7s 4ms/step - loss: 0.3202 - accuracy: 0.8845 - val_loss: 52.3122 - val_accuracy: 0.8418\n",
            "Epoch 6/20\n",
            "1875/1875 [==============================] - 9s 5ms/step - loss: 0.3069 - accuracy: 0.8879 - val_loss: 46.2915 - val_accuracy: 0.8469\n",
            "Epoch 7/20\n",
            "1875/1875 [==============================] - 9s 5ms/step - loss: 0.2924 - accuracy: 0.8925 - val_loss: 35.5741 - val_accuracy: 0.8571\n",
            "Epoch 8/20\n",
            "1875/1875 [==============================] - 7s 4ms/step - loss: 0.2831 - accuracy: 0.8945 - val_loss: 41.8814 - val_accuracy: 0.8610\n",
            "Epoch 9/20\n",
            "1875/1875 [==============================] - 7s 4ms/step - loss: 0.2744 - accuracy: 0.8996 - val_loss: 38.1541 - val_accuracy: 0.8852\n",
            "Epoch 10/20\n",
            "1875/1875 [==============================] - 7s 4ms/step - loss: 0.2643 - accuracy: 0.9029 - val_loss: 45.5239 - val_accuracy: 0.8559\n",
            "Epoch 11/20\n",
            "1875/1875 [==============================] - 7s 4ms/step - loss: 0.2581 - accuracy: 0.9042 - val_loss: 50.1957 - val_accuracy: 0.8622\n",
            "Epoch 12/20\n",
            "1875/1875 [==============================] - 7s 4ms/step - loss: 0.2478 - accuracy: 0.9085 - val_loss: 46.0336 - val_accuracy: 0.8686\n",
            "Epoch 13/20\n",
            "1875/1875 [==============================] - 7s 4ms/step - loss: 0.2424 - accuracy: 0.9100 - val_loss: 53.6815 - val_accuracy: 0.8482\n",
            "Epoch 14/20\n",
            "1875/1875 [==============================] - 7s 4ms/step - loss: 0.2379 - accuracy: 0.9121 - val_loss: 57.1604 - val_accuracy: 0.8304\n",
            "Model: \"sequential_11\"\n",
            "_________________________________________________________________\n",
            " Layer (type)                Output Shape              Param #   \n",
            "=================================================================\n",
            " flatten_12 (Flatten)        (None, 784)               0         \n",
            "                                                                 \n",
            " flatten_13 (Flatten)        (None, 784)               0         \n",
            "                                                                 \n",
            " dense_23 (Dense)            (None, 100)               78500     \n",
            "                                                                 \n",
            " dense_24 (Dense)            (None, 100)               10100     \n",
            "                                                                 \n",
            " dense_25 (Dense)            (None, 30)                3030      \n",
            "                                                                 \n",
            " dense_26 (Dense)            (None, 30)                930       \n",
            "                                                                 \n",
            " dense_27 (Dense)            (None, 20)                620       \n",
            "                                                                 \n",
            " dense_28 (Dense)            (None, 20)                420       \n",
            "                                                                 \n",
            " dense_29 (Dense)            (None, 25)                525       \n",
            "                                                                 \n",
            "=================================================================\n",
            "Total params: 94,125\n",
            "Trainable params: 94,125\n",
            "Non-trainable params: 0\n",
            "_________________________________________________________________\n"
          ]
        }
      ],
      "source": [
        "# Function that tests the model above\n",
        "valacc, history, model = do_all(hiddensizes, actfn, optimizer, learningrate, n_train, n_valid, n_epochs, batch_size)\n",
        "model.summary()"
      ]
    },
    {
      "cell_type": "code",
      "execution_count": null,
      "metadata": {
        "colab": {
          "background_save": true
        },
        "id": "4zdgLWgN6yvG"
      },
      "outputs": [],
      "source": [
        "# DNN Model 5\n",
        "# relu activation in foward propogation\n",
        "\n",
        "n_train = 60000\n",
        "n_valid = 784\n",
        "# number and size of hidden layers\n",
        "hiddensizes = [100, 30, 20]  # testing out one extra layer\n",
        "# activation function to be used by hidden layers\n",
        "actfn = \"relu\"\n",
        "# optimiser and learning rate\n",
        "optimizer = keras.optimizers.Adam\n",
        "# best learning rate as per the tests below\n",
        "learningrate = 0.001 # best learning rate as found below\n",
        "# size of batch and number of epochs\n",
        "batch_size = 50\n",
        "n_epochs = 20\n",
        "\n",
        "# and the function\n",
        "def model_dense(hiddensizes, actfn, optimizer, learningrate):\n",
        "    model = keras.models.Sequential()\n",
        "    model.add(keras.layers.Flatten(input_shape = [28, 28, 1]))  \n",
        "    for n in hiddensizes:\n",
        "        model.add(keras.layers.Dense(n, activation = actfn))\n",
        "    model.add(keras.layers.Dense(10, activation = \"relu\"))  \n",
        "    model.compile(loss=\"sparse_categorical_crossentropy\", optimizer=optimizer(learning_rate=learningrate), metrics=[\"accuracy\"])\n",
        "    return model"
      ]
    },
    {
      "cell_type": "code",
      "execution_count": null,
      "metadata": {
        "colab": {
          "background_save": true
        },
        "id": "aQk97gTZ6zyi"
      },
      "outputs": [],
      "source": [
        "def do_all(hiddensizes, actfn, optimizer, learningrate, n_train, n_valid, n_epochs, batch_size, further_callbacks=[]):\n",
        "    if further_callbacks != []:\n",
        "        callbacks = further_callbacks\n",
        "    else:\n",
        "        callbacks = [early_stopping_cb]\n",
        "    model = model_dense(hiddensizes, actfn, optimizer, learningrate)\n",
        "    history = model.fit(X_train[:n_train,:,:], y_train[:n_train], epochs=n_epochs, callbacks = callbacks,\n",
        "                        validation_data=(X_valid[:n_valid,:,:], y_valid[:n_valid]))\n",
        "    max_val_acc = np.max(history.history['val_accuracy'])\n",
        "    return (max_val_acc, history, model)"
      ]
    },
    {
      "cell_type": "code",
      "execution_count": null,
      "metadata": {
        "colab": {
          "background_save": true
        },
        "id": "gNPM1_om600a",
        "outputId": "3687e184-e9fd-445f-f18d-5922080a9419"
      },
      "outputs": [
        {
          "name": "stdout",
          "output_type": "stream",
          "text": [
            "Epoch 1/20\n",
            "1875/1875 [==============================] - 7s 3ms/step - loss: 2.4937 - accuracy: 0.1450 - val_loss: 2.3026 - val_accuracy: 0.0957\n",
            "Epoch 2/20\n",
            "1875/1875 [==============================] - 6s 3ms/step - loss: 2.3026 - accuracy: 0.1001 - val_loss: 2.3026 - val_accuracy: 0.0957\n",
            "Epoch 3/20\n",
            "1875/1875 [==============================] - 6s 3ms/step - loss: 2.3064 - accuracy: 0.1001 - val_loss: 2.3026 - val_accuracy: 0.0957\n",
            "Epoch 4/20\n",
            "1875/1875 [==============================] - 6s 3ms/step - loss: 2.3026 - accuracy: 0.1000 - val_loss: 2.3026 - val_accuracy: 0.0957\n",
            "Epoch 5/20\n",
            "1875/1875 [==============================] - 6s 3ms/step - loss: 2.3026 - accuracy: 0.1000 - val_loss: 2.3026 - val_accuracy: 0.0957\n",
            "Epoch 6/20\n",
            "1875/1875 [==============================] - 6s 3ms/step - loss: 2.3026 - accuracy: 0.1000 - val_loss: 2.3026 - val_accuracy: 0.0957\n",
            "Model: \"sequential_12\"\n",
            "_________________________________________________________________\n",
            " Layer (type)                Output Shape              Param #   \n",
            "=================================================================\n",
            " flatten_14 (Flatten)        (None, 784)               0         \n",
            "                                                                 \n",
            " dense_30 (Dense)            (None, 100)               78500     \n",
            "                                                                 \n",
            " dense_31 (Dense)            (None, 30)                3030      \n",
            "                                                                 \n",
            " dense_32 (Dense)            (None, 20)                620       \n",
            "                                                                 \n",
            " dense_33 (Dense)            (None, 10)                210       \n",
            "                                                                 \n",
            "=================================================================\n",
            "Total params: 82,360\n",
            "Trainable params: 82,360\n",
            "Non-trainable params: 0\n",
            "_________________________________________________________________\n"
          ]
        }
      ],
      "source": [
        "# Test the model above\n",
        "valacc, history, model = do_all(hiddensizes, actfn, optimizer, learningrate, n_train, n_valid, n_epochs, batch_size)\n",
        "model.summary()"
      ]
    },
    {
      "cell_type": "code",
      "execution_count": null,
      "metadata": {
        "colab": {
          "background_save": true
        },
        "id": "OYdpO0p768GY"
      },
      "outputs": [],
      "source": [
        "# DNN Model 6\n",
        "# Original DNN with increased hidden layer sizes\n",
        "\n",
        "n_train = 60000\n",
        "n_valid = 784\n",
        "# number and size of hidden layers\n",
        "hiddensizes = [1000, 300, 200] \n",
        "# activation function to be used by hidden layers\n",
        "actfn = \"relu\"\n",
        "# optimiser and learning rate\n",
        "optimizer = keras.optimizers.Adam\n",
        "learningrate = 0.001 \n",
        "# size of batch and number of epochs\n",
        "batch_size = 50\n",
        "n_epochs = 20\n",
        "\n",
        "# and the function\n",
        "def model_dense(hiddensizes, actfn, optimizer, learningrate):\n",
        "    model = keras.models.Sequential()\n",
        "    model.add(keras.layers.Flatten(input_shape = [28, 28, 1])) \n",
        "    for n in hiddensizes:\n",
        "        model.add(keras.layers.Dense(n, activation = actfn))\n",
        "    model.add(keras.layers.Dense(25, activation = \"softmax\")) \n",
        "    model.compile(loss=\"sparse_categorical_crossentropy\", optimizer=optimizer(learning_rate=learningrate), metrics=[\"accuracy\"])\n",
        "    return model"
      ]
    },
    {
      "cell_type": "code",
      "execution_count": null,
      "metadata": {
        "colab": {
          "background_save": true
        },
        "id": "CNO-HScJ6892"
      },
      "outputs": [],
      "source": [
        "def do_all(hiddensizes, actfn, optimizer, learningrate, n_train, n_valid, n_epochs, batch_size, further_callbacks=[]):\n",
        "    if further_callbacks != []:\n",
        "        callbacks = further_callbacks\n",
        "    else:\n",
        "        callbacks = [early_stopping_cb]\n",
        "    model = model_dense(hiddensizes, actfn, optimizer, learningrate)\n",
        "    history = model.fit(X_train[:n_train,:,:], y_train[:n_train], epochs=n_epochs, callbacks = callbacks,\n",
        "                        validation_data=(X_valid[:n_valid,:,:], y_valid[:n_valid]))\n",
        "    max_val_acc = np.max(history.history['val_accuracy'])\n",
        "    return (max_val_acc, history, model)"
      ]
    },
    {
      "cell_type": "code",
      "execution_count": null,
      "metadata": {
        "colab": {
          "background_save": true
        },
        "id": "e8Kg-i_i7QjQ",
        "outputId": "c0442c3e-4ad7-48e9-e294-fd5908f4e506"
      },
      "outputs": [
        {
          "name": "stdout",
          "output_type": "stream",
          "text": [
            "Epoch 1/20\n",
            "1875/1875 [==============================] - 29s 15ms/step - loss: 0.4918 - accuracy: 0.8225 - val_loss: 42.8082 - val_accuracy: 0.8597\n",
            "Epoch 2/20\n",
            "1875/1875 [==============================] - 28s 15ms/step - loss: 0.3690 - accuracy: 0.8647 - val_loss: 38.1493 - val_accuracy: 0.8610\n",
            "Epoch 3/20\n",
            "1875/1875 [==============================] - 28s 15ms/step - loss: 0.3312 - accuracy: 0.8773 - val_loss: 38.1442 - val_accuracy: 0.8827\n",
            "Epoch 4/20\n",
            "1875/1875 [==============================] - 30s 16ms/step - loss: 0.3041 - accuracy: 0.8874 - val_loss: 42.1049 - val_accuracy: 0.8801\n",
            "Epoch 5/20\n",
            "1875/1875 [==============================] - 31s 16ms/step - loss: 0.2868 - accuracy: 0.8934 - val_loss: 36.4761 - val_accuracy: 0.8827\n",
            "Epoch 6/20\n",
            "1875/1875 [==============================] - 29s 15ms/step - loss: 0.2704 - accuracy: 0.8997 - val_loss: 46.6699 - val_accuracy: 0.8661\n",
            "Epoch 7/20\n",
            "1875/1875 [==============================] - 29s 15ms/step - loss: 0.2599 - accuracy: 0.9028 - val_loss: 49.9859 - val_accuracy: 0.8546\n",
            "Epoch 8/20\n",
            "1875/1875 [==============================] - 28s 15ms/step - loss: 0.2461 - accuracy: 0.9067 - val_loss: 53.0374 - val_accuracy: 0.8469\n",
            "Model: \"sequential_13\"\n",
            "_________________________________________________________________\n",
            " Layer (type)                Output Shape              Param #   \n",
            "=================================================================\n",
            " flatten_15 (Flatten)        (None, 784)               0         \n",
            "                                                                 \n",
            " dense_34 (Dense)            (None, 1000)              785000    \n",
            "                                                                 \n",
            " dense_35 (Dense)            (None, 300)               300300    \n",
            "                                                                 \n",
            " dense_36 (Dense)            (None, 200)               60200     \n",
            "                                                                 \n",
            " dense_37 (Dense)            (None, 25)                5025      \n",
            "                                                                 \n",
            "=================================================================\n",
            "Total params: 1,150,525\n",
            "Trainable params: 1,150,525\n",
            "Non-trainable params: 0\n",
            "_________________________________________________________________\n"
          ]
        }
      ],
      "source": [
        "# Function that tests the model above\n",
        "valacc, history, model = do_all(hiddensizes, actfn, optimizer, learningrate, n_train, n_valid, n_epochs, batch_size)\n",
        "model.summary()"
      ]
    },
    {
      "cell_type": "code",
      "execution_count": null,
      "metadata": {
        "colab": {
          "background_save": true
        },
        "id": "bbIXP36n7Xw1"
      },
      "outputs": [],
      "source": [
        "# DNN Model 7\n",
        "# Baseline with increased batch size\n",
        "# increased hidden layer size\n",
        "\n",
        "n_train = 60000\n",
        "n_valid = 784\n",
        "# number and size of hidden layers\n",
        "hiddensizes = [1000, 300, 200]  # testing out one extra layer\n",
        "# activation function to be used by hidden layers\n",
        "actfn = \"relu\"\n",
        "# optimiser and learning rate\n",
        "optimizer = keras.optimizers.Adam\n",
        "# best learning rate as per the tests below\n",
        "learningrate = 0.001 # best learning rate as found below\n",
        "# size of batch and number of epochs\n",
        "batch_size = 100\n",
        "n_epochs = 20\n",
        "\n",
        "# and the function\n",
        "def model_dense(hiddensizes, actfn, optimizer, learningrate):\n",
        "    model = keras.models.Sequential()\n",
        "    model.add(keras.layers.Flatten(input_shape = [28, 28, 1]))   \n",
        "    for n in hiddensizes:\n",
        "        model.add(keras.layers.Dense(n, activation = actfn))\n",
        "    model.add(keras.layers.Dense(25, activation = \"softmax\"))   \n",
        "    model.compile(loss=\"sparse_categorical_crossentropy\", optimizer=optimizer(learning_rate=learningrate), metrics=[\"accuracy\"])\n",
        "    return model"
      ]
    },
    {
      "cell_type": "code",
      "execution_count": null,
      "metadata": {
        "colab": {
          "background_save": true
        },
        "id": "JjMZB7o569so"
      },
      "outputs": [],
      "source": [
        "def do_all(hiddensizes, actfn, optimizer, learningrate, n_train, n_valid, n_epochs, batch_size, further_callbacks=[]):\n",
        "    if further_callbacks != []:\n",
        "        callbacks = further_callbacks\n",
        "    else:\n",
        "        callbacks = [early_stopping_cb]\n",
        "    model = model_dense(hiddensizes, actfn, optimizer, learningrate)\n",
        "    history = model.fit(X_train[:n_train,:,:], y_train[:n_train], epochs=n_epochs, callbacks = callbacks,\n",
        "                        validation_data=(X_valid[:n_valid,:,:], y_valid[:n_valid]))\n",
        "    max_val_acc = np.max(history.history['val_accuracy'])\n",
        "    return (max_val_acc, history, model)"
      ]
    },
    {
      "cell_type": "code",
      "execution_count": null,
      "metadata": {
        "colab": {
          "background_save": true
        },
        "id": "WijE5HMA7Y24",
        "outputId": "e5c12caf-875b-446d-8d7a-396bd98a9e84"
      },
      "outputs": [
        {
          "name": "stdout",
          "output_type": "stream",
          "text": [
            "Epoch 1/20\n",
            "1875/1875 [==============================] - 28s 15ms/step - loss: 0.4911 - accuracy: 0.8216 - val_loss: 51.6129 - val_accuracy: 0.8393\n",
            "Epoch 2/20\n",
            "1875/1875 [==============================] - 27s 15ms/step - loss: 0.3716 - accuracy: 0.8650 - val_loss: 41.0632 - val_accuracy: 0.8457\n",
            "Epoch 3/20\n",
            "1875/1875 [==============================] - 30s 16ms/step - loss: 0.3304 - accuracy: 0.8784 - val_loss: 37.8704 - val_accuracy: 0.8776\n",
            "Epoch 4/20\n",
            "1875/1875 [==============================] - 28s 15ms/step - loss: 0.3081 - accuracy: 0.8850 - val_loss: 49.7821 - val_accuracy: 0.8520\n",
            "Epoch 5/20\n",
            "1875/1875 [==============================] - 28s 15ms/step - loss: 0.2880 - accuracy: 0.8923 - val_loss: 43.3660 - val_accuracy: 0.8610\n",
            "Epoch 6/20\n",
            "1875/1875 [==============================] - 28s 15ms/step - loss: 0.2750 - accuracy: 0.8959 - val_loss: 48.2491 - val_accuracy: 0.8635\n",
            "Epoch 7/20\n",
            "1875/1875 [==============================] - 26s 14ms/step - loss: 0.2617 - accuracy: 0.9017 - val_loss: 48.8119 - val_accuracy: 0.8661\n",
            "Epoch 8/20\n",
            "1875/1875 [==============================] - 26s 14ms/step - loss: 0.2509 - accuracy: 0.9058 - val_loss: 46.2441 - val_accuracy: 0.8673\n",
            "Model: \"sequential_14\"\n",
            "_________________________________________________________________\n",
            " Layer (type)                Output Shape              Param #   \n",
            "=================================================================\n",
            " flatten_16 (Flatten)        (None, 784)               0         \n",
            "                                                                 \n",
            " dense_38 (Dense)            (None, 1000)              785000    \n",
            "                                                                 \n",
            " dense_39 (Dense)            (None, 300)               300300    \n",
            "                                                                 \n",
            " dense_40 (Dense)            (None, 200)               60200     \n",
            "                                                                 \n",
            " dense_41 (Dense)            (None, 25)                5025      \n",
            "                                                                 \n",
            "=================================================================\n",
            "Total params: 1,150,525\n",
            "Trainable params: 1,150,525\n",
            "Non-trainable params: 0\n",
            "_________________________________________________________________\n"
          ]
        }
      ],
      "source": [
        "# Function that tests the model above\n",
        "valacc, history, model = do_all(hiddensizes, actfn, optimizer, learningrate, n_train, n_valid, n_epochs, batch_size)\n",
        "model.summary()"
      ]
    },
    {
      "cell_type": "code",
      "execution_count": 14,
      "metadata": {
        "id": "jIYYDQj270cQ"
      },
      "outputs": [],
      "source": [
        "# DNN Model 8\n",
        "# baseline with increased hidden layer size\n",
        "# more epochs\n",
        "\n",
        "n_train = 60000\n",
        "n_valid = 784\n",
        "# number and size of hidden layers\n",
        "hiddensizes = [1000, 300, 200]  # testing out one extra layer\n",
        "# activation function to be used by hidden layers\n",
        "actfn = \"relu\"\n",
        "# optimiser and learning rate\n",
        "optimizer = keras.optimizers.Adam\n",
        "# best learning rate as per the tests below\n",
        "learningrate = 0.001 # best learning rate as found below\n",
        "# size of batch and number of epochs\n",
        "batch_size = 50\n",
        "n_epochs = 100\n",
        "\n",
        "# and the function\n",
        "def model_dense(hiddensizes, actfn, optimizer, learningrate):\n",
        "    model = keras.models.Sequential()\n",
        "    model.add(keras.layers.Flatten(input_shape = [28, 28, 1]))   \n",
        "    for n in hiddensizes:\n",
        "        model.add(keras.layers.Dense(n, activation = actfn))\n",
        "    model.add(keras.layers.Dense(25, activation = \"softmax\"))  \n",
        "    model.compile(loss=\"sparse_categorical_crossentropy\", optimizer=optimizer(learning_rate=learningrate), metrics=[\"accuracy\"])\n",
        "    return model"
      ]
    },
    {
      "cell_type": "code",
      "execution_count": 15,
      "metadata": {
        "id": "86ehgQVa71WF"
      },
      "outputs": [],
      "source": [
        "def do_all(hiddensizes, actfn, optimizer, learningrate, n_train, n_valid, n_epochs, batch_size, further_callbacks=[]):\n",
        "    if further_callbacks != []:\n",
        "        callbacks = further_callbacks\n",
        "    else:\n",
        "        callbacks = [early_stopping_cb]\n",
        "    model = model_dense(hiddensizes, actfn, optimizer, learningrate)\n",
        "    history = model.fit(X_train[:n_train,:,:], y_train[:n_train], epochs=n_epochs, callbacks = callbacks,\n",
        "                        validation_data=(X_valid[:n_valid,:,:], y_valid[:n_valid]))\n",
        "    max_val_acc = np.max(history.history['val_accuracy'])\n",
        "    return (max_val_acc, history, model)"
      ]
    },
    {
      "cell_type": "code",
      "execution_count": 19,
      "metadata": {
        "id": "O5q_cLGp-OuB",
        "colab": {
          "base_uri": "https://localhost:8080/"
        },
        "outputId": "deaa6946-3c02-4e8e-9f3c-b5db66e9c96f"
      },
      "outputs": [
        {
          "output_type": "stream",
          "name": "stdout",
          "text": [
            "Epoch 1/100\n",
            "1875/1875 [==============================] - 27s 14ms/step - loss: 0.4932 - accuracy: 0.8217 - val_loss: 46.9897 - val_accuracy: 0.8648\n",
            "Epoch 2/100\n",
            "1875/1875 [==============================] - 25s 14ms/step - loss: 0.3703 - accuracy: 0.8655 - val_loss: 53.0990 - val_accuracy: 0.8278\n",
            "Epoch 3/100\n",
            "1875/1875 [==============================] - 27s 15ms/step - loss: 0.3326 - accuracy: 0.8783 - val_loss: 47.4716 - val_accuracy: 0.8597\n",
            "Epoch 4/100\n",
            "1875/1875 [==============================] - 27s 14ms/step - loss: 0.3061 - accuracy: 0.8878 - val_loss: 43.3303 - val_accuracy: 0.8724\n",
            "Epoch 5/100\n",
            "1875/1875 [==============================] - 27s 14ms/step - loss: 0.2897 - accuracy: 0.8918 - val_loss: 46.2517 - val_accuracy: 0.8610\n",
            "Epoch 6/100\n",
            "1875/1875 [==============================] - 27s 14ms/step - loss: 0.2760 - accuracy: 0.8960 - val_loss: 34.9231 - val_accuracy: 0.8916\n",
            "Epoch 7/100\n",
            "1875/1875 [==============================] - 27s 14ms/step - loss: 0.2607 - accuracy: 0.9022 - val_loss: 50.8181 - val_accuracy: 0.8661\n",
            "Epoch 8/100\n",
            "1875/1875 [==============================] - 30s 16ms/step - loss: 0.2491 - accuracy: 0.9056 - val_loss: 38.5304 - val_accuracy: 0.8903\n",
            "Epoch 9/100\n",
            "1875/1875 [==============================] - 26s 14ms/step - loss: 0.2397 - accuracy: 0.9087 - val_loss: 39.3911 - val_accuracy: 0.8763\n",
            "Epoch 10/100\n",
            "1875/1875 [==============================] - 26s 14ms/step - loss: 0.2297 - accuracy: 0.9119 - val_loss: 43.8817 - val_accuracy: 0.8635\n",
            "Epoch 11/100\n",
            "1875/1875 [==============================] - 27s 14ms/step - loss: 0.2223 - accuracy: 0.9165 - val_loss: 53.2836 - val_accuracy: 0.8712\n",
            "Model: \"sequential\"\n",
            "_________________________________________________________________\n",
            " Layer (type)                Output Shape              Param #   \n",
            "=================================================================\n",
            " flatten (Flatten)           (None, 784)               0         \n",
            "                                                                 \n",
            " dense (Dense)               (None, 1000)              785000    \n",
            "                                                                 \n",
            " dense_1 (Dense)             (None, 300)               300300    \n",
            "                                                                 \n",
            " dense_2 (Dense)             (None, 200)               60200     \n",
            "                                                                 \n",
            " dense_3 (Dense)             (None, 25)                5025      \n",
            "                                                                 \n",
            "=================================================================\n",
            "Total params: 1,150,525\n",
            "Trainable params: 1,150,525\n",
            "Non-trainable params: 0\n",
            "_________________________________________________________________\n"
          ]
        }
      ],
      "source": [
        "# Function that tests the model above\n",
        "valacc, history, model = do_all(hiddensizes, actfn, optimizer, learningrate, n_train, n_valid, n_epochs, batch_size)\n",
        "model.summary()"
      ]
    },
    {
      "cell_type": "code",
      "execution_count": 17,
      "metadata": {
        "id": "FgQ5WfUE72DV"
      },
      "outputs": [],
      "source": [
        "def do_all(hiddensizes, actfn, optimizer, learningrate, n_train, n_valid, n_epochs, batch_size, further_callbacks=[]):\n",
        "    if further_callbacks != []:\n",
        "        callbacks = further_callbacks\n",
        "    else:\n",
        "        callbacks = [early_stopping_cb]\n",
        "    model = model_dense(hiddensizes, actfn, optimizer, learningrate)\n",
        "    history = model.fit(X_train[:n_train,:,:], y_train[:n_train], epochs=n_epochs, callbacks = callbacks,\n",
        "                        validation_data=(X_valid[:n_valid,:,:], y_valid[:n_valid]))\n",
        "    max_val_acc = np.max(history.history['val_accuracy'])\n",
        "    return (max_val_acc, history, model)"
      ]
    },
    {
      "cell_type": "code",
      "execution_count": null,
      "metadata": {
        "id": "t4pA4N56mDmo"
      },
      "outputs": [],
      "source": []
    },
    {
      "cell_type": "markdown",
      "metadata": {
        "id": "vuZ3Ovb0mD3d"
      },
      "source": [
        "### Final model comparison and run on test set"
      ]
    },
    {
      "cell_type": "markdown",
      "metadata": {
        "id": "mzAGcNGDuTrz"
      },
      "source": [
        "###### Starting with CNN:"
      ]
    },
    {
      "cell_type": "code",
      "source": [
        "# Model 2 using new hidden sizes\n",
        "# Baseline with LR 0.0001\n",
        "\n",
        "n_train = 60000\n",
        "n_valid = 784\n",
        "hiddensizes = [32, 64, 96] \n",
        "# activation function to be used by hidden layers\n",
        "actfn = \"relu\"\n",
        "# optimiser and learning rate\n",
        "optimizer = keras.optimizers.Adam\n",
        "# learning rate\n",
        "learningrate = 0.0001\n",
        "# size of batch and number of epochs\n",
        "batch_size = 50\n",
        "n_epochs = 20\n",
        "\n",
        "def model_cnn(hiddensizes, actfn, optimizer, learningrate):\n",
        "    model = keras.models.Sequential()\n",
        "    model.add(keras.layers.Conv2D(filters=hiddensizes[0], kernel_size=3, strides=1, activation=actfn, padding=\"same\", input_shape=[28, 28, 1]))\n",
        "    model.add(keras.layers.MaxPooling2D(pool_size=2))\n",
        "\n",
        "    for n in hiddensizes[1:-1]:\n",
        "        model.add(keras.layers.Conv2D(filters=n, kernel_size=3, strides=1, padding=\"same\", activation=actfn)) \n",
        "        model.add(keras.layers.MaxPooling2D(pool_size=2))          # Pool (downsize)\n",
        "        model.add(keras.layers.Conv2D(filters=hiddensizes[-1], kernel_size=3, strides=1, padding=\"same\", activation=actfn))  \n",
        "        model.add(keras.layers.Flatten())                          # unravel into a 1D vector\n",
        "        model.add(keras.layers.Dense(10, activation = \"softmax\"))  # 10 classes for this dataset\n",
        "        model.compile(loss=\"sparse_categorical_crossentropy\", optimizer=optimizer(learning_rate=learningrate), metrics=[\"accuracy\"])   \n",
        "    return model"
      ],
      "metadata": {
        "id": "x1-xKym5Tj4K"
      },
      "execution_count": 167,
      "outputs": []
    },
    {
      "cell_type": "code",
      "source": [
        "def do_all(hiddensizes, actfn, optimizer, learningrate, n_train, n_valid, n_epochs, batch_size, further_callbacks=[]):\n",
        "    if further_callbacks != []:\n",
        "        callbacks = further_callbacks\n",
        "    else:\n",
        "        callbacks = [early_stopping_cb]\n",
        "    model = model_cnn(hiddensizes, actfn, optimizer, learningrate)\n",
        "    history = model.fit(X_train[:n_train,:,:], y_train[:n_train], epochs=n_epochs, callbacks = callbacks,\n",
        "                        validation_data=(X_valid[:n_valid,:,:], y_valid[:n_valid]))\n",
        "    max_val_acc = np.max(history.history['val_accuracy'])\n",
        "    return (max_val_acc, history, model)"
      ],
      "metadata": {
        "id": "1EFqebapTmuD"
      },
      "execution_count": 168,
      "outputs": []
    },
    {
      "cell_type": "code",
      "source": [
        "# Function that tests the model above\n",
        "valacc, history, model = do_all(hiddensizes, actfn, optimizer, learningrate, n_train, n_valid, n_epochs, batch_size)\n",
        "model.summary()"
      ],
      "metadata": {
        "colab": {
          "base_uri": "https://localhost:8080/"
        },
        "id": "XQuE9PYWToAw",
        "outputId": "9060ede3-d694-48a5-e44d-7884cf549d0d"
      },
      "execution_count": 169,
      "outputs": [
        {
          "output_type": "stream",
          "name": "stdout",
          "text": [
            "Epoch 1/20\n",
            "1875/1875 [==============================] - 112s 59ms/step - loss: 0.6467 - accuracy: 0.7716 - val_loss: 47.3778 - val_accuracy: 0.8304\n",
            "Epoch 2/20\n",
            "1875/1875 [==============================] - 111s 59ms/step - loss: 0.4231 - accuracy: 0.8494 - val_loss: 41.8094 - val_accuracy: 0.8444\n",
            "Epoch 3/20\n",
            "1875/1875 [==============================] - 113s 60ms/step - loss: 0.3732 - accuracy: 0.8681 - val_loss: 37.9819 - val_accuracy: 0.8724\n",
            "Epoch 4/20\n",
            "1875/1875 [==============================] - 131s 70ms/step - loss: 0.3440 - accuracy: 0.8784 - val_loss: 38.6070 - val_accuracy: 0.8712\n",
            "Epoch 5/20\n",
            "1875/1875 [==============================] - 117s 62ms/step - loss: 0.3225 - accuracy: 0.8857 - val_loss: 34.2565 - val_accuracy: 0.8801\n",
            "Epoch 6/20\n",
            "1875/1875 [==============================] - 111s 59ms/step - loss: 0.3046 - accuracy: 0.8912 - val_loss: 39.4642 - val_accuracy: 0.8635\n",
            "Epoch 7/20\n",
            "1875/1875 [==============================] - 111s 59ms/step - loss: 0.2895 - accuracy: 0.8967 - val_loss: 40.5277 - val_accuracy: 0.8635\n",
            "Epoch 8/20\n",
            "1875/1875 [==============================] - 111s 59ms/step - loss: 0.2782 - accuracy: 0.9013 - val_loss: 34.0324 - val_accuracy: 0.8750\n",
            "Epoch 9/20\n",
            "1875/1875 [==============================] - 111s 59ms/step - loss: 0.2687 - accuracy: 0.9041 - val_loss: 36.2462 - val_accuracy: 0.8737\n",
            "Epoch 10/20\n",
            "1875/1875 [==============================] - 111s 59ms/step - loss: 0.2587 - accuracy: 0.9080 - val_loss: 35.8667 - val_accuracy: 0.8724\n",
            "Model: \"sequential_9\"\n",
            "_________________________________________________________________\n",
            " Layer (type)                Output Shape              Param #   \n",
            "=================================================================\n",
            " conv2d_28 (Conv2D)          (None, 28, 28, 32)        320       \n",
            "                                                                 \n",
            " max_pooling2d_22 (MaxPoolin  (None, 14, 14, 32)       0         \n",
            " g2D)                                                            \n",
            "                                                                 \n",
            " conv2d_29 (Conv2D)          (None, 14, 14, 64)        18496     \n",
            "                                                                 \n",
            " max_pooling2d_23 (MaxPoolin  (None, 7, 7, 64)         0         \n",
            " g2D)                                                            \n",
            "                                                                 \n",
            " conv2d_30 (Conv2D)          (None, 7, 7, 96)          55392     \n",
            "                                                                 \n",
            " flatten_9 (Flatten)         (None, 4704)              0         \n",
            "                                                                 \n",
            " dense_18 (Dense)            (None, 10)                47050     \n",
            "                                                                 \n",
            "=================================================================\n",
            "Total params: 121,258\n",
            "Trainable params: 121,258\n",
            "Non-trainable params: 0\n",
            "_________________________________________________________________\n"
          ]
        }
      ]
    },
    {
      "cell_type": "code",
      "execution_count": 170,
      "metadata": {
        "id": "YiPC2wtXtEFc"
      },
      "outputs": [],
      "source": [
        "def plot_history(history):\n",
        "    # Plot the results (shifting validation curves appropriately)\n",
        "    plt.figure(figsize=(8,5))\n",
        "    n = len(history.history['accuracy'])\n",
        "    plt.plot(np.arange(0,n),history.history['accuracy'], color='orange')\n",
        "    plt.plot(np.arange(0,n),history.history['loss'],'b')\n",
        "    plt.plot(np.arange(0,n)+0.5,history.history['val_accuracy'],'r')  # offset both validation curves\n",
        "    plt.plot(np.arange(0,n)+0.5,history.history['val_loss'],'g')\n",
        "    plt.legend(['Train Acc','Train Loss','Val Acc','Val Loss'])\n",
        "    plt.grid(True)\n",
        "    plt.gca().set_ylim(0, 1) # set the vertical range to [0-1] \n",
        "    plt.show() "
      ]
    },
    {
      "cell_type": "code",
      "source": [
        "plot_history(history)"
      ],
      "metadata": {
        "colab": {
          "base_uri": "https://localhost:8080/",
          "height": 326
        },
        "id": "Z_HYOXjVTrIl",
        "outputId": "fd9c9311-a233-4e1f-82b5-3e8f243340ab"
      },
      "execution_count": 171,
      "outputs": [
        {
          "output_type": "display_data",
          "data": {
            "text/plain": [
              "<Figure size 576x360 with 1 Axes>"
            ],
            "image/png": "[encoded data removed]"
          },
          "metadata": {}
        }
      ]
    },
    {
      "cell_type": "code",
      "source": [
        "from tensorflow.keras.models import save_model, load_model\n",
        "save_model(model,'20.model')"
      ],
      "metadata": {
        "colab": {
          "base_uri": "https://localhost:8080/"
        },
        "id": "X-WtGXxxTvYt",
        "outputId": "22f594d8-a483-481e-be16-3a0d29e7fe7d"
      },
      "execution_count": 172,
      "outputs": [
        {
          "output_type": "stream",
          "name": "stderr",
          "text": [
            "WARNING:absl:Found untraced functions such as _jit_compiled_convolution_op, _jit_compiled_convolution_op, _jit_compiled_convolution_op while saving (showing 3 of 3). These functions will not be directly callable after loading.\n"
          ]
        }
      ]
    },
    {
      "cell_type": "code",
      "source": [
        "saved_model = load_model('20.model', compile=False)\n",
        "saved_model.compile(optimizer='adam',\n",
        "          loss='sparse_categorical_crossentropy',\n",
        "          metrics=['accuracy'])\n",
        "predictions = saved_model.predict([X_test])\n"
      ],
      "metadata": {
        "colab": {
          "base_uri": "https://localhost:8080/"
        },
        "id": "CvyXVhXmT-zN",
        "outputId": "5dda5e9d-2c41-4a4d-aedb-c3f144c41167"
      },
      "execution_count": 173,
      "outputs": [
        {
          "output_type": "stream",
          "name": "stdout",
          "text": [
            "157/157 [==============================] - 3s 16ms/step\n"
          ]
        }
      ]
    },
    {
      "cell_type": "code",
      "source": [
        "np.argmax(predictions[4600])"
      ],
      "metadata": {
        "colab": {
          "base_uri": "https://localhost:8080/"
        },
        "id": "_15feoFgUA8w",
        "outputId": "1afea868-9db3-4a2b-dd0b-74e24c3da0b6"
      },
      "execution_count": 174,
      "outputs": [
        {
          "output_type": "execute_result",
          "data": {
            "text/plain": [
              "5"
            ]
          },
          "metadata": {},
          "execution_count": 174
        }
      ]
    },
    {
      "cell_type": "code",
      "source": [
        "score = model.evaluate(X_test, y_test, verbose=0)\n",
        "print(type(score))\n",
        "print('Test Score:', score[0])\n",
        "print('Test Accuracy:', score[1])"
      ],
      "metadata": {
        "id": "D7M6Ah9e4XkV"
      },
      "execution_count": null,
      "outputs": []
    },
    {
      "cell_type": "code",
      "execution_count": 175,
      "metadata": {
        "id": "haxakylcmG9Q"
      },
      "outputs": [],
      "source": [
        "# Model 2 using new hidden sizes\n",
        "# Baseline with LR 0.001\n",
        "\n",
        "n_train = 60000\n",
        "n_valid = 784\n",
        "hiddensizes = [32, 64, 96] \n",
        "# activation function to be used by hidden layers\n",
        "actfn = \"relu\"\n",
        "# optimiser and learning rate\n",
        "optimizer = keras.optimizers.Adam\n",
        "# learning rate\n",
        "learningrate = 0.001\n",
        "# size of batch and number of epochs\n",
        "batch_size = 50\n",
        "n_epochs = 20\n",
        "\n",
        "def model_cnn(hiddensizes, actfn, optimizer, learningrate):\n",
        "    model = keras.models.Sequential()\n",
        "    model.add(keras.layers.Conv2D(filters=hiddensizes[0], kernel_size=3, strides=1, activation=actfn, padding=\"same\", input_shape=[28, 28, 1]))\n",
        "    model.add(keras.layers.MaxPooling2D(pool_size=2))\n",
        "\n",
        "    for n in hiddensizes[1:-1]:\n",
        "        model.add(keras.layers.Conv2D(filters=n, kernel_size=3, strides=1, padding=\"same\", activation=actfn)) \n",
        "        model.add(keras.layers.MaxPooling2D(pool_size=2))          # Pool (downsize)\n",
        "        model.add(keras.layers.Conv2D(filters=hiddensizes[-1], kernel_size=3, strides=1, padding=\"same\", activation=actfn))  \n",
        "        model.add(keras.layers.Flatten())                          # unravel into a 1D vector\n",
        "        model.add(keras.layers.Dense(10, activation = \"softmax\"))  # 10 classes for this dataset\n",
        "        model.compile(loss=\"sparse_categorical_crossentropy\", optimizer=optimizer(learning_rate=learningrate), metrics=[\"accuracy\"])   \n",
        "    return model"
      ]
    },
    {
      "cell_type": "code",
      "execution_count": 176,
      "metadata": {
        "id": "xjQoNClGmH6F"
      },
      "outputs": [],
      "source": [
        "def do_all(hiddensizes, actfn, optimizer, learningrate, n_train, n_valid, n_epochs, batch_size, further_callbacks=[]):\n",
        "    if further_callbacks != []:\n",
        "        callbacks = further_callbacks\n",
        "    else:\n",
        "        callbacks = [early_stopping_cb]\n",
        "    model = model_cnn(hiddensizes, actfn, optimizer, learningrate)\n",
        "    history = model.fit(X_train[:n_train,:,:], y_train[:n_train], epochs=n_epochs, callbacks = callbacks,\n",
        "                        validation_data=(X_valid[:n_valid,:,:], y_valid[:n_valid]))\n",
        "    max_val_acc = np.max(history.history['val_accuracy'])\n",
        "    return (max_val_acc, history, model)"
      ]
    },
    {
      "cell_type": "code",
      "execution_count": 177,
      "metadata": {
        "id": "ZzE8wn1RmK9q",
        "colab": {
          "base_uri": "https://localhost:8080/"
        },
        "outputId": "0d8a4d54-b95e-4ff9-cb15-c8b21173f458"
      },
      "outputs": [
        {
          "output_type": "stream",
          "name": "stdout",
          "text": [
            "Epoch 1/20\n",
            "1875/1875 [==============================] - 111s 59ms/step - loss: 0.4129 - accuracy: 0.8508 - val_loss: 28.2334 - val_accuracy: 0.8941\n",
            "Epoch 2/20\n",
            "1875/1875 [==============================] - 110s 59ms/step - loss: 0.2692 - accuracy: 0.9040 - val_loss: 24.1600 - val_accuracy: 0.8916\n",
            "Epoch 3/20\n",
            "1875/1875 [==============================] - 110s 59ms/step - loss: 0.2280 - accuracy: 0.9169 - val_loss: 20.0064 - val_accuracy: 0.8941\n",
            "Epoch 4/20\n",
            "1875/1875 [==============================] - 110s 59ms/step - loss: 0.1994 - accuracy: 0.9275 - val_loss: 25.0398 - val_accuracy: 0.8980\n",
            "Epoch 5/20\n",
            "1875/1875 [==============================] - 109s 58ms/step - loss: 0.1734 - accuracy: 0.9373 - val_loss: 28.6490 - val_accuracy: 0.8890\n",
            "Epoch 6/20\n",
            "1875/1875 [==============================] - 109s 58ms/step - loss: 0.1523 - accuracy: 0.9448 - val_loss: 33.2632 - val_accuracy: 0.8839\n",
            "Epoch 7/20\n",
            "1875/1875 [==============================] - 109s 58ms/step - loss: 0.1324 - accuracy: 0.9518 - val_loss: 38.4041 - val_accuracy: 0.8724\n",
            "Epoch 8/20\n",
            "1875/1875 [==============================] - 109s 58ms/step - loss: 0.1134 - accuracy: 0.9585 - val_loss: 40.3557 - val_accuracy: 0.8648\n",
            "Epoch 9/20\n",
            "1875/1875 [==============================] - 109s 58ms/step - loss: 0.0974 - accuracy: 0.9638 - val_loss: 48.3496 - val_accuracy: 0.8686\n",
            "Model: \"sequential_10\"\n",
            "_________________________________________________________________\n",
            " Layer (type)                Output Shape              Param #   \n",
            "=================================================================\n",
            " conv2d_31 (Conv2D)          (None, 28, 28, 32)        320       \n",
            "                                                                 \n",
            " max_pooling2d_24 (MaxPoolin  (None, 14, 14, 32)       0         \n",
            " g2D)                                                            \n",
            "                                                                 \n",
            " conv2d_32 (Conv2D)          (None, 14, 14, 64)        18496     \n",
            "                                                                 \n",
            " max_pooling2d_25 (MaxPoolin  (None, 7, 7, 64)         0         \n",
            " g2D)                                                            \n",
            "                                                                 \n",
            " conv2d_33 (Conv2D)          (None, 7, 7, 96)          55392     \n",
            "                                                                 \n",
            " flatten_10 (Flatten)        (None, 4704)              0         \n",
            "                                                                 \n",
            " dense_19 (Dense)            (None, 10)                47050     \n",
            "                                                                 \n",
            "=================================================================\n",
            "Total params: 121,258\n",
            "Trainable params: 121,258\n",
            "Non-trainable params: 0\n",
            "_________________________________________________________________\n"
          ]
        }
      ],
      "source": [
        "# Function that tests the model above\n",
        "valacc, history, model = do_all(hiddensizes, actfn, optimizer, learningrate, n_train, n_valid, n_epochs, batch_size)\n",
        "model.summary()"
      ]
    },
    {
      "cell_type": "code",
      "execution_count": 178,
      "metadata": {
        "id": "i5WY-CrUtGBC",
        "colab": {
          "base_uri": "https://localhost:8080/",
          "height": 326
        },
        "outputId": "aa66351f-0c48-451a-bab4-459cf4282f2e"
      },
      "outputs": [
        {
          "output_type": "display_data",
          "data": {
            "text/plain": [
              "<Figure size 576x360 with 1 Axes>"
            ],
            "image/png": "[encoded data removed]"
          },
          "metadata": {}
        }
      ],
      "source": [
        "plot_history(history)"
      ]
    },
    {
      "cell_type": "code",
      "source": [
        "from tensorflow.keras.models import save_model, load_model\n",
        "save_model(model,'2.model')"
      ],
      "metadata": {
        "colab": {
          "base_uri": "https://localhost:8080/"
        },
        "id": "2Hm8W-InLrfY",
        "outputId": "effe1901-5bb6-40da-c550-f755d773cae4"
      },
      "execution_count": 179,
      "outputs": [
        {
          "output_type": "stream",
          "name": "stderr",
          "text": [
            "WARNING:absl:Found untraced functions such as _jit_compiled_convolution_op, _jit_compiled_convolution_op, _jit_compiled_convolution_op while saving (showing 3 of 3). These functions will not be directly callable after loading.\n"
          ]
        }
      ]
    },
    {
      "cell_type": "code",
      "source": [
        "saved_model = load_model('2.model', compile=False)\n",
        "saved_model.compile(optimizer='adam',\n",
        "          loss='sparse_categorical_crossentropy',\n",
        "          metrics=['accuracy'])\n",
        "predictions = saved_model.predict([X_test])"
      ],
      "metadata": {
        "colab": {
          "base_uri": "https://localhost:8080/"
        },
        "id": "fHyW9NUrLz3q",
        "outputId": "be5a3e47-a882-4acf-9671-007c8bcf25f1"
      },
      "execution_count": 180,
      "outputs": [
        {
          "output_type": "stream",
          "name": "stdout",
          "text": [
            "157/157 [==============================] - 3s 17ms/step\n"
          ]
        }
      ]
    },
    {
      "cell_type": "code",
      "source": [
        "np.argmax(predictions[4600])"
      ],
      "metadata": {
        "colab": {
          "base_uri": "https://localhost:8080/"
        },
        "id": "25-MLtgVOv_m",
        "outputId": "e34c0f93-2445-4f51-879a-7828381f741e"
      },
      "execution_count": 181,
      "outputs": [
        {
          "output_type": "execute_result",
          "data": {
            "text/plain": [
              "5"
            ]
          },
          "metadata": {},
          "execution_count": 181
        }
      ]
    },
    {
      "cell_type": "code",
      "source": [
        "image = X_test[0]\n",
        "fig = plt.figure\n",
        "plt.imshow(image, cmap = 'gray')\n",
        "plt.show()"
      ],
      "metadata": {
        "colab": {
          "base_uri": "https://localhost:8080/",
          "height": 268
        },
        "id": "nu6LSljcMfRs",
        "outputId": "a4a2a543-c319-4a2c-fe78-d9f77736f19e"
      },
      "execution_count": 182,
      "outputs": [
        {
          "output_type": "display_data",
          "data": {
            "text/plain": [
              "<Figure size 432x288 with 1 Axes>"
            ],
            "image/png": "[encoded data removed]"
          },
          "metadata": {}
        }
      ]
    },
    {
      "cell_type": "code",
      "execution_count": 183,
      "metadata": {
        "id": "Ny7M7zyRtJzv",
        "colab": {
          "base_uri": "https://localhost:8080/"
        },
        "outputId": "eff1d3ee-f2cd-4013-c6a0-1ab734a7a5c9"
      },
      "outputs": [
        {
          "output_type": "stream",
          "name": "stdout",
          "text": [
            "<class 'list'>\n",
            "Test Score: 4.199514389038086\n",
            "Test Accuracy: 0.10199999809265137\n"
          ]
        }
      ],
      "source": [
        "score = model.evaluate(X_test, y_test, verbose=0)\n",
        "print(type(score))\n",
        "print('Test Score:', score[0])\n",
        "print('Test Accuracy:', score[1])"
      ]
    },
    {
      "cell_type": "code",
      "execution_count": 184,
      "metadata": {
        "id": "ZLYq63an3S_-"
      },
      "outputs": [],
      "source": [
        "# Model 2 using new hidden sizes in reverse\n",
        "# Baseline with LR 0.001\n",
        "\n",
        "n_train = 60000\n",
        "n_valid = 784\n",
        "hiddensizes = [96, 64, 32] \n",
        "# activation function to be used by hidden layers\n",
        "actfn = \"relu\"\n",
        "# optimiser and learning rate\n",
        "optimizer = keras.optimizers.Adam\n",
        "# learning rate\n",
        "learningrate = 0.0001\n",
        "# size of batch and number of epochs\n",
        "batch_size = 50\n",
        "n_epochs = 10\n",
        "\n",
        "def model_cnn(hiddensizes, actfn, optimizer, learningrate):\n",
        "    model = keras.models.Sequential()\n",
        "    model.add(keras.layers.Conv2D(filters=hiddensizes[0], kernel_size=3, strides=1, activation=actfn, padding=\"same\", input_shape=[28, 28, 1]))\n",
        "    model.add(keras.layers.MaxPooling2D(pool_size=2))\n",
        "\n",
        "    for n in hiddensizes[1:-1]:\n",
        "        model.add(keras.layers.Conv2D(filters=n, kernel_size=3, strides=1, padding=\"same\", activation=actfn)) \n",
        "        model.add(keras.layers.MaxPooling2D(pool_size=2))          # Pool (downsize)\n",
        "        model.add(keras.layers.Conv2D(filters=hiddensizes[-1], kernel_size=3, strides=1, padding=\"same\", activation=actfn))  \n",
        "        model.add(keras.layers.Flatten())                          # unravel into a 1D vector\n",
        "        model.add(keras.layers.Dense(10, activation = \"softmax\"))  # 10 classes for this dataset\n",
        "        model.compile(loss=\"sparse_categorical_crossentropy\", optimizer=optimizer(learning_rate=learningrate), metrics=[\"accuracy\"])   \n",
        "    return model"
      ]
    },
    {
      "cell_type": "code",
      "execution_count": 185,
      "metadata": {
        "id": "qgGRacFP3W2H"
      },
      "outputs": [],
      "source": [
        "def do_all(hiddensizes, actfn, optimizer, learningrate, n_train, n_valid, n_epochs, batch_size, further_callbacks=[]):\n",
        "    if further_callbacks != []:\n",
        "        callbacks = further_callbacks\n",
        "    else:\n",
        "        callbacks = [early_stopping_cb]\n",
        "    model = model_cnn(hiddensizes, actfn, optimizer, learningrate)\n",
        "    history = model.fit(X_train[:n_train,:,:], y_train[:n_train], epochs=n_epochs, callbacks = callbacks,\n",
        "                        validation_data=(X_valid[:n_valid,:,:], y_valid[:n_valid]))\n",
        "    max_val_acc = np.max(history.history['val_accuracy'])\n",
        "    return (max_val_acc, history, model)"
      ]
    },
    {
      "cell_type": "code",
      "execution_count": 186,
      "metadata": {
        "id": "cGvJ2HS83ZwJ",
        "colab": {
          "base_uri": "https://localhost:8080/"
        },
        "outputId": "2831e811-d28c-48ce-eca4-74aa7d2cfc5d"
      },
      "outputs": [
        {
          "output_type": "stream",
          "name": "stdout",
          "text": [
            "Epoch 1/10\n",
            "1875/1875 [==============================] - 209s 110ms/step - loss: 0.6781 - accuracy: 0.7597 - val_loss: 55.4699 - val_accuracy: 0.8099\n",
            "Epoch 2/10\n",
            "1875/1875 [==============================] - 206s 110ms/step - loss: 0.4362 - accuracy: 0.8443 - val_loss: 43.7515 - val_accuracy: 0.8418\n",
            "Epoch 3/10\n",
            "1875/1875 [==============================] - 208s 111ms/step - loss: 0.3845 - accuracy: 0.8626 - val_loss: 42.2754 - val_accuracy: 0.8571\n",
            "Epoch 4/10\n",
            "1875/1875 [==============================] - 209s 112ms/step - loss: 0.3538 - accuracy: 0.8741 - val_loss: 51.7203 - val_accuracy: 0.8342\n",
            "Epoch 5/10\n",
            "1875/1875 [==============================] - 214s 114ms/step - loss: 0.3327 - accuracy: 0.8811 - val_loss: 41.3238 - val_accuracy: 0.8661\n",
            "Epoch 6/10\n",
            "1875/1875 [==============================] - 206s 110ms/step - loss: 0.3154 - accuracy: 0.8881 - val_loss: 42.9893 - val_accuracy: 0.8571\n",
            "Epoch 7/10\n",
            "1875/1875 [==============================] - 208s 111ms/step - loss: 0.3015 - accuracy: 0.8926 - val_loss: 49.3268 - val_accuracy: 0.8431\n",
            "Epoch 8/10\n",
            "1875/1875 [==============================] - 206s 110ms/step - loss: 0.2907 - accuracy: 0.8969 - val_loss: 43.7465 - val_accuracy: 0.8495\n",
            "Epoch 9/10\n",
            "1875/1875 [==============================] - 208s 111ms/step - loss: 0.2809 - accuracy: 0.8995 - val_loss: 53.0056 - val_accuracy: 0.8265\n",
            "Epoch 10/10\n",
            "1875/1875 [==============================] - 208s 111ms/step - loss: 0.2737 - accuracy: 0.9018 - val_loss: 44.9544 - val_accuracy: 0.8571\n",
            "Model: \"sequential_11\"\n",
            "_________________________________________________________________\n",
            " Layer (type)                Output Shape              Param #   \n",
            "=================================================================\n",
            " conv2d_34 (Conv2D)          (None, 28, 28, 96)        960       \n",
            "                                                                 \n",
            " max_pooling2d_26 (MaxPoolin  (None, 14, 14, 96)       0         \n",
            " g2D)                                                            \n",
            "                                                                 \n",
            " conv2d_35 (Conv2D)          (None, 14, 14, 64)        55360     \n",
            "                                                                 \n",
            " max_pooling2d_27 (MaxPoolin  (None, 7, 7, 64)         0         \n",
            " g2D)                                                            \n",
            "                                                                 \n",
            " conv2d_36 (Conv2D)          (None, 7, 7, 32)          18464     \n",
            "                                                                 \n",
            " flatten_11 (Flatten)        (None, 1568)              0         \n",
            "                                                                 \n",
            " dense_20 (Dense)            (None, 10)                15690     \n",
            "                                                                 \n",
            "=================================================================\n",
            "Total params: 90,474\n",
            "Trainable params: 90,474\n",
            "Non-trainable params: 0\n",
            "_________________________________________________________________\n"
          ]
        }
      ],
      "source": [
        "# Function that tests the model above\n",
        "valacc, history, model = do_all(hiddensizes, actfn, optimizer, learningrate, n_train, n_valid, n_epochs, batch_size)\n",
        "model.summary()"
      ]
    },
    {
      "cell_type": "code",
      "execution_count": 187,
      "metadata": {
        "id": "o1G5rnQf3oTm",
        "colab": {
          "base_uri": "https://localhost:8080/",
          "height": 326
        },
        "outputId": "6b3ed5bc-9815-4bdc-b26e-cbc6556e3537"
      },
      "outputs": [
        {
          "output_type": "display_data",
          "data": {
            "text/plain": [
              "<Figure size 576x360 with 1 Axes>"
            ],
            "image/png": "[encoded data removed]"
          },
          "metadata": {}
        }
      ],
      "source": [
        "plot_history(history)"
      ]
    },
    {
      "cell_type": "code",
      "source": [
        "from tensorflow.keras.models import save_model, load_model\n",
        "save_model(model,'21.model')"
      ],
      "metadata": {
        "colab": {
          "base_uri": "https://localhost:8080/"
        },
        "id": "StT0lRY6SoKh",
        "outputId": "cab73e74-7813-49e4-f5db-abebada42f5d"
      },
      "execution_count": 188,
      "outputs": [
        {
          "output_type": "stream",
          "name": "stderr",
          "text": [
            "WARNING:absl:Found untraced functions such as _jit_compiled_convolution_op, _jit_compiled_convolution_op, _jit_compiled_convolution_op while saving (showing 3 of 3). These functions will not be directly callable after loading.\n"
          ]
        }
      ]
    },
    {
      "cell_type": "code",
      "source": [
        "saved_model = load_model('21.model', compile=False)\n",
        "saved_model.compile(optimizer='adam',\n",
        "          loss='sparse_categorical_crossentropy',\n",
        "          metrics=['accuracy'])\n",
        "predictions = saved_model.predict([X_test])"
      ],
      "metadata": {
        "colab": {
          "base_uri": "https://localhost:8080/"
        },
        "id": "uiimz7s-S46P",
        "outputId": "5bbcb66c-1798-4ddf-aa7d-274a1ad11ffe"
      },
      "execution_count": 189,
      "outputs": [
        {
          "output_type": "stream",
          "name": "stdout",
          "text": [
            "157/157 [==============================] - 4s 26ms/step\n"
          ]
        }
      ]
    },
    {
      "cell_type": "code",
      "source": [
        "np.argmax(predictions[4600])"
      ],
      "metadata": {
        "colab": {
          "base_uri": "https://localhost:8080/"
        },
        "id": "cTOXyalBS7I6",
        "outputId": "16816f0b-a9d0-43a8-c8a0-81b93fa08fff"
      },
      "execution_count": 190,
      "outputs": [
        {
          "output_type": "execute_result",
          "data": {
            "text/plain": [
              "5"
            ]
          },
          "metadata": {},
          "execution_count": 190
        }
      ]
    },
    {
      "cell_type": "code",
      "source": [
        "image = X_test[0]\n",
        "fig = plt.figure\n",
        "plt.imshow(image, cmap = 'gray')\n",
        "plt.show()"
      ],
      "metadata": {
        "colab": {
          "base_uri": "https://localhost:8080/",
          "height": 268
        },
        "id": "9B5_s_e2TAn9",
        "outputId": "aefc8ab9-71ce-4704-fd01-37078cf3f0fd"
      },
      "execution_count": 191,
      "outputs": [
        {
          "output_type": "display_data",
          "data": {
            "text/plain": [
              "<Figure size 432x288 with 1 Axes>"
            ],
            "image/png": "[encoded data removed]"
          },
          "metadata": {}
        }
      ]
    },
    {
      "cell_type": "code",
      "source": [
        "score = model.evaluate(X_test, y_test, verbose=0)\n",
        "print(type(score))\n",
        "print('Test Score:', score[0])\n",
        "print('Test Accuracy:', score[1])"
      ],
      "metadata": {
        "colab": {
          "base_uri": "https://localhost:8080/"
        },
        "id": "Sey4MAPmTLel",
        "outputId": "37754504-d6db-4dd5-a6f8-60209c51aa0f"
      },
      "execution_count": 192,
      "outputs": [
        {
          "output_type": "stream",
          "name": "stdout",
          "text": [
            "<class 'list'>\n",
            "Test Score: 3.9636292457580566\n",
            "Test Accuracy: 0.10199999809265137\n"
          ]
        }
      ]
    },
    {
      "cell_type": "code",
      "source": [],
      "metadata": {
        "id": "TSq4fF6oUIQN"
      },
      "execution_count": 192,
      "outputs": []
    },
    {
      "cell_type": "markdown",
      "source": [
        "###### Using SGD as optimiser"
      ],
      "metadata": {
        "id": "9p3Ekwa2UIqQ"
      }
    },
    {
      "cell_type": "code",
      "source": [
        "# Model 2 using new hidden sizes\n",
        "# Baseline with LR 0.0001\n",
        "\n",
        "n_train = 60000\n",
        "n_valid = 784\n",
        "hiddensizes = [32, 64, 96] \n",
        "# activation function to be used by hidden layers\n",
        "actfn = \"relu\"\n",
        "# optimiser and learning rate\n",
        "optimizer = keras.optimizers.SGD\n",
        "# learning rate\n",
        "learningrate = 0.0001\n",
        "# size of batch and number of epochs\n",
        "batch_size = 50\n",
        "n_epochs = 20\n",
        "\n",
        "def model_cnn(hiddensizes, actfn, optimizer, learningrate):\n",
        "    model = keras.models.Sequential()\n",
        "    model.add(keras.layers.Conv2D(filters=hiddensizes[0], kernel_size=3, strides=1, activation=actfn, padding=\"same\", input_shape=[28, 28, 1]))\n",
        "    model.add(keras.layers.MaxPooling2D(pool_size=2))\n",
        "\n",
        "    for n in hiddensizes[1:-1]:\n",
        "        model.add(keras.layers.Conv2D(filters=n, kernel_size=3, strides=1, padding=\"same\", activation=actfn)) \n",
        "        model.add(keras.layers.MaxPooling2D(pool_size=2))          # Pool (downsize)\n",
        "        model.add(keras.layers.Conv2D(filters=hiddensizes[-1], kernel_size=3, strides=1, padding=\"same\", activation=actfn))  \n",
        "        model.add(keras.layers.Flatten())                          # unravel into a 1D vector\n",
        "        model.add(keras.layers.Dense(10, activation = \"softmax\"))  # 10 classes for this dataset\n",
        "        model.compile(loss=\"sparse_categorical_crossentropy\", optimizer=optimizer(learning_rate=learningrate), metrics=[\"accuracy\"])   \n",
        "    return model"
      ],
      "metadata": {
        "id": "snT0NzDHUMsA"
      },
      "execution_count": 193,
      "outputs": []
    },
    {
      "cell_type": "code",
      "source": [
        "def do_all(hiddensizes, actfn, optimizer, learningrate, n_train, n_valid, n_epochs, batch_size, further_callbacks=[]):\n",
        "    if further_callbacks != []:\n",
        "        callbacks = further_callbacks\n",
        "    else:\n",
        "        callbacks = [early_stopping_cb]\n",
        "    model = model_cnn(hiddensizes, actfn, optimizer, learningrate)\n",
        "    history = model.fit(X_train[:n_train,:,:], y_train[:n_train], epochs=n_epochs, callbacks = callbacks,\n",
        "                        validation_data=(X_valid[:n_valid,:,:], y_valid[:n_valid]))\n",
        "    max_val_acc = np.max(history.history['val_accuracy'])\n",
        "    return (max_val_acc, history, model)"
      ],
      "metadata": {
        "id": "SY5z_A3jUUgS"
      },
      "execution_count": 194,
      "outputs": []
    },
    {
      "cell_type": "code",
      "source": [
        "# Function that tests the model above\n",
        "valacc, history, model = do_all(hiddensizes, actfn, optimizer, learningrate, n_train, n_valid, n_epochs, batch_size)\n",
        "model.summary()"
      ],
      "metadata": {
        "colab": {
          "base_uri": "https://localhost:8080/",
          "height": 588
        },
        "id": "J1OJEm-JUWsP",
        "outputId": "0ba9bd61-2217-423f-a26c-3495510b8e89"
      },
      "execution_count": 195,
      "outputs": [
        {
          "output_type": "stream",
          "name": "stdout",
          "text": [
            "Epoch 1/20\n",
            "1875/1875 [==============================] - 110s 58ms/step - loss: 2.2987 - accuracy: 0.1677 - val_loss: 21.4519 - val_accuracy: 0.1684\n",
            "Epoch 2/20\n",
            "1875/1875 [==============================] - 107s 57ms/step - loss: 2.2851 - accuracy: 0.1750 - val_loss: 20.3249 - val_accuracy: 0.1798\n",
            "Epoch 3/20\n",
            "1875/1875 [==============================] - 111s 59ms/step - loss: 2.2707 - accuracy: 0.1728 - val_loss: 19.8760 - val_accuracy: 0.1798\n",
            "Epoch 4/20\n",
            "1875/1875 [==============================] - 107s 57ms/step - loss: 2.2528 - accuracy: 0.1907 - val_loss: 19.6576 - val_accuracy: 0.1888\n",
            "Epoch 5/20\n",
            "1875/1875 [==============================] - 112s 60ms/step - loss: 2.2277 - accuracy: 0.2688 - val_loss: 19.8145 - val_accuracy: 0.2577\n",
            "Epoch 6/20\n",
            "1875/1875 [==============================] - 109s 58ms/step - loss: 2.1888 - accuracy: 0.3403 - val_loss: 20.3108 - val_accuracy: 0.3151\n",
            "Epoch 7/20\n",
            " 111/1875 [>.............................] - ETA: 1:42 - loss: 2.1608 - accuracy: 0.3818"
          ]
        },
        {
          "output_type": "error",
          "ename": "KeyboardInterrupt",
          "evalue": "ignored",
          "traceback": [
            "\u001b[0;31m---------------------------------------------------------------------------\u001b[0m",
            "\u001b[0;31mKeyboardInterrupt\u001b[0m                         Traceback (most recent call last)",
            "\u001b[0;32m<ipython-input-195-106ad0c9f255>\u001b[0m in \u001b[0;36m<module>\u001b[0;34m\u001b[0m\n\u001b[1;32m      1\u001b[0m \u001b[0;31m# Function that tests the model above\u001b[0m\u001b[0;34m\u001b[0m\u001b[0;34m\u001b[0m\u001b[0;34m\u001b[0m\u001b[0m\n\u001b[0;32m----> 2\u001b[0;31m \u001b[0mvalacc\u001b[0m\u001b[0;34m,\u001b[0m \u001b[0mhistory\u001b[0m\u001b[0;34m,\u001b[0m \u001b[0mmodel\u001b[0m \u001b[0;34m=\u001b[0m \u001b[0mdo_all\u001b[0m\u001b[0;34m(\u001b[0m\u001b[0mhiddensizes\u001b[0m\u001b[0;34m,\u001b[0m \u001b[0mactfn\u001b[0m\u001b[0;34m,\u001b[0m \u001b[0moptimizer\u001b[0m\u001b[0;34m,\u001b[0m \u001b[0mlearningrate\u001b[0m\u001b[0;34m,\u001b[0m \u001b[0mn_train\u001b[0m\u001b[0;34m,\u001b[0m \u001b[0mn_valid\u001b[0m\u001b[0;34m,\u001b[0m \u001b[0mn_epochs\u001b[0m\u001b[0;34m,\u001b[0m \u001b[0mbatch_size\u001b[0m\u001b[0;34m)\u001b[0m\u001b[0;34m\u001b[0m\u001b[0;34m\u001b[0m\u001b[0m\n\u001b[0m\u001b[1;32m      3\u001b[0m \u001b[0mmodel\u001b[0m\u001b[0;34m.\u001b[0m\u001b[0msummary\u001b[0m\u001b[0;34m(\u001b[0m\u001b[0;34m)\u001b[0m\u001b[0;34m\u001b[0m\u001b[0;34m\u001b[0m\u001b[0m\n",
            "\u001b[0;32m<ipython-input-194-51bc440524cd>\u001b[0m in \u001b[0;36mdo_all\u001b[0;34m(hiddensizes, actfn, optimizer, learningrate, n_train, n_valid, n_epochs, batch_size, further_callbacks)\u001b[0m\n\u001b[1;32m      6\u001b[0m     \u001b[0mmodel\u001b[0m \u001b[0;34m=\u001b[0m \u001b[0mmodel_cnn\u001b[0m\u001b[0;34m(\u001b[0m\u001b[0mhiddensizes\u001b[0m\u001b[0;34m,\u001b[0m \u001b[0mactfn\u001b[0m\u001b[0;34m,\u001b[0m \u001b[0moptimizer\u001b[0m\u001b[0;34m,\u001b[0m \u001b[0mlearningrate\u001b[0m\u001b[0;34m)\u001b[0m\u001b[0;34m\u001b[0m\u001b[0;34m\u001b[0m\u001b[0m\n\u001b[1;32m      7\u001b[0m     history = model.fit(X_train[:n_train,:,:], y_train[:n_train], epochs=n_epochs, callbacks = callbacks,\n\u001b[0;32m----> 8\u001b[0;31m                         validation_data=(X_valid[:n_valid,:,:], y_valid[:n_valid]))\n\u001b[0m\u001b[1;32m      9\u001b[0m     \u001b[0mmax_val_acc\u001b[0m \u001b[0;34m=\u001b[0m \u001b[0mnp\u001b[0m\u001b[0;34m.\u001b[0m\u001b[0mmax\u001b[0m\u001b[0;34m(\u001b[0m\u001b[0mhistory\u001b[0m\u001b[0;34m.\u001b[0m\u001b[0mhistory\u001b[0m\u001b[0;34m[\u001b[0m\u001b[0;34m'val_accuracy'\u001b[0m\u001b[0;34m]\u001b[0m\u001b[0;34m)\u001b[0m\u001b[0;34m\u001b[0m\u001b[0;34m\u001b[0m\u001b[0m\n\u001b[1;32m     10\u001b[0m     \u001b[0;32mreturn\u001b[0m \u001b[0;34m(\u001b[0m\u001b[0mmax_val_acc\u001b[0m\u001b[0;34m,\u001b[0m \u001b[0mhistory\u001b[0m\u001b[0;34m,\u001b[0m \u001b[0mmodel\u001b[0m\u001b[0;34m)\u001b[0m\u001b[0;34m\u001b[0m\u001b[0;34m\u001b[0m\u001b[0m\n",
            "\u001b[0;32m/usr/local/lib/python3.7/dist-packages/keras/utils/traceback_utils.py\u001b[0m in \u001b[0;36merror_handler\u001b[0;34m(*args, **kwargs)\u001b[0m\n\u001b[1;32m     62\u001b[0m     \u001b[0mfiltered_tb\u001b[0m \u001b[0;34m=\u001b[0m \u001b[0;32mNone\u001b[0m\u001b[0;34m\u001b[0m\u001b[0;34m\u001b[0m\u001b[0m\n\u001b[1;32m     63\u001b[0m     \u001b[0;32mtry\u001b[0m\u001b[0;34m:\u001b[0m\u001b[0;34m\u001b[0m\u001b[0;34m\u001b[0m\u001b[0m\n\u001b[0;32m---> 64\u001b[0;31m       \u001b[0;32mreturn\u001b[0m \u001b[0mfn\u001b[0m\u001b[0;34m(\u001b[0m\u001b[0;34m*\u001b[0m\u001b[0margs\u001b[0m\u001b[0;34m,\u001b[0m \u001b[0;34m**\u001b[0m\u001b[0mkwargs\u001b[0m\u001b[0;34m)\u001b[0m\u001b[0;34m\u001b[0m\u001b[0;34m\u001b[0m\u001b[0m\n\u001b[0m\u001b[1;32m     65\u001b[0m     \u001b[0;32mexcept\u001b[0m \u001b[0mException\u001b[0m \u001b[0;32mas\u001b[0m \u001b[0me\u001b[0m\u001b[0;34m:\u001b[0m  \u001b[0;31m# pylint: disable=broad-except\u001b[0m\u001b[0;34m\u001b[0m\u001b[0;34m\u001b[0m\u001b[0m\n\u001b[1;32m     66\u001b[0m       \u001b[0mfiltered_tb\u001b[0m \u001b[0;34m=\u001b[0m \u001b[0m_process_traceback_frames\u001b[0m\u001b[0;34m(\u001b[0m\u001b[0me\u001b[0m\u001b[0;34m.\u001b[0m\u001b[0m__traceback__\u001b[0m\u001b[0;34m)\u001b[0m\u001b[0;34m\u001b[0m\u001b[0;34m\u001b[0m\u001b[0m\n",
            "\u001b[0;32m/usr/local/lib/python3.7/dist-packages/keras/engine/training.py\u001b[0m in \u001b[0;36mfit\u001b[0;34m(self, x, y, batch_size, epochs, verbose, callbacks, validation_split, validation_data, shuffle, class_weight, sample_weight, initial_epoch, steps_per_epoch, validation_steps, validation_batch_size, validation_freq, max_queue_size, workers, use_multiprocessing)\u001b[0m\n\u001b[1;32m   1407\u001b[0m                 _r=1):\n\u001b[1;32m   1408\u001b[0m               \u001b[0mcallbacks\u001b[0m\u001b[0;34m.\u001b[0m\u001b[0mon_train_batch_begin\u001b[0m\u001b[0;34m(\u001b[0m\u001b[0mstep\u001b[0m\u001b[0;34m)\u001b[0m\u001b[0;34m\u001b[0m\u001b[0;34m\u001b[0m\u001b[0m\n\u001b[0;32m-> 1409\u001b[0;31m               \u001b[0mtmp_logs\u001b[0m \u001b[0;34m=\u001b[0m \u001b[0mself\u001b[0m\u001b[0;34m.\u001b[0m\u001b[0mtrain_function\u001b[0m\u001b[0;34m(\u001b[0m\u001b[0miterator\u001b[0m\u001b[0;34m)\u001b[0m\u001b[0;34m\u001b[0m\u001b[0;34m\u001b[0m\u001b[0m\n\u001b[0m\u001b[1;32m   1410\u001b[0m               \u001b[0;32mif\u001b[0m \u001b[0mdata_handler\u001b[0m\u001b[0;34m.\u001b[0m\u001b[0mshould_sync\u001b[0m\u001b[0;34m:\u001b[0m\u001b[0;34m\u001b[0m\u001b[0;34m\u001b[0m\u001b[0m\n\u001b[1;32m   1411\u001b[0m                 \u001b[0mcontext\u001b[0m\u001b[0;34m.\u001b[0m\u001b[0masync_wait\u001b[0m\u001b[0;34m(\u001b[0m\u001b[0;34m)\u001b[0m\u001b[0;34m\u001b[0m\u001b[0;34m\u001b[0m\u001b[0m\n",
            "\u001b[0;32m/usr/local/lib/python3.7/dist-packages/tensorflow/python/util/traceback_utils.py\u001b[0m in \u001b[0;36merror_handler\u001b[0;34m(*args, **kwargs)\u001b[0m\n\u001b[1;32m    148\u001b[0m     \u001b[0mfiltered_tb\u001b[0m \u001b[0;34m=\u001b[0m \u001b[0;32mNone\u001b[0m\u001b[0;34m\u001b[0m\u001b[0;34m\u001b[0m\u001b[0m\n\u001b[1;32m    149\u001b[0m     \u001b[0;32mtry\u001b[0m\u001b[0;34m:\u001b[0m\u001b[0;34m\u001b[0m\u001b[0;34m\u001b[0m\u001b[0m\n\u001b[0;32m--> 150\u001b[0;31m       \u001b[0;32mreturn\u001b[0m \u001b[0mfn\u001b[0m\u001b[0;34m(\u001b[0m\u001b[0;34m*\u001b[0m\u001b[0margs\u001b[0m\u001b[0;34m,\u001b[0m \u001b[0;34m**\u001b[0m\u001b[0mkwargs\u001b[0m\u001b[0;34m)\u001b[0m\u001b[0;34m\u001b[0m\u001b[0;34m\u001b[0m\u001b[0m\n\u001b[0m\u001b[1;32m    151\u001b[0m     \u001b[0;32mexcept\u001b[0m \u001b[0mException\u001b[0m \u001b[0;32mas\u001b[0m \u001b[0me\u001b[0m\u001b[0;34m:\u001b[0m\u001b[0;34m\u001b[0m\u001b[0;34m\u001b[0m\u001b[0m\n\u001b[1;32m    152\u001b[0m       \u001b[0mfiltered_tb\u001b[0m \u001b[0;34m=\u001b[0m \u001b[0m_process_traceback_frames\u001b[0m\u001b[0;34m(\u001b[0m\u001b[0me\u001b[0m\u001b[0;34m.\u001b[0m\u001b[0m__traceback__\u001b[0m\u001b[0;34m)\u001b[0m\u001b[0;34m\u001b[0m\u001b[0;34m\u001b[0m\u001b[0m\n",
            "\u001b[0;32m/usr/local/lib/python3.7/dist-packages/tensorflow/python/eager/def_function.py\u001b[0m in \u001b[0;36m__call__\u001b[0;34m(self, *args, **kwds)\u001b[0m\n\u001b[1;32m    913\u001b[0m \u001b[0;34m\u001b[0m\u001b[0m\n\u001b[1;32m    914\u001b[0m       \u001b[0;32mwith\u001b[0m \u001b[0mOptionalXlaContext\u001b[0m\u001b[0;34m(\u001b[0m\u001b[0mself\u001b[0m\u001b[0;34m.\u001b[0m\u001b[0m_jit_compile\u001b[0m\u001b[0;34m)\u001b[0m\u001b[0;34m:\u001b[0m\u001b[0;34m\u001b[0m\u001b[0;34m\u001b[0m\u001b[0m\n\u001b[0;32m--> 915\u001b[0;31m         \u001b[0mresult\u001b[0m \u001b[0;34m=\u001b[0m \u001b[0mself\u001b[0m\u001b[0;34m.\u001b[0m\u001b[0m_call\u001b[0m\u001b[0;34m(\u001b[0m\u001b[0;34m*\u001b[0m\u001b[0margs\u001b[0m\u001b[0;34m,\u001b[0m \u001b[0;34m**\u001b[0m\u001b[0mkwds\u001b[0m\u001b[0;34m)\u001b[0m\u001b[0;34m\u001b[0m\u001b[0;34m\u001b[0m\u001b[0m\n\u001b[0m\u001b[1;32m    916\u001b[0m \u001b[0;34m\u001b[0m\u001b[0m\n\u001b[1;32m    917\u001b[0m       \u001b[0mnew_tracing_count\u001b[0m \u001b[0;34m=\u001b[0m \u001b[0mself\u001b[0m\u001b[0;34m.\u001b[0m\u001b[0mexperimental_get_tracing_count\u001b[0m\u001b[0;34m(\u001b[0m\u001b[0;34m)\u001b[0m\u001b[0;34m\u001b[0m\u001b[0;34m\u001b[0m\u001b[0m\n",
            "\u001b[0;32m/usr/local/lib/python3.7/dist-packages/tensorflow/python/eager/def_function.py\u001b[0m in \u001b[0;36m_call\u001b[0;34m(self, *args, **kwds)\u001b[0m\n\u001b[1;32m    945\u001b[0m       \u001b[0;31m# In this case we have created variables on the first call, so we run the\u001b[0m\u001b[0;34m\u001b[0m\u001b[0;34m\u001b[0m\u001b[0;34m\u001b[0m\u001b[0m\n\u001b[1;32m    946\u001b[0m       \u001b[0;31m# defunned version which is guaranteed to never create variables.\u001b[0m\u001b[0;34m\u001b[0m\u001b[0;34m\u001b[0m\u001b[0;34m\u001b[0m\u001b[0m\n\u001b[0;32m--> 947\u001b[0;31m       \u001b[0;32mreturn\u001b[0m \u001b[0mself\u001b[0m\u001b[0;34m.\u001b[0m\u001b[0m_stateless_fn\u001b[0m\u001b[0;34m(\u001b[0m\u001b[0;34m*\u001b[0m\u001b[0margs\u001b[0m\u001b[0;34m,\u001b[0m \u001b[0;34m**\u001b[0m\u001b[0mkwds\u001b[0m\u001b[0;34m)\u001b[0m  \u001b[0;31m# pylint: disable=not-callable\u001b[0m\u001b[0;34m\u001b[0m\u001b[0;34m\u001b[0m\u001b[0m\n\u001b[0m\u001b[1;32m    948\u001b[0m     \u001b[0;32melif\u001b[0m \u001b[0mself\u001b[0m\u001b[0;34m.\u001b[0m\u001b[0m_stateful_fn\u001b[0m \u001b[0;32mis\u001b[0m \u001b[0;32mnot\u001b[0m \u001b[0;32mNone\u001b[0m\u001b[0;34m:\u001b[0m\u001b[0;34m\u001b[0m\u001b[0;34m\u001b[0m\u001b[0m\n\u001b[1;32m    949\u001b[0m       \u001b[0;31m# Release the lock early so that multiple threads can perform the call\u001b[0m\u001b[0;34m\u001b[0m\u001b[0;34m\u001b[0m\u001b[0;34m\u001b[0m\u001b[0m\n",
            "\u001b[0;32m/usr/local/lib/python3.7/dist-packages/tensorflow/python/eager/function.py\u001b[0m in \u001b[0;36m__call__\u001b[0;34m(self, *args, **kwargs)\u001b[0m\n\u001b[1;32m   2452\u001b[0m        filtered_flat_args) = self._maybe_define_function(args, kwargs)\n\u001b[1;32m   2453\u001b[0m     return graph_function._call_flat(\n\u001b[0;32m-> 2454\u001b[0;31m         filtered_flat_args, captured_inputs=graph_function.captured_inputs)  # pylint: disable=protected-access\n\u001b[0m\u001b[1;32m   2455\u001b[0m \u001b[0;34m\u001b[0m\u001b[0m\n\u001b[1;32m   2456\u001b[0m   \u001b[0;34m@\u001b[0m\u001b[0mproperty\u001b[0m\u001b[0;34m\u001b[0m\u001b[0;34m\u001b[0m\u001b[0m\n",
            "\u001b[0;32m/usr/local/lib/python3.7/dist-packages/tensorflow/python/eager/function.py\u001b[0m in \u001b[0;36m_call_flat\u001b[0;34m(self, args, captured_inputs, cancellation_manager)\u001b[0m\n\u001b[1;32m   1859\u001b[0m       \u001b[0;31m# No tape is watching; skip to running the function.\u001b[0m\u001b[0;34m\u001b[0m\u001b[0;34m\u001b[0m\u001b[0;34m\u001b[0m\u001b[0m\n\u001b[1;32m   1860\u001b[0m       return self._build_call_outputs(self._inference_function.call(\n\u001b[0;32m-> 1861\u001b[0;31m           ctx, args, cancellation_manager=cancellation_manager))\n\u001b[0m\u001b[1;32m   1862\u001b[0m     forward_backward = self._select_forward_and_backward_functions(\n\u001b[1;32m   1863\u001b[0m         \u001b[0margs\u001b[0m\u001b[0;34m,\u001b[0m\u001b[0;34m\u001b[0m\u001b[0;34m\u001b[0m\u001b[0m\n",
            "\u001b[0;32m/usr/local/lib/python3.7/dist-packages/tensorflow/python/eager/function.py\u001b[0m in \u001b[0;36mcall\u001b[0;34m(self, ctx, args, cancellation_manager)\u001b[0m\n\u001b[1;32m    500\u001b[0m               \u001b[0minputs\u001b[0m\u001b[0;34m=\u001b[0m\u001b[0margs\u001b[0m\u001b[0;34m,\u001b[0m\u001b[0;34m\u001b[0m\u001b[0;34m\u001b[0m\u001b[0m\n\u001b[1;32m    501\u001b[0m               \u001b[0mattrs\u001b[0m\u001b[0;34m=\u001b[0m\u001b[0mattrs\u001b[0m\u001b[0;34m,\u001b[0m\u001b[0;34m\u001b[0m\u001b[0;34m\u001b[0m\u001b[0m\n\u001b[0;32m--> 502\u001b[0;31m               ctx=ctx)\n\u001b[0m\u001b[1;32m    503\u001b[0m         \u001b[0;32melse\u001b[0m\u001b[0;34m:\u001b[0m\u001b[0;34m\u001b[0m\u001b[0;34m\u001b[0m\u001b[0m\n\u001b[1;32m    504\u001b[0m           outputs = execute.execute_with_cancellation(\n",
            "\u001b[0;32m/usr/local/lib/python3.7/dist-packages/tensorflow/python/eager/execute.py\u001b[0m in \u001b[0;36mquick_execute\u001b[0;34m(op_name, num_outputs, inputs, attrs, ctx, name)\u001b[0m\n\u001b[1;32m     53\u001b[0m     \u001b[0mctx\u001b[0m\u001b[0;34m.\u001b[0m\u001b[0mensure_initialized\u001b[0m\u001b[0;34m(\u001b[0m\u001b[0;34m)\u001b[0m\u001b[0;34m\u001b[0m\u001b[0;34m\u001b[0m\u001b[0m\n\u001b[1;32m     54\u001b[0m     tensors = pywrap_tfe.TFE_Py_Execute(ctx._handle, device_name, op_name,\n\u001b[0;32m---> 55\u001b[0;31m                                         inputs, attrs, num_outputs)\n\u001b[0m\u001b[1;32m     56\u001b[0m   \u001b[0;32mexcept\u001b[0m \u001b[0mcore\u001b[0m\u001b[0;34m.\u001b[0m\u001b[0m_NotOkStatusException\u001b[0m \u001b[0;32mas\u001b[0m \u001b[0me\u001b[0m\u001b[0;34m:\u001b[0m\u001b[0;34m\u001b[0m\u001b[0;34m\u001b[0m\u001b[0m\n\u001b[1;32m     57\u001b[0m     \u001b[0;32mif\u001b[0m \u001b[0mname\u001b[0m \u001b[0;32mis\u001b[0m \u001b[0;32mnot\u001b[0m \u001b[0;32mNone\u001b[0m\u001b[0;34m:\u001b[0m\u001b[0;34m\u001b[0m\u001b[0;34m\u001b[0m\u001b[0m\n",
            "\u001b[0;31mKeyboardInterrupt\u001b[0m: "
          ]
        }
      ]
    },
    {
      "cell_type": "code",
      "source": [
        "plot_history(history)"
      ],
      "metadata": {
        "id": "sg-XLsjyUYKe"
      },
      "execution_count": null,
      "outputs": []
    },
    {
      "cell_type": "code",
      "source": [
        "from tensorflow.keras.models import save_model, load_model\n",
        "save_model(model,'23.model')\n"
      ],
      "metadata": {
        "id": "l76VM42FUYDk"
      },
      "execution_count": null,
      "outputs": []
    },
    {
      "cell_type": "code",
      "source": [
        "saved_model = load_model('23.model', compile=False)\n",
        "saved_model.compile(optimizer='adam',\n",
        "          loss='sparse_categorical_crossentropy',\n",
        "          metrics=['accuracy'])\n",
        "predictions = saved_model.predict([X_test])"
      ],
      "metadata": {
        "id": "kyIQkBOXUX88"
      },
      "execution_count": null,
      "outputs": []
    },
    {
      "cell_type": "code",
      "source": [
        "np.argmax(predictions[4600])"
      ],
      "metadata": {
        "id": "kvMsbR-jUX2g"
      },
      "execution_count": null,
      "outputs": []
    },
    {
      "cell_type": "code",
      "source": [
        "score = model.evaluate(X_test, y_test, verbose=0)\n",
        "print(type(score))\n",
        "print('Test Score:', score[0])\n",
        "print('Test Accuracy:', score[1])"
      ],
      "metadata": {
        "id": "fPMZn1yvUXGW"
      },
      "execution_count": null,
      "outputs": []
    },
    {
      "cell_type": "code",
      "source": [
        "# Model 2 using new hidden sizes\n",
        "# Baseline with LR 0.001\n",
        "\n",
        "n_train = 60000\n",
        "n_valid = 784\n",
        "hiddensizes = [32, 64, 96] \n",
        "# activation function to be used by hidden layers\n",
        "actfn = \"relu\"\n",
        "# optimiser and learning rate\n",
        "optimizer = keras.optimizers.SGD\n",
        "# learning rate\n",
        "learningrate = 0.001\n",
        "# size of batch and number of epochs\n",
        "batch_size = 50\n",
        "n_epochs = 20\n",
        "\n",
        "def model_cnn(hiddensizes, actfn, optimizer, learningrate):\n",
        "    model = keras.models.Sequential()\n",
        "    model.add(keras.layers.Conv2D(filters=hiddensizes[0], kernel_size=3, strides=1, activation=actfn, padding=\"same\", input_shape=[28, 28, 1]))\n",
        "    model.add(keras.layers.MaxPooling2D(pool_size=2))\n",
        "\n",
        "    for n in hiddensizes[1:-1]:\n",
        "        model.add(keras.layers.Conv2D(filters=n, kernel_size=3, strides=1, padding=\"same\", activation=actfn)) \n",
        "        model.add(keras.layers.MaxPooling2D(pool_size=2))          # Pool (downsize)\n",
        "        model.add(keras.layers.Conv2D(filters=hiddensizes[-1], kernel_size=3, strides=1, padding=\"same\", activation=actfn))  \n",
        "        model.add(keras.layers.Flatten())                          # unravel into a 1D vector\n",
        "        model.add(keras.layers.Dense(10, activation = \"softmax\"))  # 10 classes for this dataset\n",
        "        model.compile(loss=\"sparse_categorical_crossentropy\", optimizer=optimizer(learning_rate=learningrate), metrics=[\"accuracy\"])   \n",
        "    return model"
      ],
      "metadata": {
        "id": "CE-zs-S-UPLh"
      },
      "execution_count": 196,
      "outputs": []
    },
    {
      "cell_type": "code",
      "source": [
        "def do_all(hiddensizes, actfn, optimizer, learningrate, n_train, n_valid, n_epochs, batch_size, further_callbacks=[]):\n",
        "    if further_callbacks != []:\n",
        "        callbacks = further_callbacks\n",
        "    else:\n",
        "        callbacks = [early_stopping_cb]\n",
        "    model = model_cnn(hiddensizes, actfn, optimizer, learningrate)\n",
        "    history = model.fit(X_train[:n_train,:,:], y_train[:n_train], epochs=n_epochs, callbacks = callbacks,\n",
        "                        validation_data=(X_valid[:n_valid,:,:], y_valid[:n_valid]))\n",
        "    max_val_acc = np.max(history.history['val_accuracy'])\n",
        "    return (max_val_acc, history, model)"
      ],
      "metadata": {
        "id": "isLjDVzMUVAA"
      },
      "execution_count": 197,
      "outputs": []
    },
    {
      "cell_type": "code",
      "source": [
        "# Function that tests the model above\n",
        "valacc, history, model = do_all(hiddensizes, actfn, optimizer, learningrate, n_train, n_valid, n_epochs, batch_size)\n",
        "model.summary()"
      ],
      "metadata": {
        "colab": {
          "base_uri": "https://localhost:8080/",
          "height": 380
        },
        "id": "izWI0KQAUajm",
        "outputId": "09a2f7ce-34d5-4e8c-dac3-ded7c919fceb"
      },
      "execution_count": 198,
      "outputs": [
        {
          "output_type": "stream",
          "name": "stdout",
          "text": [
            "Epoch 1/20\n",
            " 756/1875 [===========>..................] - ETA: 1:12 - loss: 2.2650 - accuracy: 0.1677"
          ]
        },
        {
          "output_type": "error",
          "ename": "KeyboardInterrupt",
          "evalue": "ignored",
          "traceback": [
            "\u001b[0;31m---------------------------------------------------------------------------\u001b[0m",
            "\u001b[0;31mKeyboardInterrupt\u001b[0m                         Traceback (most recent call last)",
            "\u001b[0;32m<ipython-input-198-106ad0c9f255>\u001b[0m in \u001b[0;36m<module>\u001b[0;34m\u001b[0m\n\u001b[1;32m      1\u001b[0m \u001b[0;31m# Function that tests the model above\u001b[0m\u001b[0;34m\u001b[0m\u001b[0;34m\u001b[0m\u001b[0;34m\u001b[0m\u001b[0m\n\u001b[0;32m----> 2\u001b[0;31m \u001b[0mvalacc\u001b[0m\u001b[0;34m,\u001b[0m \u001b[0mhistory\u001b[0m\u001b[0;34m,\u001b[0m \u001b[0mmodel\u001b[0m \u001b[0;34m=\u001b[0m \u001b[0mdo_all\u001b[0m\u001b[0;34m(\u001b[0m\u001b[0mhiddensizes\u001b[0m\u001b[0;34m,\u001b[0m \u001b[0mactfn\u001b[0m\u001b[0;34m,\u001b[0m \u001b[0moptimizer\u001b[0m\u001b[0;34m,\u001b[0m \u001b[0mlearningrate\u001b[0m\u001b[0;34m,\u001b[0m \u001b[0mn_train\u001b[0m\u001b[0;34m,\u001b[0m \u001b[0mn_valid\u001b[0m\u001b[0;34m,\u001b[0m \u001b[0mn_epochs\u001b[0m\u001b[0;34m,\u001b[0m \u001b[0mbatch_size\u001b[0m\u001b[0;34m)\u001b[0m\u001b[0;34m\u001b[0m\u001b[0;34m\u001b[0m\u001b[0m\n\u001b[0m\u001b[1;32m      3\u001b[0m \u001b[0mmodel\u001b[0m\u001b[0;34m.\u001b[0m\u001b[0msummary\u001b[0m\u001b[0;34m(\u001b[0m\u001b[0;34m)\u001b[0m\u001b[0;34m\u001b[0m\u001b[0;34m\u001b[0m\u001b[0m\n",
            "\u001b[0;32m<ipython-input-197-51bc440524cd>\u001b[0m in \u001b[0;36mdo_all\u001b[0;34m(hiddensizes, actfn, optimizer, learningrate, n_train, n_valid, n_epochs, batch_size, further_callbacks)\u001b[0m\n\u001b[1;32m      6\u001b[0m     \u001b[0mmodel\u001b[0m \u001b[0;34m=\u001b[0m \u001b[0mmodel_cnn\u001b[0m\u001b[0;34m(\u001b[0m\u001b[0mhiddensizes\u001b[0m\u001b[0;34m,\u001b[0m \u001b[0mactfn\u001b[0m\u001b[0;34m,\u001b[0m \u001b[0moptimizer\u001b[0m\u001b[0;34m,\u001b[0m \u001b[0mlearningrate\u001b[0m\u001b[0;34m)\u001b[0m\u001b[0;34m\u001b[0m\u001b[0;34m\u001b[0m\u001b[0m\n\u001b[1;32m      7\u001b[0m     history = model.fit(X_train[:n_train,:,:], y_train[:n_train], epochs=n_epochs, callbacks = callbacks,\n\u001b[0;32m----> 8\u001b[0;31m                         validation_data=(X_valid[:n_valid,:,:], y_valid[:n_valid]))\n\u001b[0m\u001b[1;32m      9\u001b[0m     \u001b[0mmax_val_acc\u001b[0m \u001b[0;34m=\u001b[0m \u001b[0mnp\u001b[0m\u001b[0;34m.\u001b[0m\u001b[0mmax\u001b[0m\u001b[0;34m(\u001b[0m\u001b[0mhistory\u001b[0m\u001b[0;34m.\u001b[0m\u001b[0mhistory\u001b[0m\u001b[0;34m[\u001b[0m\u001b[0;34m'val_accuracy'\u001b[0m\u001b[0;34m]\u001b[0m\u001b[0;34m)\u001b[0m\u001b[0;34m\u001b[0m\u001b[0;34m\u001b[0m\u001b[0m\n\u001b[1;32m     10\u001b[0m     \u001b[0;32mreturn\u001b[0m \u001b[0;34m(\u001b[0m\u001b[0mmax_val_acc\u001b[0m\u001b[0;34m,\u001b[0m \u001b[0mhistory\u001b[0m\u001b[0;34m,\u001b[0m \u001b[0mmodel\u001b[0m\u001b[0;34m)\u001b[0m\u001b[0;34m\u001b[0m\u001b[0;34m\u001b[0m\u001b[0m\n",
            "\u001b[0;32m/usr/local/lib/python3.7/dist-packages/keras/utils/traceback_utils.py\u001b[0m in \u001b[0;36merror_handler\u001b[0;34m(*args, **kwargs)\u001b[0m\n\u001b[1;32m     62\u001b[0m     \u001b[0mfiltered_tb\u001b[0m \u001b[0;34m=\u001b[0m \u001b[0;32mNone\u001b[0m\u001b[0;34m\u001b[0m\u001b[0;34m\u001b[0m\u001b[0m\n\u001b[1;32m     63\u001b[0m     \u001b[0;32mtry\u001b[0m\u001b[0;34m:\u001b[0m\u001b[0;34m\u001b[0m\u001b[0;34m\u001b[0m\u001b[0m\n\u001b[0;32m---> 64\u001b[0;31m       \u001b[0;32mreturn\u001b[0m \u001b[0mfn\u001b[0m\u001b[0;34m(\u001b[0m\u001b[0;34m*\u001b[0m\u001b[0margs\u001b[0m\u001b[0;34m,\u001b[0m \u001b[0;34m**\u001b[0m\u001b[0mkwargs\u001b[0m\u001b[0;34m)\u001b[0m\u001b[0;34m\u001b[0m\u001b[0;34m\u001b[0m\u001b[0m\n\u001b[0m\u001b[1;32m     65\u001b[0m     \u001b[0;32mexcept\u001b[0m \u001b[0mException\u001b[0m \u001b[0;32mas\u001b[0m \u001b[0me\u001b[0m\u001b[0;34m:\u001b[0m  \u001b[0;31m# pylint: disable=broad-except\u001b[0m\u001b[0;34m\u001b[0m\u001b[0;34m\u001b[0m\u001b[0m\n\u001b[1;32m     66\u001b[0m       \u001b[0mfiltered_tb\u001b[0m \u001b[0;34m=\u001b[0m \u001b[0m_process_traceback_frames\u001b[0m\u001b[0;34m(\u001b[0m\u001b[0me\u001b[0m\u001b[0;34m.\u001b[0m\u001b[0m__traceback__\u001b[0m\u001b[0;34m)\u001b[0m\u001b[0;34m\u001b[0m\u001b[0;34m\u001b[0m\u001b[0m\n",
            "\u001b[0;32m/usr/local/lib/python3.7/dist-packages/keras/engine/training.py\u001b[0m in \u001b[0;36mfit\u001b[0;34m(self, x, y, batch_size, epochs, verbose, callbacks, validation_split, validation_data, shuffle, class_weight, sample_weight, initial_epoch, steps_per_epoch, validation_steps, validation_batch_size, validation_freq, max_queue_size, workers, use_multiprocessing)\u001b[0m\n\u001b[1;32m   1407\u001b[0m                 _r=1):\n\u001b[1;32m   1408\u001b[0m               \u001b[0mcallbacks\u001b[0m\u001b[0;34m.\u001b[0m\u001b[0mon_train_batch_begin\u001b[0m\u001b[0;34m(\u001b[0m\u001b[0mstep\u001b[0m\u001b[0;34m)\u001b[0m\u001b[0;34m\u001b[0m\u001b[0;34m\u001b[0m\u001b[0m\n\u001b[0;32m-> 1409\u001b[0;31m               \u001b[0mtmp_logs\u001b[0m \u001b[0;34m=\u001b[0m \u001b[0mself\u001b[0m\u001b[0;34m.\u001b[0m\u001b[0mtrain_function\u001b[0m\u001b[0;34m(\u001b[0m\u001b[0miterator\u001b[0m\u001b[0;34m)\u001b[0m\u001b[0;34m\u001b[0m\u001b[0;34m\u001b[0m\u001b[0m\n\u001b[0m\u001b[1;32m   1410\u001b[0m               \u001b[0;32mif\u001b[0m \u001b[0mdata_handler\u001b[0m\u001b[0;34m.\u001b[0m\u001b[0mshould_sync\u001b[0m\u001b[0;34m:\u001b[0m\u001b[0;34m\u001b[0m\u001b[0;34m\u001b[0m\u001b[0m\n\u001b[1;32m   1411\u001b[0m                 \u001b[0mcontext\u001b[0m\u001b[0;34m.\u001b[0m\u001b[0masync_wait\u001b[0m\u001b[0;34m(\u001b[0m\u001b[0;34m)\u001b[0m\u001b[0;34m\u001b[0m\u001b[0;34m\u001b[0m\u001b[0m\n",
            "\u001b[0;32m/usr/local/lib/python3.7/dist-packages/tensorflow/python/util/traceback_utils.py\u001b[0m in \u001b[0;36merror_handler\u001b[0;34m(*args, **kwargs)\u001b[0m\n\u001b[1;32m    148\u001b[0m     \u001b[0mfiltered_tb\u001b[0m \u001b[0;34m=\u001b[0m \u001b[0;32mNone\u001b[0m\u001b[0;34m\u001b[0m\u001b[0;34m\u001b[0m\u001b[0m\n\u001b[1;32m    149\u001b[0m     \u001b[0;32mtry\u001b[0m\u001b[0;34m:\u001b[0m\u001b[0;34m\u001b[0m\u001b[0;34m\u001b[0m\u001b[0m\n\u001b[0;32m--> 150\u001b[0;31m       \u001b[0;32mreturn\u001b[0m \u001b[0mfn\u001b[0m\u001b[0;34m(\u001b[0m\u001b[0;34m*\u001b[0m\u001b[0margs\u001b[0m\u001b[0;34m,\u001b[0m \u001b[0;34m**\u001b[0m\u001b[0mkwargs\u001b[0m\u001b[0;34m)\u001b[0m\u001b[0;34m\u001b[0m\u001b[0;34m\u001b[0m\u001b[0m\n\u001b[0m\u001b[1;32m    151\u001b[0m     \u001b[0;32mexcept\u001b[0m \u001b[0mException\u001b[0m \u001b[0;32mas\u001b[0m \u001b[0me\u001b[0m\u001b[0;34m:\u001b[0m\u001b[0;34m\u001b[0m\u001b[0;34m\u001b[0m\u001b[0m\n\u001b[1;32m    152\u001b[0m       \u001b[0mfiltered_tb\u001b[0m \u001b[0;34m=\u001b[0m \u001b[0m_process_traceback_frames\u001b[0m\u001b[0;34m(\u001b[0m\u001b[0me\u001b[0m\u001b[0;34m.\u001b[0m\u001b[0m__traceback__\u001b[0m\u001b[0;34m)\u001b[0m\u001b[0;34m\u001b[0m\u001b[0;34m\u001b[0m\u001b[0m\n",
            "\u001b[0;32m/usr/local/lib/python3.7/dist-packages/tensorflow/python/eager/def_function.py\u001b[0m in \u001b[0;36m__call__\u001b[0;34m(self, *args, **kwds)\u001b[0m\n\u001b[1;32m    913\u001b[0m \u001b[0;34m\u001b[0m\u001b[0m\n\u001b[1;32m    914\u001b[0m       \u001b[0;32mwith\u001b[0m \u001b[0mOptionalXlaContext\u001b[0m\u001b[0;34m(\u001b[0m\u001b[0mself\u001b[0m\u001b[0;34m.\u001b[0m\u001b[0m_jit_compile\u001b[0m\u001b[0;34m)\u001b[0m\u001b[0;34m:\u001b[0m\u001b[0;34m\u001b[0m\u001b[0;34m\u001b[0m\u001b[0m\n\u001b[0;32m--> 915\u001b[0;31m         \u001b[0mresult\u001b[0m \u001b[0;34m=\u001b[0m \u001b[0mself\u001b[0m\u001b[0;34m.\u001b[0m\u001b[0m_call\u001b[0m\u001b[0;34m(\u001b[0m\u001b[0;34m*\u001b[0m\u001b[0margs\u001b[0m\u001b[0;34m,\u001b[0m \u001b[0;34m**\u001b[0m\u001b[0mkwds\u001b[0m\u001b[0;34m)\u001b[0m\u001b[0;34m\u001b[0m\u001b[0;34m\u001b[0m\u001b[0m\n\u001b[0m\u001b[1;32m    916\u001b[0m \u001b[0;34m\u001b[0m\u001b[0m\n\u001b[1;32m    917\u001b[0m       \u001b[0mnew_tracing_count\u001b[0m \u001b[0;34m=\u001b[0m \u001b[0mself\u001b[0m\u001b[0;34m.\u001b[0m\u001b[0mexperimental_get_tracing_count\u001b[0m\u001b[0;34m(\u001b[0m\u001b[0;34m)\u001b[0m\u001b[0;34m\u001b[0m\u001b[0;34m\u001b[0m\u001b[0m\n",
            "\u001b[0;32m/usr/local/lib/python3.7/dist-packages/tensorflow/python/eager/def_function.py\u001b[0m in \u001b[0;36m_call\u001b[0;34m(self, *args, **kwds)\u001b[0m\n\u001b[1;32m    945\u001b[0m       \u001b[0;31m# In this case we have created variables on the first call, so we run the\u001b[0m\u001b[0;34m\u001b[0m\u001b[0;34m\u001b[0m\u001b[0;34m\u001b[0m\u001b[0m\n\u001b[1;32m    946\u001b[0m       \u001b[0;31m# defunned version which is guaranteed to never create variables.\u001b[0m\u001b[0;34m\u001b[0m\u001b[0;34m\u001b[0m\u001b[0;34m\u001b[0m\u001b[0m\n\u001b[0;32m--> 947\u001b[0;31m       \u001b[0;32mreturn\u001b[0m \u001b[0mself\u001b[0m\u001b[0;34m.\u001b[0m\u001b[0m_stateless_fn\u001b[0m\u001b[0;34m(\u001b[0m\u001b[0;34m*\u001b[0m\u001b[0margs\u001b[0m\u001b[0;34m,\u001b[0m \u001b[0;34m**\u001b[0m\u001b[0mkwds\u001b[0m\u001b[0;34m)\u001b[0m  \u001b[0;31m# pylint: disable=not-callable\u001b[0m\u001b[0;34m\u001b[0m\u001b[0;34m\u001b[0m\u001b[0m\n\u001b[0m\u001b[1;32m    948\u001b[0m     \u001b[0;32melif\u001b[0m \u001b[0mself\u001b[0m\u001b[0;34m.\u001b[0m\u001b[0m_stateful_fn\u001b[0m \u001b[0;32mis\u001b[0m \u001b[0;32mnot\u001b[0m \u001b[0;32mNone\u001b[0m\u001b[0;34m:\u001b[0m\u001b[0;34m\u001b[0m\u001b[0;34m\u001b[0m\u001b[0m\n\u001b[1;32m    949\u001b[0m       \u001b[0;31m# Release the lock early so that multiple threads can perform the call\u001b[0m\u001b[0;34m\u001b[0m\u001b[0;34m\u001b[0m\u001b[0;34m\u001b[0m\u001b[0m\n",
            "\u001b[0;32m/usr/local/lib/python3.7/dist-packages/tensorflow/python/eager/function.py\u001b[0m in \u001b[0;36m__call__\u001b[0;34m(self, *args, **kwargs)\u001b[0m\n\u001b[1;32m   2452\u001b[0m        filtered_flat_args) = self._maybe_define_function(args, kwargs)\n\u001b[1;32m   2453\u001b[0m     return graph_function._call_flat(\n\u001b[0;32m-> 2454\u001b[0;31m         filtered_flat_args, captured_inputs=graph_function.captured_inputs)  # pylint: disable=protected-access\n\u001b[0m\u001b[1;32m   2455\u001b[0m \u001b[0;34m\u001b[0m\u001b[0m\n\u001b[1;32m   2456\u001b[0m   \u001b[0;34m@\u001b[0m\u001b[0mproperty\u001b[0m\u001b[0;34m\u001b[0m\u001b[0;34m\u001b[0m\u001b[0m\n",
            "\u001b[0;32m/usr/local/lib/python3.7/dist-packages/tensorflow/python/eager/function.py\u001b[0m in \u001b[0;36m_call_flat\u001b[0;34m(self, args, captured_inputs, cancellation_manager)\u001b[0m\n\u001b[1;32m   1859\u001b[0m       \u001b[0;31m# No tape is watching; skip to running the function.\u001b[0m\u001b[0;34m\u001b[0m\u001b[0;34m\u001b[0m\u001b[0;34m\u001b[0m\u001b[0m\n\u001b[1;32m   1860\u001b[0m       return self._build_call_outputs(self._inference_function.call(\n\u001b[0;32m-> 1861\u001b[0;31m           ctx, args, cancellation_manager=cancellation_manager))\n\u001b[0m\u001b[1;32m   1862\u001b[0m     forward_backward = self._select_forward_and_backward_functions(\n\u001b[1;32m   1863\u001b[0m         \u001b[0margs\u001b[0m\u001b[0;34m,\u001b[0m\u001b[0;34m\u001b[0m\u001b[0;34m\u001b[0m\u001b[0m\n",
            "\u001b[0;32m/usr/local/lib/python3.7/dist-packages/tensorflow/python/eager/function.py\u001b[0m in \u001b[0;36mcall\u001b[0;34m(self, ctx, args, cancellation_manager)\u001b[0m\n\u001b[1;32m    500\u001b[0m               \u001b[0minputs\u001b[0m\u001b[0;34m=\u001b[0m\u001b[0margs\u001b[0m\u001b[0;34m,\u001b[0m\u001b[0;34m\u001b[0m\u001b[0;34m\u001b[0m\u001b[0m\n\u001b[1;32m    501\u001b[0m               \u001b[0mattrs\u001b[0m\u001b[0;34m=\u001b[0m\u001b[0mattrs\u001b[0m\u001b[0;34m,\u001b[0m\u001b[0;34m\u001b[0m\u001b[0;34m\u001b[0m\u001b[0m\n\u001b[0;32m--> 502\u001b[0;31m               ctx=ctx)\n\u001b[0m\u001b[1;32m    503\u001b[0m         \u001b[0;32melse\u001b[0m\u001b[0;34m:\u001b[0m\u001b[0;34m\u001b[0m\u001b[0;34m\u001b[0m\u001b[0m\n\u001b[1;32m    504\u001b[0m           outputs = execute.execute_with_cancellation(\n",
            "\u001b[0;32m/usr/local/lib/python3.7/dist-packages/tensorflow/python/eager/execute.py\u001b[0m in \u001b[0;36mquick_execute\u001b[0;34m(op_name, num_outputs, inputs, attrs, ctx, name)\u001b[0m\n\u001b[1;32m     53\u001b[0m     \u001b[0mctx\u001b[0m\u001b[0;34m.\u001b[0m\u001b[0mensure_initialized\u001b[0m\u001b[0;34m(\u001b[0m\u001b[0;34m)\u001b[0m\u001b[0;34m\u001b[0m\u001b[0;34m\u001b[0m\u001b[0m\n\u001b[1;32m     54\u001b[0m     tensors = pywrap_tfe.TFE_Py_Execute(ctx._handle, device_name, op_name,\n\u001b[0;32m---> 55\u001b[0;31m                                         inputs, attrs, num_outputs)\n\u001b[0m\u001b[1;32m     56\u001b[0m   \u001b[0;32mexcept\u001b[0m \u001b[0mcore\u001b[0m\u001b[0;34m.\u001b[0m\u001b[0m_NotOkStatusException\u001b[0m \u001b[0;32mas\u001b[0m \u001b[0me\u001b[0m\u001b[0;34m:\u001b[0m\u001b[0;34m\u001b[0m\u001b[0;34m\u001b[0m\u001b[0m\n\u001b[1;32m     57\u001b[0m     \u001b[0;32mif\u001b[0m \u001b[0mname\u001b[0m \u001b[0;32mis\u001b[0m \u001b[0;32mnot\u001b[0m \u001b[0;32mNone\u001b[0m\u001b[0;34m:\u001b[0m\u001b[0;34m\u001b[0m\u001b[0;34m\u001b[0m\u001b[0m\n",
            "\u001b[0;31mKeyboardInterrupt\u001b[0m: "
          ]
        }
      ]
    },
    {
      "cell_type": "code",
      "source": [
        "plot_history(history)"
      ],
      "metadata": {
        "id": "ICfbSyCuUc0d"
      },
      "execution_count": null,
      "outputs": []
    },
    {
      "cell_type": "code",
      "source": [
        "from tensorflow.keras.models import save_model, load_model\n",
        "save_model(model,'24.model')\n"
      ],
      "metadata": {
        "id": "YUG0VAtUUcsg"
      },
      "execution_count": null,
      "outputs": []
    },
    {
      "cell_type": "code",
      "source": [
        "saved_model = load_model('24.model', compile=False)\n",
        "saved_model.compile(optimizer='adam',\n",
        "          loss='sparse_categorical_crossentropy',\n",
        "          metrics=['accuracy'])\n",
        "predictions = saved_model.predict([X_test])"
      ],
      "metadata": {
        "id": "J87HrxN-UckT"
      },
      "execution_count": null,
      "outputs": []
    },
    {
      "cell_type": "code",
      "source": [
        "np.argmax(predictions[4600])"
      ],
      "metadata": {
        "id": "AxRXQk5DUcby"
      },
      "execution_count": null,
      "outputs": []
    },
    {
      "cell_type": "code",
      "source": [
        "score = model.evaluate(X_test, y_test, verbose=0)\n",
        "print(type(score))\n",
        "print('Test Score:', score[0])\n",
        "print('Test Accuracy:', score[1])"
      ],
      "metadata": {
        "id": "WBFKGwCOUcT9"
      },
      "execution_count": null,
      "outputs": []
    },
    {
      "cell_type": "code",
      "source": [],
      "metadata": {
        "id": "iKO9BKRoUntt"
      },
      "execution_count": null,
      "outputs": []
    },
    {
      "cell_type": "markdown",
      "source": [
        "###### DNN testing with Adam"
      ],
      "metadata": {
        "id": "fEM_PBWeUoDR"
      }
    },
    {
      "cell_type": "code",
      "source": [
        "# DNN Model 6\n",
        "# Original DNN with increased hidden layer sizes\n",
        "\n",
        "n_train = 60000\n",
        "n_valid = 784\n",
        "# number and size of hidden layers\n",
        "hiddensizes = [32, 64, 96] \n",
        "# activation function to be used by hidden layers\n",
        "actfn = \"relu\"\n",
        "# optimiser and learning rate\n",
        "optimizer = keras.optimizers.Adam\n",
        "learningrate = 0.0001 \n",
        "# size of batch and number of epochs\n",
        "batch_size = 50\n",
        "n_epochs = 20\n",
        "\n",
        "# and the function\n",
        "def model_dense(hiddensizes, actfn, optimizer, learningrate):\n",
        "    model = keras.models.Sequential()\n",
        "    model.add(keras.layers.Flatten(input_shape = [28, 28, 1])) \n",
        "    for n in hiddensizes:\n",
        "        model.add(keras.layers.Dense(n, activation = actfn))\n",
        "    model.add(keras.layers.Dense(25, activation = \"softmax\")) \n",
        "    model.compile(loss=\"sparse_categorical_crossentropy\", optimizer=optimizer(learning_rate=learningrate), metrics=[\"accuracy\"])\n",
        "    return model"
      ],
      "metadata": {
        "id": "GMYfCWC3owN5"
      },
      "execution_count": 199,
      "outputs": []
    },
    {
      "cell_type": "code",
      "source": [
        "def do_all(hiddensizes, actfn, optimizer, learningrate, n_train, n_valid, n_epochs, batch_size, further_callbacks=[]):\n",
        "    if further_callbacks != []:\n",
        "        callbacks = further_callbacks\n",
        "    else:\n",
        "        callbacks = [early_stopping_cb]\n",
        "    model = model_dense(hiddensizes, actfn, optimizer, learningrate)\n",
        "    history = model.fit(X_train[:n_train,:,:], y_train[:n_train], epochs=n_epochs, callbacks = callbacks,\n",
        "                        validation_data=(X_valid[:n_valid,:,:], y_valid[:n_valid]))\n",
        "    max_val_acc = np.max(history.history['val_accuracy'])\n",
        "    return (max_val_acc, history, model)"
      ],
      "metadata": {
        "id": "osV0Nli5oyJa"
      },
      "execution_count": 200,
      "outputs": []
    },
    {
      "cell_type": "code",
      "source": [
        "# Function that tests the model above\n",
        "valacc, history, model = do_all(hiddensizes, actfn, optimizer, learningrate, n_train, n_valid, n_epochs, batch_size)\n",
        "model.summary()"
      ],
      "metadata": {
        "colab": {
          "base_uri": "https://localhost:8080/"
        },
        "id": "szHc0vjjozsk",
        "outputId": "4eece662-c894-4f40-dbd7-5ffc05ba5cd9"
      },
      "execution_count": 201,
      "outputs": [
        {
          "output_type": "stream",
          "name": "stdout",
          "text": [
            "Epoch 1/20\n",
            "1875/1875 [==============================] - 9s 4ms/step - loss: 0.8820 - accuracy: 0.7109 - val_loss: 72.9270 - val_accuracy: 0.7857\n",
            "Epoch 2/20\n",
            "1875/1875 [==============================] - 6s 3ms/step - loss: 0.5110 - accuracy: 0.8222 - val_loss: 72.7999 - val_accuracy: 0.8023\n",
            "Epoch 3/20\n",
            "1875/1875 [==============================] - 6s 3ms/step - loss: 0.4550 - accuracy: 0.8404 - val_loss: 70.9937 - val_accuracy: 0.8214\n",
            "Epoch 4/20\n",
            "1875/1875 [==============================] - 6s 3ms/step - loss: 0.4277 - accuracy: 0.8492 - val_loss: 66.4133 - val_accuracy: 0.8393\n",
            "Epoch 5/20\n",
            "1875/1875 [==============================] - 6s 3ms/step - loss: 0.4085 - accuracy: 0.8557 - val_loss: 67.5202 - val_accuracy: 0.8329\n",
            "Epoch 6/20\n",
            "1875/1875 [==============================] - 5s 3ms/step - loss: 0.3943 - accuracy: 0.8609 - val_loss: 68.3111 - val_accuracy: 0.8329\n",
            "Epoch 7/20\n",
            "1875/1875 [==============================] - 6s 3ms/step - loss: 0.3837 - accuracy: 0.8635 - val_loss: 56.8729 - val_accuracy: 0.8482\n",
            "Epoch 8/20\n",
            "1875/1875 [==============================] - 6s 3ms/step - loss: 0.3739 - accuracy: 0.8671 - val_loss: 73.2520 - val_accuracy: 0.8329\n",
            "Epoch 9/20\n",
            "1875/1875 [==============================] - 6s 3ms/step - loss: 0.3664 - accuracy: 0.8686 - val_loss: 67.9660 - val_accuracy: 0.8329\n",
            "Epoch 10/20\n",
            "1875/1875 [==============================] - 6s 3ms/step - loss: 0.3583 - accuracy: 0.8709 - val_loss: 62.0348 - val_accuracy: 0.8457\n",
            "Epoch 11/20\n",
            "1875/1875 [==============================] - 5s 3ms/step - loss: 0.3517 - accuracy: 0.8737 - val_loss: 61.9188 - val_accuracy: 0.8482\n",
            "Epoch 12/20\n",
            "1875/1875 [==============================] - 6s 3ms/step - loss: 0.3458 - accuracy: 0.8760 - val_loss: 64.1466 - val_accuracy: 0.8431\n",
            "Model: \"sequential_14\"\n",
            "_________________________________________________________________\n",
            " Layer (type)                Output Shape              Param #   \n",
            "=================================================================\n",
            " flatten_14 (Flatten)        (None, 784)               0         \n",
            "                                                                 \n",
            " dense_23 (Dense)            (None, 32)                25120     \n",
            "                                                                 \n",
            " dense_24 (Dense)            (None, 64)                2112      \n",
            "                                                                 \n",
            " dense_25 (Dense)            (None, 96)                6240      \n",
            "                                                                 \n",
            " dense_26 (Dense)            (None, 25)                2425      \n",
            "                                                                 \n",
            "=================================================================\n",
            "Total params: 35,897\n",
            "Trainable params: 35,897\n",
            "Non-trainable params: 0\n",
            "_________________________________________________________________\n"
          ]
        }
      ]
    },
    {
      "cell_type": "code",
      "source": [
        "from tensorflow.keras.models import save_model, load_model\n",
        "save_model(model,'600.model')"
      ],
      "metadata": {
        "id": "mPJtzzH7o2cq"
      },
      "execution_count": 202,
      "outputs": []
    },
    {
      "cell_type": "code",
      "execution_count": 203,
      "metadata": {
        "id": "Y842JgajuR-F"
      },
      "outputs": [],
      "source": [
        "# DNN Model 6\n",
        "# Original DNN with increased hidden layer sizes\n",
        "\n",
        "n_train = 60000\n",
        "n_valid = 784\n",
        "# number and size of hidden layers\n",
        "hiddensizes = [32, 64, 96] \n",
        "# activation function to be used by hidden layers\n",
        "actfn = \"relu\"\n",
        "# optimiser and learning rate\n",
        "optimizer = keras.optimizers.Adam\n",
        "learningrate = 0.001 \n",
        "# size of batch and number of epochs\n",
        "batch_size = 50\n",
        "n_epochs = 20\n",
        "\n",
        "# and the function\n",
        "def model_dense(hiddensizes, actfn, optimizer, learningrate):\n",
        "    model = keras.models.Sequential()\n",
        "    model.add(keras.layers.Flatten(input_shape = [28, 28, 1])) \n",
        "    for n in hiddensizes:\n",
        "        model.add(keras.layers.Dense(n, activation = actfn))\n",
        "    model.add(keras.layers.Dense(25, activation = \"softmax\")) \n",
        "    model.compile(loss=\"sparse_categorical_crossentropy\", optimizer=optimizer(learning_rate=learningrate), metrics=[\"accuracy\"])\n",
        "    return model"
      ]
    },
    {
      "cell_type": "code",
      "execution_count": 204,
      "metadata": {
        "id": "PzvR6A_VuaWS"
      },
      "outputs": [],
      "source": [
        "def do_all(hiddensizes, actfn, optimizer, learningrate, n_train, n_valid, n_epochs, batch_size, further_callbacks=[]):\n",
        "    if further_callbacks != []:\n",
        "        callbacks = further_callbacks\n",
        "    else:\n",
        "        callbacks = [early_stopping_cb]\n",
        "    model = model_dense(hiddensizes, actfn, optimizer, learningrate)\n",
        "    history = model.fit(X_train[:n_train,:,:], y_train[:n_train], epochs=n_epochs, callbacks = callbacks,\n",
        "                        validation_data=(X_valid[:n_valid,:,:], y_valid[:n_valid]))\n",
        "    max_val_acc = np.max(history.history['val_accuracy'])\n",
        "    return (max_val_acc, history, model)"
      ]
    },
    {
      "cell_type": "code",
      "execution_count": 205,
      "metadata": {
        "id": "_FN0hjB7ua6f",
        "colab": {
          "base_uri": "https://localhost:8080/"
        },
        "outputId": "8d2510a1-c0ef-4720-bc3f-843b87b3fbfb"
      },
      "outputs": [
        {
          "output_type": "stream",
          "name": "stdout",
          "text": [
            "Epoch 1/20\n",
            "1875/1875 [==============================] - 6s 3ms/step - loss: 0.5452 - accuracy: 0.8081 - val_loss: 50.5241 - val_accuracy: 0.8380\n",
            "Epoch 2/20\n",
            "1875/1875 [==============================] - 6s 3ms/step - loss: 0.3900 - accuracy: 0.8589 - val_loss: 50.0739 - val_accuracy: 0.8546\n",
            "Epoch 3/20\n",
            "1875/1875 [==============================] - 6s 3ms/step - loss: 0.3584 - accuracy: 0.8694 - val_loss: 45.9298 - val_accuracy: 0.8635\n",
            "Epoch 4/20\n",
            "1875/1875 [==============================] - 6s 3ms/step - loss: 0.3375 - accuracy: 0.8751 - val_loss: 85.1777 - val_accuracy: 0.7985\n",
            "Epoch 5/20\n",
            "1875/1875 [==============================] - 6s 3ms/step - loss: 0.3244 - accuracy: 0.8804 - val_loss: 60.2348 - val_accuracy: 0.8202\n",
            "Epoch 6/20\n",
            "1875/1875 [==============================] - 6s 3ms/step - loss: 0.3112 - accuracy: 0.8857 - val_loss: 48.4500 - val_accuracy: 0.8520\n",
            "Epoch 7/20\n",
            "1875/1875 [==============================] - 6s 3ms/step - loss: 0.3017 - accuracy: 0.8899 - val_loss: 69.2807 - val_accuracy: 0.8278\n",
            "Epoch 8/20\n",
            "1875/1875 [==============================] - 6s 3ms/step - loss: 0.2911 - accuracy: 0.8934 - val_loss: 40.4725 - val_accuracy: 0.8482\n",
            "Model: \"sequential_15\"\n",
            "_________________________________________________________________\n",
            " Layer (type)                Output Shape              Param #   \n",
            "=================================================================\n",
            " flatten_15 (Flatten)        (None, 784)               0         \n",
            "                                                                 \n",
            " dense_27 (Dense)            (None, 32)                25120     \n",
            "                                                                 \n",
            " dense_28 (Dense)            (None, 64)                2112      \n",
            "                                                                 \n",
            " dense_29 (Dense)            (None, 96)                6240      \n",
            "                                                                 \n",
            " dense_30 (Dense)            (None, 25)                2425      \n",
            "                                                                 \n",
            "=================================================================\n",
            "Total params: 35,897\n",
            "Trainable params: 35,897\n",
            "Non-trainable params: 0\n",
            "_________________________________________________________________\n"
          ]
        }
      ],
      "source": [
        "# Function that tests the model above\n",
        "valacc, history, model = do_all(hiddensizes, actfn, optimizer, learningrate, n_train, n_valid, n_epochs, batch_size)\n",
        "model.summary()"
      ]
    },
    {
      "cell_type": "code",
      "execution_count": 206,
      "metadata": {
        "id": "jzkDbRK2vG5U",
        "colab": {
          "base_uri": "https://localhost:8080/",
          "height": 326
        },
        "outputId": "a354b5ab-8646-4bd8-fe73-27481fec23ce"
      },
      "outputs": [
        {
          "output_type": "display_data",
          "data": {
            "text/plain": [
              "<Figure size 576x360 with 1 Axes>"
            ],
            "image/png": "[encoded data removed]"
          },
          "metadata": {}
        }
      ],
      "source": [
        "plot_history(history)"
      ]
    },
    {
      "cell_type": "code",
      "source": [
        "from tensorflow.keras.models import save_model, load_model\n",
        "save_model(model,'60.model')"
      ],
      "metadata": {
        "id": "VlsC40a5TVcX"
      },
      "execution_count": 207,
      "outputs": []
    },
    {
      "cell_type": "code",
      "source": [
        "saved_model = load_model('6.model', compile=False)\n",
        "saved_model.compile(optimizer='adam',\n",
        "          loss='sparse_categorical_crossentropy',\n",
        "          metrics=['accuracy'])\n",
        "predictions = saved_model.predict([X_test])"
      ],
      "metadata": {
        "colab": {
          "base_uri": "https://localhost:8080/"
        },
        "id": "9gqYMe0_TVRU",
        "outputId": "a4643892-6ac9-4dbc-e7a2-2a874d81172c"
      },
      "execution_count": 208,
      "outputs": [
        {
          "output_type": "stream",
          "name": "stdout",
          "text": [
            "157/157 [==============================] - 0s 2ms/step\n"
          ]
        }
      ]
    },
    {
      "cell_type": "code",
      "source": [
        "np.argmax(predictions[4600])"
      ],
      "metadata": {
        "colab": {
          "base_uri": "https://localhost:8080/"
        },
        "id": "i7KQOJmyTUgJ",
        "outputId": "7e394425-8fea-4209-8b35-9b1d1175a79b"
      },
      "execution_count": 209,
      "outputs": [
        {
          "output_type": "execute_result",
          "data": {
            "text/plain": [
              "5"
            ]
          },
          "metadata": {},
          "execution_count": 209
        }
      ]
    },
    {
      "cell_type": "code",
      "source": [
        "score = model.evaluate(X_test, y_test, verbose=0)\n",
        "print(type(score))\n",
        "print('Test Score:', score[0])\n",
        "print('Test Accuracy:', score[1])"
      ],
      "metadata": {
        "colab": {
          "base_uri": "https://localhost:8080/"
        },
        "id": "0Zz0dN1aTTDN",
        "outputId": "500b42a4-4bf4-42c8-9627-5a13e5340a0e"
      },
      "execution_count": 210,
      "outputs": [
        {
          "output_type": "stream",
          "name": "stdout",
          "text": [
            "<class 'list'>\n",
            "Test Score: 4.080015182495117\n",
            "Test Accuracy: 0.10199999809265137\n"
          ]
        }
      ]
    },
    {
      "cell_type": "markdown",
      "source": [
        "###### DNN with SGD"
      ],
      "metadata": {
        "id": "9Fj1Gpd9U2kG"
      }
    },
    {
      "cell_type": "code",
      "source": [
        "# DNN Model 6\n",
        "# Original DNN with increased hidden layer sizes\n",
        "\n",
        "n_train = 60000\n",
        "n_valid = 784\n",
        "# number and size of hidden layers\n",
        "hiddensizes = [32, 64, 96] \n",
        "# activation function to be used by hidden layers\n",
        "actfn = \"relu\"\n",
        "# optimiser and learning rate\n",
        "optimizer = keras.optimizers.SGD\n",
        "learningrate = 0.0001 \n",
        "# size of batch and number of epochs\n",
        "batch_size = 50\n",
        "n_epochs = 20\n",
        "\n",
        "# and the function\n",
        "def model_dense(hiddensizes, actfn, optimizer, learningrate):\n",
        "    model = keras.models.Sequential()\n",
        "    model.add(keras.layers.Flatten(input_shape = [28, 28, 1])) \n",
        "    for n in hiddensizes:\n",
        "        model.add(keras.layers.Dense(n, activation = actfn))\n",
        "    model.add(keras.layers.Dense(25, activation = \"softmax\")) \n",
        "    model.compile(loss=\"sparse_categorical_crossentropy\", optimizer=optimizer(learning_rate=learningrate), metrics=[\"accuracy\"])\n",
        "    return model"
      ],
      "metadata": {
        "id": "morUZYtEo5N2"
      },
      "execution_count": 211,
      "outputs": []
    },
    {
      "cell_type": "code",
      "source": [
        "def do_all(hiddensizes, actfn, optimizer, learningrate, n_train, n_valid, n_epochs, batch_size, further_callbacks=[]):\n",
        "    if further_callbacks != []:\n",
        "        callbacks = further_callbacks\n",
        "    else:\n",
        "        callbacks = [early_stopping_cb]\n",
        "    model = model_dense(hiddensizes, actfn, optimizer, learningrate)\n",
        "    history = model.fit(X_train[:n_train,:,:], y_train[:n_train], epochs=n_epochs, callbacks = callbacks,\n",
        "                        validation_data=(X_valid[:n_valid,:,:], y_valid[:n_valid]))\n",
        "    max_val_acc = np.max(history.history['val_accuracy'])\n",
        "    return (max_val_acc, history, model)"
      ],
      "metadata": {
        "id": "t7XYr8ySo65E"
      },
      "execution_count": 212,
      "outputs": []
    },
    {
      "cell_type": "code",
      "source": [
        "# Function that tests the model above\n",
        "valacc, history, model = do_all(hiddensizes, actfn, optimizer, learningrate, n_train, n_valid, n_epochs, batch_size)\n",
        "model.summary()"
      ],
      "metadata": {
        "colab": {
          "base_uri": "https://localhost:8080/"
        },
        "id": "3IITjX4ho8rQ",
        "outputId": "e4b6cdc9-3b56-4d91-8f23-0726cc5e1795"
      },
      "execution_count": 213,
      "outputs": [
        {
          "output_type": "stream",
          "name": "stdout",
          "text": [
            "Epoch 1/20\n",
            "1875/1875 [==============================] - 5s 2ms/step - loss: 3.1949 - accuracy: 0.0555 - val_loss: 90.2411 - val_accuracy: 0.0918\n",
            "Epoch 2/20\n",
            "1875/1875 [==============================] - 4s 2ms/step - loss: 3.0088 - accuracy: 0.0900 - val_loss: 103.5868 - val_accuracy: 0.0906\n",
            "Epoch 3/20\n",
            "1875/1875 [==============================] - 4s 2ms/step - loss: 2.7902 - accuracy: 0.0994 - val_loss: 94.5259 - val_accuracy: 0.1046\n",
            "Epoch 4/20\n",
            "1875/1875 [==============================] - 5s 2ms/step - loss: 2.5182 - accuracy: 0.1468 - val_loss: 46.5684 - val_accuracy: 0.1990\n",
            "Epoch 5/20\n",
            "1875/1875 [==============================] - 6s 3ms/step - loss: 2.2690 - accuracy: 0.3135 - val_loss: 37.7217 - val_accuracy: 0.3367\n",
            "Epoch 6/20\n",
            "1875/1875 [==============================] - 4s 2ms/step - loss: 2.0728 - accuracy: 0.3948 - val_loss: 36.5652 - val_accuracy: 0.4018\n",
            "Epoch 7/20\n",
            "1875/1875 [==============================] - 4s 2ms/step - loss: 1.9052 - accuracy: 0.4516 - val_loss: 32.9995 - val_accuracy: 0.4515\n",
            "Epoch 8/20\n",
            "1875/1875 [==============================] - 5s 2ms/step - loss: 1.7552 - accuracy: 0.5176 - val_loss: 32.1353 - val_accuracy: 0.5026\n",
            "Epoch 9/20\n",
            "1875/1875 [==============================] - 4s 2ms/step - loss: 1.6221 - accuracy: 0.5606 - val_loss: 32.2718 - val_accuracy: 0.5485\n",
            "Epoch 10/20\n",
            "1875/1875 [==============================] - 4s 2ms/step - loss: 1.5053 - accuracy: 0.5886 - val_loss: 35.5770 - val_accuracy: 0.5561\n",
            "Epoch 11/20\n",
            "1875/1875 [==============================] - 4s 2ms/step - loss: 1.4060 - accuracy: 0.6033 - val_loss: 39.5523 - val_accuracy: 0.5880\n",
            "Epoch 12/20\n",
            "1875/1875 [==============================] - 5s 2ms/step - loss: 1.3236 - accuracy: 0.6126 - val_loss: 39.5967 - val_accuracy: 0.6122\n",
            "Epoch 13/20\n",
            "1875/1875 [==============================] - 5s 2ms/step - loss: 1.2548 - accuracy: 0.6211 - val_loss: 43.6273 - val_accuracy: 0.6224\n",
            "Epoch 14/20\n",
            "1875/1875 [==============================] - 5s 3ms/step - loss: 1.1966 - accuracy: 0.6256 - val_loss: 45.2578 - val_accuracy: 0.6250\n",
            "Epoch 15/20\n",
            "1875/1875 [==============================] - 5s 3ms/step - loss: 1.1470 - accuracy: 0.6314 - val_loss: 48.5282 - val_accuracy: 0.6352\n",
            "Epoch 16/20\n",
            "1875/1875 [==============================] - 4s 2ms/step - loss: 1.1040 - accuracy: 0.6361 - val_loss: 51.6427 - val_accuracy: 0.6327\n",
            "Epoch 17/20\n",
            "1875/1875 [==============================] - 5s 2ms/step - loss: 1.0667 - accuracy: 0.6403 - val_loss: 53.3638 - val_accuracy: 0.6378\n",
            "Epoch 18/20\n",
            "1875/1875 [==============================] - 5s 3ms/step - loss: 1.0339 - accuracy: 0.6447 - val_loss: 53.8287 - val_accuracy: 0.6288\n",
            "Epoch 19/20\n",
            "1875/1875 [==============================] - 5s 2ms/step - loss: 1.0051 - accuracy: 0.6496 - val_loss: 55.7585 - val_accuracy: 0.6288\n",
            "Epoch 20/20\n",
            "1875/1875 [==============================] - 5s 3ms/step - loss: 0.9798 - accuracy: 0.6538 - val_loss: 57.7491 - val_accuracy: 0.6403\n",
            "Model: \"sequential_16\"\n",
            "_________________________________________________________________\n",
            " Layer (type)                Output Shape              Param #   \n",
            "=================================================================\n",
            " flatten_16 (Flatten)        (None, 784)               0         \n",
            "                                                                 \n",
            " dense_31 (Dense)            (None, 32)                25120     \n",
            "                                                                 \n",
            " dense_32 (Dense)            (None, 64)                2112      \n",
            "                                                                 \n",
            " dense_33 (Dense)            (None, 96)                6240      \n",
            "                                                                 \n",
            " dense_34 (Dense)            (None, 25)                2425      \n",
            "                                                                 \n",
            "=================================================================\n",
            "Total params: 35,897\n",
            "Trainable params: 35,897\n",
            "Non-trainable params: 0\n",
            "_________________________________________________________________\n"
          ]
        }
      ]
    },
    {
      "cell_type": "code",
      "source": [
        "from tensorflow.keras.models import save_model, load_model\n",
        "save_model(model,'611.model')\n"
      ],
      "metadata": {
        "id": "vgTDzMK-o_LE"
      },
      "execution_count": 214,
      "outputs": []
    },
    {
      "cell_type": "code",
      "execution_count": 215,
      "metadata": {
        "id": "4TK69e8-UzVC"
      },
      "outputs": [],
      "source": [
        "# DNN Model 6\n",
        "# Original DNN with increased hidden layer sizes\n",
        "\n",
        "n_train = 60000\n",
        "n_valid = 784\n",
        "# number and size of hidden layers\n",
        "hiddensizes = [32, 64, 96] \n",
        "# activation function to be used by hidden layers\n",
        "actfn = \"relu\"\n",
        "# optimiser and learning rate\n",
        "optimizer = keras.optimizers.SGD\n",
        "learningrate = 0.001 \n",
        "# size of batch and number of epochs\n",
        "batch_size = 50\n",
        "n_epochs = 20\n",
        "\n",
        "# and the function\n",
        "def model_dense(hiddensizes, actfn, optimizer, learningrate):\n",
        "    model = keras.models.Sequential()\n",
        "    model.add(keras.layers.Flatten(input_shape = [28, 28, 1])) \n",
        "    for n in hiddensizes:\n",
        "        model.add(keras.layers.Dense(n, activation = actfn))\n",
        "    model.add(keras.layers.Dense(25, activation = \"softmax\")) \n",
        "    model.compile(loss=\"sparse_categorical_crossentropy\", optimizer=optimizer(learning_rate=learningrate), metrics=[\"accuracy\"])\n",
        "    return model"
      ]
    },
    {
      "cell_type": "code",
      "execution_count": 216,
      "metadata": {
        "id": "QzmUr81FU6rH"
      },
      "outputs": [],
      "source": [
        "def do_all(hiddensizes, actfn, optimizer, learningrate, n_train, n_valid, n_epochs, batch_size, further_callbacks=[]):\n",
        "    if further_callbacks != []:\n",
        "        callbacks = further_callbacks\n",
        "    else:\n",
        "        callbacks = [early_stopping_cb]\n",
        "    model = model_dense(hiddensizes, actfn, optimizer, learningrate)\n",
        "    history = model.fit(X_train[:n_train,:,:], y_train[:n_train], epochs=n_epochs, callbacks = callbacks,\n",
        "                        validation_data=(X_valid[:n_valid,:,:], y_valid[:n_valid]))\n",
        "    max_val_acc = np.max(history.history['val_accuracy'])\n",
        "    return (max_val_acc, history, model)"
      ]
    },
    {
      "cell_type": "code",
      "execution_count": 217,
      "metadata": {
        "colab": {
          "base_uri": "https://localhost:8080/"
        },
        "id": "IqstKAgbU8L7",
        "outputId": "d87f559c-55aa-4d4d-8aa8-50570581a71d"
      },
      "outputs": [
        {
          "output_type": "stream",
          "name": "stdout",
          "text": [
            "Epoch 1/20\n",
            "1875/1875 [==============================] - 5s 2ms/step - loss: 2.2439 - accuracy: 0.3419 - val_loss: 46.6494 - val_accuracy: 0.5727\n",
            "Epoch 2/20\n",
            "1875/1875 [==============================] - 4s 2ms/step - loss: 1.0883 - accuracy: 0.6178 - val_loss: 63.9563 - val_accuracy: 0.6365\n",
            "Epoch 3/20\n",
            "1875/1875 [==============================] - 4s 2ms/step - loss: 0.8811 - accuracy: 0.6768 - val_loss: 70.8298 - val_accuracy: 0.6888\n",
            "Epoch 4/20\n",
            "1875/1875 [==============================] - 4s 2ms/step - loss: 0.7839 - accuracy: 0.7169 - val_loss: 75.9876 - val_accuracy: 0.7156\n",
            "Epoch 5/20\n",
            "1875/1875 [==============================] - 4s 2ms/step - loss: 0.7187 - accuracy: 0.7450 - val_loss: 71.4503 - val_accuracy: 0.7258\n",
            "Epoch 6/20\n",
            "1875/1875 [==============================] - 4s 2ms/step - loss: 0.6686 - accuracy: 0.7639 - val_loss: 75.5049 - val_accuracy: 0.7347\n",
            "Epoch 7/20\n",
            "1875/1875 [==============================] - 4s 2ms/step - loss: 0.6296 - accuracy: 0.7770 - val_loss: 77.9916 - val_accuracy: 0.7449\n",
            "Epoch 8/20\n",
            "1875/1875 [==============================] - 4s 2ms/step - loss: 0.5997 - accuracy: 0.7868 - val_loss: 79.1282 - val_accuracy: 0.7602\n",
            "Epoch 9/20\n",
            "1875/1875 [==============================] - 4s 2ms/step - loss: 0.5763 - accuracy: 0.7953 - val_loss: 75.8833 - val_accuracy: 0.7666\n",
            "Epoch 10/20\n",
            "1875/1875 [==============================] - 4s 2ms/step - loss: 0.5577 - accuracy: 0.8016 - val_loss: 76.9401 - val_accuracy: 0.7704\n",
            "Epoch 11/20\n",
            "1875/1875 [==============================] - 4s 2ms/step - loss: 0.5413 - accuracy: 0.8089 - val_loss: 76.9195 - val_accuracy: 0.7793\n",
            "Epoch 12/20\n",
            "1875/1875 [==============================] - 4s 2ms/step - loss: 0.5283 - accuracy: 0.8131 - val_loss: 78.6658 - val_accuracy: 0.7819\n",
            "Epoch 13/20\n",
            "1875/1875 [==============================] - 5s 3ms/step - loss: 0.5169 - accuracy: 0.8180 - val_loss: 92.8632 - val_accuracy: 0.7717\n",
            "Epoch 14/20\n",
            "1875/1875 [==============================] - 5s 3ms/step - loss: 0.5068 - accuracy: 0.8217 - val_loss: 90.6446 - val_accuracy: 0.7704\n",
            "Epoch 15/20\n",
            "1875/1875 [==============================] - 4s 2ms/step - loss: 0.4978 - accuracy: 0.8256 - val_loss: 81.2138 - val_accuracy: 0.7832\n",
            "Epoch 16/20\n",
            "1875/1875 [==============================] - 4s 2ms/step - loss: 0.4899 - accuracy: 0.8281 - val_loss: 89.6788 - val_accuracy: 0.7717\n",
            "Epoch 17/20\n",
            "1875/1875 [==============================] - 4s 2ms/step - loss: 0.4832 - accuracy: 0.8298 - val_loss: 82.8367 - val_accuracy: 0.7908\n",
            "Epoch 18/20\n",
            "1875/1875 [==============================] - 4s 2ms/step - loss: 0.4766 - accuracy: 0.8314 - val_loss: 75.0142 - val_accuracy: 0.7946\n",
            "Epoch 19/20\n",
            "1875/1875 [==============================] - 4s 2ms/step - loss: 0.4707 - accuracy: 0.8338 - val_loss: 80.8846 - val_accuracy: 0.7934\n",
            "Epoch 20/20\n",
            "1875/1875 [==============================] - 4s 2ms/step - loss: 0.4655 - accuracy: 0.8351 - val_loss: 84.1072 - val_accuracy: 0.7844\n",
            "Model: \"sequential_17\"\n",
            "_________________________________________________________________\n",
            " Layer (type)                Output Shape              Param #   \n",
            "=================================================================\n",
            " flatten_17 (Flatten)        (None, 784)               0         \n",
            "                                                                 \n",
            " dense_35 (Dense)            (None, 32)                25120     \n",
            "                                                                 \n",
            " dense_36 (Dense)            (None, 64)                2112      \n",
            "                                                                 \n",
            " dense_37 (Dense)            (None, 96)                6240      \n",
            "                                                                 \n",
            " dense_38 (Dense)            (None, 25)                2425      \n",
            "                                                                 \n",
            "=================================================================\n",
            "Total params: 35,897\n",
            "Trainable params: 35,897\n",
            "Non-trainable params: 0\n",
            "_________________________________________________________________\n"
          ]
        }
      ],
      "source": [
        "# Function that tests the model above\n",
        "valacc, history, model = do_all(hiddensizes, actfn, optimizer, learningrate, n_train, n_valid, n_epochs, batch_size)\n",
        "model.summary()"
      ]
    },
    {
      "cell_type": "code",
      "execution_count": 218,
      "metadata": {
        "colab": {
          "base_uri": "https://localhost:8080/",
          "height": 326
        },
        "id": "orsSZDY6U9n5",
        "outputId": "ad322252-8a19-4f6c-d0f3-fe7afef897f5"
      },
      "outputs": [
        {
          "output_type": "display_data",
          "data": {
            "text/plain": [
              "<Figure size 576x360 with 1 Axes>"
            ],
            "image/png": "[encoded data removed]"
          },
          "metadata": {}
        }
      ],
      "source": [
        "plot_history(history)"
      ]
    },
    {
      "cell_type": "code",
      "source": [
        "from tensorflow.keras.models import save_model, load_model\n",
        "save_model(model,'61.model')\n"
      ],
      "metadata": {
        "id": "qD6u-Hp_VUB4"
      },
      "execution_count": 219,
      "outputs": []
    },
    {
      "cell_type": "code",
      "source": [
        "saved_model = load_model('61.model', compile=False)\n",
        "saved_model.compile(optimizer='adam',\n",
        "          loss='sparse_categorical_crossentropy',\n",
        "          metrics=['accuracy'])\n",
        "predictions = saved_model.predict([X_test])"
      ],
      "metadata": {
        "colab": {
          "base_uri": "https://localhost:8080/"
        },
        "id": "CQflthjPVabV",
        "outputId": "879bc806-deda-4475-851c-3ac1bb10da5d"
      },
      "execution_count": 220,
      "outputs": [
        {
          "output_type": "stream",
          "name": "stdout",
          "text": [
            "157/157 [==============================] - 0s 2ms/step\n"
          ]
        }
      ]
    },
    {
      "cell_type": "code",
      "source": [
        "np.argmax(predictions[4600])"
      ],
      "metadata": {
        "colab": {
          "base_uri": "https://localhost:8080/"
        },
        "id": "LrobV2t0VcGP",
        "outputId": "29c6ff5c-65a4-401b-da9b-b398b98487ae"
      },
      "execution_count": 221,
      "outputs": [
        {
          "output_type": "execute_result",
          "data": {
            "text/plain": [
              "5"
            ]
          },
          "metadata": {},
          "execution_count": 221
        }
      ]
    },
    {
      "cell_type": "code",
      "source": [
        "score = model.evaluate(X_test, y_test, verbose=0)\n",
        "print(type(score))\n",
        "print('Test Score:', score[0])\n",
        "print('Test Accuracy:', score[1])"
      ],
      "metadata": {
        "colab": {
          "base_uri": "https://localhost:8080/"
        },
        "id": "1iAsXuRXVfIr",
        "outputId": "6d83a08e-5c6f-492f-9cb7-397653ca4288"
      },
      "execution_count": 222,
      "outputs": [
        {
          "output_type": "stream",
          "name": "stdout",
          "text": [
            "<class 'list'>\n",
            "Test Score: 3.0443813800811768\n",
            "Test Accuracy: 0.10199999809265137\n"
          ]
        }
      ]
    },
    {
      "cell_type": "code",
      "source": [
        "# DNN Model 6\n",
        "# Original DNN with increased hidden layer sizes\n",
        "\n",
        "n_train = 60000\n",
        "n_valid = 784\n",
        "# number and size of hidden layers\n",
        "hiddensizes = [32, 64, 96] \n",
        "# activation function to be used by hidden layers\n",
        "actfn = \"relu\"\n",
        "# optimiser and learning rate\n",
        "optimizer = keras.optimizers.SGD\n",
        "learningrate = 0.0001 \n",
        "# size of batch and number of epochs\n",
        "batch_size = 50\n",
        "n_epochs = 20\n",
        "\n",
        "# and the function\n",
        "def model_dense(hiddensizes, actfn, optimizer, learningrate):\n",
        "    model = keras.models.Sequential()\n",
        "    model.add(keras.layers.Flatten(input_shape = [28, 28, 1])) \n",
        "    for n in hiddensizes:\n",
        "        model.add(keras.layers.Dense(n, activation = actfn))\n",
        "    model.add(keras.layers.Dense(25, activation = \"softmax\")) \n",
        "    model.compile(loss=\"sparse_categorical_crossentropy\", optimizer=optimizer(learning_rate=learningrate), metrics=[\"accuracy\"])\n",
        "    return model"
      ],
      "metadata": {
        "id": "JfGk8fAXtxUN"
      },
      "execution_count": 223,
      "outputs": []
    },
    {
      "cell_type": "code",
      "source": [
        "def do_all(hiddensizes, actfn, optimizer, learningrate, n_train, n_valid, n_epochs, batch_size, further_callbacks=[]):\n",
        "    if further_callbacks != []:\n",
        "        callbacks = further_callbacks\n",
        "    else:\n",
        "        callbacks = [early_stopping_cb]\n",
        "    model = model_dense(hiddensizes, actfn, optimizer, learningrate)\n",
        "    history = model.fit(X_train[:n_train,:,:], y_train[:n_train], epochs=n_epochs, callbacks = callbacks,\n",
        "                        validation_data=(X_valid[:n_valid,:,:], y_valid[:n_valid]))\n",
        "    max_val_acc = np.max(history.history['val_accuracy'])\n",
        "    return (max_val_acc, history, model)"
      ],
      "metadata": {
        "id": "QmVRDZiNt_iP"
      },
      "execution_count": 224,
      "outputs": []
    },
    {
      "cell_type": "code",
      "source": [
        "# Function that tests the model above\n",
        "valacc, history, model = do_all(hiddensizes, actfn, optimizer, learningrate, n_train, n_valid, n_epochs, batch_size)\n",
        "model.summary()"
      ],
      "metadata": {
        "colab": {
          "base_uri": "https://localhost:8080/"
        },
        "id": "Nrsrm7sItx0O",
        "outputId": "fdb08415-5839-45a9-d023-b00c7f7cbf87"
      },
      "execution_count": 225,
      "outputs": [
        {
          "output_type": "stream",
          "name": "stdout",
          "text": [
            "Epoch 1/20\n",
            "1875/1875 [==============================] - 5s 2ms/step - loss: 3.1568 - accuracy: 0.0741 - val_loss: 70.0522 - val_accuracy: 0.1186\n",
            "Epoch 2/20\n",
            "1875/1875 [==============================] - 4s 2ms/step - loss: 2.9506 - accuracy: 0.1605 - val_loss: 84.4899 - val_accuracy: 0.1620\n",
            "Epoch 3/20\n",
            "1875/1875 [==============================] - 6s 3ms/step - loss: 2.6825 - accuracy: 0.1957 - val_loss: 94.7772 - val_accuracy: 0.2245\n",
            "Epoch 4/20\n",
            "1875/1875 [==============================] - 4s 2ms/step - loss: 2.3996 - accuracy: 0.2646 - val_loss: 75.3571 - val_accuracy: 0.2717\n",
            "Epoch 5/20\n",
            "1875/1875 [==============================] - 4s 2ms/step - loss: 2.1760 - accuracy: 0.3358 - val_loss: 55.0887 - val_accuracy: 0.3967\n",
            "Epoch 6/20\n",
            "1875/1875 [==============================] - 4s 2ms/step - loss: 2.0062 - accuracy: 0.4436 - val_loss: 52.0627 - val_accuracy: 0.4579\n",
            "Epoch 7/20\n",
            "1875/1875 [==============================] - 4s 2ms/step - loss: 1.8564 - accuracy: 0.4942 - val_loss: 52.3482 - val_accuracy: 0.5102\n",
            "Epoch 8/20\n",
            "1875/1875 [==============================] - 4s 2ms/step - loss: 1.7149 - accuracy: 0.5234 - val_loss: 52.1275 - val_accuracy: 0.5497\n",
            "Epoch 9/20\n",
            "1875/1875 [==============================] - 4s 2ms/step - loss: 1.5823 - accuracy: 0.5486 - val_loss: 53.7110 - val_accuracy: 0.5727\n",
            "Epoch 10/20\n",
            "1875/1875 [==============================] - 4s 2ms/step - loss: 1.4618 - accuracy: 0.5745 - val_loss: 56.4004 - val_accuracy: 0.5957\n",
            "Epoch 11/20\n",
            "1875/1875 [==============================] - 5s 2ms/step - loss: 1.3562 - accuracy: 0.5979 - val_loss: 55.2149 - val_accuracy: 0.6046\n",
            "Epoch 12/20\n",
            "1875/1875 [==============================] - 5s 3ms/step - loss: 1.2667 - accuracy: 0.6158 - val_loss: 56.9766 - val_accuracy: 0.6250\n",
            "Epoch 13/20\n",
            "1875/1875 [==============================] - 6s 3ms/step - loss: 1.1917 - accuracy: 0.6312 - val_loss: 57.1355 - val_accuracy: 0.6416\n",
            "Epoch 14/20\n",
            "1875/1875 [==============================] - 5s 2ms/step - loss: 1.1293 - accuracy: 0.6415 - val_loss: 58.3334 - val_accuracy: 0.6467\n",
            "Epoch 15/20\n",
            "1875/1875 [==============================] - 4s 2ms/step - loss: 1.0773 - accuracy: 0.6510 - val_loss: 60.9973 - val_accuracy: 0.6607\n",
            "Epoch 16/20\n",
            "1875/1875 [==============================] - 4s 2ms/step - loss: 1.0337 - accuracy: 0.6577 - val_loss: 61.2430 - val_accuracy: 0.6620\n",
            "Epoch 17/20\n",
            "1875/1875 [==============================] - 4s 2ms/step - loss: 0.9965 - accuracy: 0.6642 - val_loss: 62.7556 - val_accuracy: 0.6633\n",
            "Epoch 18/20\n",
            "1875/1875 [==============================] - 4s 2ms/step - loss: 0.9646 - accuracy: 0.6691 - val_loss: 63.7577 - val_accuracy: 0.6645\n",
            "Epoch 19/20\n",
            "1875/1875 [==============================] - 4s 2ms/step - loss: 0.9370 - accuracy: 0.6750 - val_loss: 63.9691 - val_accuracy: 0.6658\n",
            "Epoch 20/20\n",
            "1875/1875 [==============================] - 4s 2ms/step - loss: 0.9127 - accuracy: 0.6787 - val_loss: 64.7239 - val_accuracy: 0.6722\n",
            "Model: \"sequential_18\"\n",
            "_________________________________________________________________\n",
            " Layer (type)                Output Shape              Param #   \n",
            "=================================================================\n",
            " flatten_18 (Flatten)        (None, 784)               0         \n",
            "                                                                 \n",
            " dense_39 (Dense)            (None, 32)                25120     \n",
            "                                                                 \n",
            " dense_40 (Dense)            (None, 64)                2112      \n",
            "                                                                 \n",
            " dense_41 (Dense)            (None, 96)                6240      \n",
            "                                                                 \n",
            " dense_42 (Dense)            (None, 25)                2425      \n",
            "                                                                 \n",
            "=================================================================\n",
            "Total params: 35,897\n",
            "Trainable params: 35,897\n",
            "Non-trainable params: 0\n",
            "_________________________________________________________________\n"
          ]
        }
      ]
    },
    {
      "cell_type": "code",
      "source": [
        "plot_history(history)"
      ],
      "metadata": {
        "colab": {
          "base_uri": "https://localhost:8080/",
          "height": 326
        },
        "id": "Xsryc6NjuDRz",
        "outputId": "0608e7d1-8f5f-4514-9f00-cacde3bd3760"
      },
      "execution_count": 226,
      "outputs": [
        {
          "output_type": "display_data",
          "data": {
            "text/plain": [
              "<Figure size 576x360 with 1 Axes>"
            ],
            "image/png": "[encoded data removed]"
          },
          "metadata": {}
        }
      ]
    },
    {
      "cell_type": "code",
      "source": [
        "from tensorflow.keras.models import save_model, load_model\n",
        "save_model(model,'611.model')\n"
      ],
      "metadata": {
        "id": "iACn3PiBuEFs"
      },
      "execution_count": 227,
      "outputs": []
    },
    {
      "cell_type": "code",
      "source": [
        "saved_model = load_model('611.model', compile=False)\n",
        "saved_model.compile(optimizer='adam',\n",
        "          loss='sparse_categorical_crossentropy',\n",
        "          metrics=['accuracy'])\n",
        "predictions = saved_model.predict([X_test])"
      ],
      "metadata": {
        "colab": {
          "base_uri": "https://localhost:8080/"
        },
        "id": "c3ZV0abzuDqx",
        "outputId": "05cc3432-4571-426c-da02-1583d18e11c4"
      },
      "execution_count": 228,
      "outputs": [
        {
          "output_type": "stream",
          "name": "stdout",
          "text": [
            "157/157 [==============================] - 0s 2ms/step\n"
          ]
        }
      ]
    },
    {
      "cell_type": "code",
      "source": [
        "np.argmax(predictions[4600])"
      ],
      "metadata": {
        "colab": {
          "base_uri": "https://localhost:8080/"
        },
        "id": "Z9lAJvswuPoV",
        "outputId": "48d94de1-cf81-45b1-d842-a5e4f1e35fba"
      },
      "execution_count": 229,
      "outputs": [
        {
          "output_type": "execute_result",
          "data": {
            "text/plain": [
              "5"
            ]
          },
          "metadata": {},
          "execution_count": 229
        }
      ]
    },
    {
      "cell_type": "code",
      "source": [
        "score = model.evaluate(X_test, y_test, verbose=0)\n",
        "print(type(score))\n",
        "print('Test Score:', score[0])\n",
        "print('Test Accuracy:', score[1])"
      ],
      "metadata": {
        "colab": {
          "base_uri": "https://localhost:8080/"
        },
        "id": "3qny2dcBuVay",
        "outputId": "88b7a7b2-2ea4-4409-9954-38131fad57a9"
      },
      "execution_count": 230,
      "outputs": [
        {
          "output_type": "stream",
          "name": "stdout",
          "text": [
            "<class 'list'>\n",
            "Test Score: 3.0334854125976562\n",
            "Test Accuracy: 0.10199999809265137\n"
          ]
        }
      ]
    }
  ],
  "metadata": {
    "colab": {
      "collapsed_sections": [],
      "provenance": []
    },
    "kernelspec": {
      "display_name": "Python 3",
      "name": "python3"
    },
    "language_info": {
      "name": "python"
    }
  },
  "nbformat": 4,
  "nbformat_minor": 0
}